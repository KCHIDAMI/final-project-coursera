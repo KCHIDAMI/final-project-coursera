{
  "nbformat": 4,
  "nbformat_minor": 0,
  "metadata": {
    "colab": {
      "name": "project v.1.4.ipynb",
      "provenance": [],
      "collapsed_sections": [],
      "machine_shape": "hm"
    },
    "kernelspec": {
      "display_name": "Python 3",
      "language": "python",
      "name": "python3"
    },
    "language_info": {
      "codemirror_mode": {
        "name": "ipython",
        "version": 3
      },
      "file_extension": ".py",
      "mimetype": "text/x-python",
      "name": "python",
      "nbconvert_exporter": "python",
      "pygments_lexer": "ipython3",
      "version": "3.6.2"
    },
    "widgets": {
      "application/vnd.jupyter.widget-state+json": {
        "279c65938f9d4a27b767a75561b10e67": {
          "model_module": "@jupyter-widgets/controls",
          "model_name": "HBoxModel",
          "state": {
            "_view_name": "HBoxView",
            "_dom_classes": [],
            "_model_name": "HBoxModel",
            "_view_module": "@jupyter-widgets/controls",
            "_model_module_version": "1.5.0",
            "_view_count": null,
            "_view_module_version": "1.5.0",
            "box_style": "",
            "layout": "IPY_MODEL_88dce12fa1944f26bb36a3e985754bcb",
            "_model_module": "@jupyter-widgets/controls",
            "children": [
              "IPY_MODEL_2668584813594730a74bb47ab26fd3f5",
              "IPY_MODEL_5c447e1e8c0446a084a100e1f3e712f0"
            ]
          }
        },
        "88dce12fa1944f26bb36a3e985754bcb": {
          "model_module": "@jupyter-widgets/base",
          "model_name": "LayoutModel",
          "state": {
            "_view_name": "LayoutView",
            "grid_template_rows": null,
            "right": null,
            "justify_content": null,
            "_view_module": "@jupyter-widgets/base",
            "overflow": null,
            "_model_module_version": "1.2.0",
            "_view_count": null,
            "flex_flow": null,
            "width": null,
            "min_width": null,
            "border": null,
            "align_items": null,
            "bottom": null,
            "_model_module": "@jupyter-widgets/base",
            "top": null,
            "grid_column": null,
            "overflow_y": null,
            "overflow_x": null,
            "grid_auto_flow": null,
            "grid_area": null,
            "grid_template_columns": null,
            "flex": null,
            "_model_name": "LayoutModel",
            "justify_items": null,
            "grid_row": null,
            "max_height": null,
            "align_content": null,
            "visibility": null,
            "align_self": null,
            "height": null,
            "min_height": null,
            "padding": null,
            "grid_auto_rows": null,
            "grid_gap": null,
            "max_width": null,
            "order": null,
            "_view_module_version": "1.2.0",
            "grid_template_areas": null,
            "object_position": null,
            "object_fit": null,
            "grid_auto_columns": null,
            "margin": null,
            "display": null,
            "left": null
          }
        },
        "2668584813594730a74bb47ab26fd3f5": {
          "model_module": "@jupyter-widgets/controls",
          "model_name": "FloatProgressModel",
          "state": {
            "_view_name": "ProgressView",
            "style": "IPY_MODEL_87e1482bcaf34a5483a275143a8694cf",
            "_dom_classes": [],
            "description": "100%",
            "_model_name": "FloatProgressModel",
            "bar_style": "success",
            "max": 3,
            "_view_module": "@jupyter-widgets/controls",
            "_model_module_version": "1.5.0",
            "value": 3,
            "_view_count": null,
            "_view_module_version": "1.5.0",
            "orientation": "horizontal",
            "min": 0,
            "description_tooltip": null,
            "_model_module": "@jupyter-widgets/controls",
            "layout": "IPY_MODEL_cfe8c28f39e047759ea224d95686b8c6"
          }
        },
        "5c447e1e8c0446a084a100e1f3e712f0": {
          "model_module": "@jupyter-widgets/controls",
          "model_name": "HTMLModel",
          "state": {
            "_view_name": "HTMLView",
            "style": "IPY_MODEL_b281fb66c7a3431293769c0a8d2eab2e",
            "_dom_classes": [],
            "description": "",
            "_model_name": "HTMLModel",
            "placeholder": "​",
            "_view_module": "@jupyter-widgets/controls",
            "_model_module_version": "1.5.0",
            "value": " 3/3 [00:25&lt;00:00,  8.66s/it]",
            "_view_count": null,
            "_view_module_version": "1.5.0",
            "description_tooltip": null,
            "_model_module": "@jupyter-widgets/controls",
            "layout": "IPY_MODEL_921d6b638e5643bbb5024a552bf64ce3"
          }
        },
        "87e1482bcaf34a5483a275143a8694cf": {
          "model_module": "@jupyter-widgets/controls",
          "model_name": "ProgressStyleModel",
          "state": {
            "_view_name": "StyleView",
            "_model_name": "ProgressStyleModel",
            "description_width": "initial",
            "_view_module": "@jupyter-widgets/base",
            "_model_module_version": "1.5.0",
            "_view_count": null,
            "_view_module_version": "1.2.0",
            "bar_color": null,
            "_model_module": "@jupyter-widgets/controls"
          }
        },
        "cfe8c28f39e047759ea224d95686b8c6": {
          "model_module": "@jupyter-widgets/base",
          "model_name": "LayoutModel",
          "state": {
            "_view_name": "LayoutView",
            "grid_template_rows": null,
            "right": null,
            "justify_content": null,
            "_view_module": "@jupyter-widgets/base",
            "overflow": null,
            "_model_module_version": "1.2.0",
            "_view_count": null,
            "flex_flow": null,
            "width": null,
            "min_width": null,
            "border": null,
            "align_items": null,
            "bottom": null,
            "_model_module": "@jupyter-widgets/base",
            "top": null,
            "grid_column": null,
            "overflow_y": null,
            "overflow_x": null,
            "grid_auto_flow": null,
            "grid_area": null,
            "grid_template_columns": null,
            "flex": null,
            "_model_name": "LayoutModel",
            "justify_items": null,
            "grid_row": null,
            "max_height": null,
            "align_content": null,
            "visibility": null,
            "align_self": null,
            "height": null,
            "min_height": null,
            "padding": null,
            "grid_auto_rows": null,
            "grid_gap": null,
            "max_width": null,
            "order": null,
            "_view_module_version": "1.2.0",
            "grid_template_areas": null,
            "object_position": null,
            "object_fit": null,
            "grid_auto_columns": null,
            "margin": null,
            "display": null,
            "left": null
          }
        },
        "b281fb66c7a3431293769c0a8d2eab2e": {
          "model_module": "@jupyter-widgets/controls",
          "model_name": "DescriptionStyleModel",
          "state": {
            "_view_name": "StyleView",
            "_model_name": "DescriptionStyleModel",
            "description_width": "",
            "_view_module": "@jupyter-widgets/base",
            "_model_module_version": "1.5.0",
            "_view_count": null,
            "_view_module_version": "1.2.0",
            "_model_module": "@jupyter-widgets/controls"
          }
        },
        "921d6b638e5643bbb5024a552bf64ce3": {
          "model_module": "@jupyter-widgets/base",
          "model_name": "LayoutModel",
          "state": {
            "_view_name": "LayoutView",
            "grid_template_rows": null,
            "right": null,
            "justify_content": null,
            "_view_module": "@jupyter-widgets/base",
            "overflow": null,
            "_model_module_version": "1.2.0",
            "_view_count": null,
            "flex_flow": null,
            "width": null,
            "min_width": null,
            "border": null,
            "align_items": null,
            "bottom": null,
            "_model_module": "@jupyter-widgets/base",
            "top": null,
            "grid_column": null,
            "overflow_y": null,
            "overflow_x": null,
            "grid_auto_flow": null,
            "grid_area": null,
            "grid_template_columns": null,
            "flex": null,
            "_model_name": "LayoutModel",
            "justify_items": null,
            "grid_row": null,
            "max_height": null,
            "align_content": null,
            "visibility": null,
            "align_self": null,
            "height": null,
            "min_height": null,
            "padding": null,
            "grid_auto_rows": null,
            "grid_gap": null,
            "max_width": null,
            "order": null,
            "_view_module_version": "1.2.0",
            "grid_template_areas": null,
            "object_position": null,
            "object_fit": null,
            "grid_auto_columns": null,
            "margin": null,
            "display": null,
            "left": null
          }
        }
      }
    },
    "accelerator": "GPU"
  },
  "cells": [
    {
      "cell_type": "markdown",
      "metadata": {
        "id": "t-SfaNStUJXo"
      },
      "source": [
        "#final project#"
      ]
    },
    {
      "cell_type": "markdown",
      "metadata": {
        "id": "JAQGiETFUJXs"
      },
      "source": [
        "# install and load libraries\n",
        "# change dataframe display"
      ]
    },
    {
      "cell_type": "code",
      "metadata": {
        "colab": {
          "base_uri": "https://localhost:8080/"
        },
        "id": "bwIUZHCY1yZ7",
        "outputId": "ff9c50e8-eae9-4443-a827-c905fb315aad"
      },
      "source": [
        "# installing py-translate for text translation(here, from russian to english)\n",
        "!pip install py-translate"
      ],
      "execution_count": 1,
      "outputs": [
        {
          "output_type": "stream",
          "text": [
            "Collecting py-translate\n",
            "  Downloading py_translate-1.0.3-py2.py3-none-any.whl (61 kB)\n",
            "\u001b[K     |████████████████████████████████| 61 kB 3.1 MB/s \n",
            "\u001b[?25hInstalling collected packages: py-translate\n",
            "Successfully installed py-translate-1.0.3\n"
          ],
          "name": "stdout"
        }
      ]
    },
    {
      "cell_type": "code",
      "metadata": {
        "colab": {
          "base_uri": "https://localhost:8080/"
        },
        "id": "oUPCJGyJixjq",
        "outputId": "3d163254-c78f-430b-e465-f7bbe466fcba"
      },
      "source": [
        "# installing jellyfish package to compute levenshtein distance\n",
        "!pip install jellyfish"
      ],
      "execution_count": 2,
      "outputs": [
        {
          "output_type": "stream",
          "text": [
            "Collecting jellyfish\n",
            "  Downloading jellyfish-0.8.2-cp37-cp37m-manylinux2014_x86_64.whl (90 kB)\n",
            "\u001b[?25l\r\u001b[K     |███▋                            | 10 kB 35.2 MB/s eta 0:00:01\r\u001b[K     |███████▎                        | 20 kB 8.6 MB/s eta 0:00:01\r\u001b[K     |██████████▉                     | 30 kB 7.6 MB/s eta 0:00:01\r\u001b[K     |██████████████▌                 | 40 kB 7.2 MB/s eta 0:00:01\r\u001b[K     |██████████████████▏             | 51 kB 3.9 MB/s eta 0:00:01\r\u001b[K     |█████████████████████▊          | 61 kB 4.1 MB/s eta 0:00:01\r\u001b[K     |█████████████████████████▍      | 71 kB 4.2 MB/s eta 0:00:01\r\u001b[K     |█████████████████████████████   | 81 kB 4.7 MB/s eta 0:00:01\r\u001b[K     |████████████████████████████████| 90 kB 3.6 MB/s \n",
            "\u001b[?25hInstalling collected packages: jellyfish\n",
            "Successfully installed jellyfish-0.8.2\n"
          ],
          "name": "stdout"
        }
      ]
    },
    {
      "cell_type": "code",
      "metadata": {
        "collapsed": true,
        "id": "nVEiqdxbUJXt"
      },
      "source": [
        "# loading the required libraries\n",
        "\n",
        "import numpy as np\n",
        "import pandas as pd \n",
        "import scipy.sparse\n",
        "import gc\n",
        "import matplotlib.pyplot as plt\n",
        "import seaborn as sns\n",
        "%matplotlib inline\n",
        "import jellyfish\n",
        "from tqdm import tqdm_notebook\n",
        "from itertools import product\n",
        "\n",
        "from string import punctuation\n",
        "from translate import translator\n",
        "from sklearn.preprocessing import LabelEncoder\n",
        "from sklearn.feature_extraction.text import TfidfVectorizer\n",
        "\n",
        "import lightgbm as lgb\n",
        "from sklearn.linear_model import LinearRegression\n",
        "from sklearn.metrics import mean_squared_error\n",
        "\n",
        "\n",
        "\n",
        "# Downcast dtypes from 64 to 32 bit to save memory\n",
        "# by creating a downcast function\n",
        "\n",
        "def downcast_dtypes(df):\n",
        "    '''\n",
        "        Changes column types in the dataframe: \n",
        "                \n",
        "                `float64` type to `float32`\n",
        "                `int64`   type to `int32`\n",
        "    '''\n",
        "    \n",
        "    # Select columns to downcast\n",
        "    float_cols = [c for c in df if df[c].dtype == \"float64\"]\n",
        "    int_cols =   [c for c in df if df[c].dtype == \"int64\"]\n",
        "    \n",
        "    # Downcast\n",
        "    df[float_cols] = df[float_cols].astype(np.float32)\n",
        "    df[int_cols]   = df[int_cols].astype(np.int32)\n",
        "    \n",
        "    return df\n",
        "\n",
        "\n",
        "\n",
        "# setting the dataframes display\n",
        "\n",
        "pd.set_option('display.max_rows', 600)\n",
        "pd.set_option('display.max_columns', 50)"
      ],
      "execution_count": 175,
      "outputs": []
    },
    {
      "cell_type": "markdown",
      "metadata": {
        "id": "O-KTjuRSUJXv"
      },
      "source": [
        "# Load data subset"
      ]
    },
    {
      "cell_type": "code",
      "metadata": {
        "collapsed": true,
        "id": "pLIQ_VK0UJXv"
      },
      "source": [
        "sales = pd.read_csv(\"sales_train.csv\",parse_dates=['date'])\n",
        "item_cats = pd.read_csv('item_categories.csv')\n",
        "items = pd.read_csv('items.csv')\n",
        "shops = pd.read_csv('shops.csv')\n",
        "test = pd.read_csv('test.csv')"
      ],
      "execution_count": 176,
      "outputs": []
    },
    {
      "cell_type": "markdown",
      "metadata": {
        "id": "ASuEEg4yUJXw"
      },
      "source": [
        "## EDA"
      ]
    },
    {
      "cell_type": "markdown",
      "metadata": {
        "id": "JHmk4OHyJXzG"
      },
      "source": [
        "### sales table"
      ]
    },
    {
      "cell_type": "code",
      "metadata": {
        "colab": {
          "base_uri": "https://localhost:8080/",
          "height": 340
        },
        "id": "WNfn8zb_UJXw",
        "outputId": "27aa2fd5-fed8-48a6-a7dc-e7c4214be3e3"
      },
      "source": [
        "# checking sales shape\n",
        "print(f'sales dataframe shape: {sales.shape}')\n",
        "\n",
        "# looking for missing values\n",
        "print(sales.isna().sum())\n",
        "\n",
        "sales.head()"
      ],
      "execution_count": 177,
      "outputs": [
        {
          "output_type": "stream",
          "text": [
            "sales dataframe shape: (2935849, 6)\n",
            "date              0\n",
            "date_block_num    0\n",
            "shop_id           0\n",
            "item_id           0\n",
            "item_price        0\n",
            "item_cnt_day      0\n",
            "dtype: int64\n"
          ],
          "name": "stdout"
        },
        {
          "output_type": "execute_result",
          "data": {
            "text/html": [
              "<div>\n",
              "<style scoped>\n",
              "    .dataframe tbody tr th:only-of-type {\n",
              "        vertical-align: middle;\n",
              "    }\n",
              "\n",
              "    .dataframe tbody tr th {\n",
              "        vertical-align: top;\n",
              "    }\n",
              "\n",
              "    .dataframe thead th {\n",
              "        text-align: right;\n",
              "    }\n",
              "</style>\n",
              "<table border=\"1\" class=\"dataframe\">\n",
              "  <thead>\n",
              "    <tr style=\"text-align: right;\">\n",
              "      <th></th>\n",
              "      <th>date</th>\n",
              "      <th>date_block_num</th>\n",
              "      <th>shop_id</th>\n",
              "      <th>item_id</th>\n",
              "      <th>item_price</th>\n",
              "      <th>item_cnt_day</th>\n",
              "    </tr>\n",
              "  </thead>\n",
              "  <tbody>\n",
              "    <tr>\n",
              "      <th>0</th>\n",
              "      <td>2013-02-01</td>\n",
              "      <td>0</td>\n",
              "      <td>59</td>\n",
              "      <td>22154</td>\n",
              "      <td>999.00</td>\n",
              "      <td>1.0</td>\n",
              "    </tr>\n",
              "    <tr>\n",
              "      <th>1</th>\n",
              "      <td>2013-03-01</td>\n",
              "      <td>0</td>\n",
              "      <td>25</td>\n",
              "      <td>2552</td>\n",
              "      <td>899.00</td>\n",
              "      <td>1.0</td>\n",
              "    </tr>\n",
              "    <tr>\n",
              "      <th>2</th>\n",
              "      <td>2013-05-01</td>\n",
              "      <td>0</td>\n",
              "      <td>25</td>\n",
              "      <td>2552</td>\n",
              "      <td>899.00</td>\n",
              "      <td>-1.0</td>\n",
              "    </tr>\n",
              "    <tr>\n",
              "      <th>3</th>\n",
              "      <td>2013-06-01</td>\n",
              "      <td>0</td>\n",
              "      <td>25</td>\n",
              "      <td>2554</td>\n",
              "      <td>1709.05</td>\n",
              "      <td>1.0</td>\n",
              "    </tr>\n",
              "    <tr>\n",
              "      <th>4</th>\n",
              "      <td>2013-01-15</td>\n",
              "      <td>0</td>\n",
              "      <td>25</td>\n",
              "      <td>2555</td>\n",
              "      <td>1099.00</td>\n",
              "      <td>1.0</td>\n",
              "    </tr>\n",
              "  </tbody>\n",
              "</table>\n",
              "</div>"
            ],
            "text/plain": [
              "        date  date_block_num  shop_id  item_id  item_price  item_cnt_day\n",
              "0 2013-02-01               0       59    22154      999.00           1.0\n",
              "1 2013-03-01               0       25     2552      899.00           1.0\n",
              "2 2013-05-01               0       25     2552      899.00          -1.0\n",
              "3 2013-06-01               0       25     2554     1709.05           1.0\n",
              "4 2013-01-15               0       25     2555     1099.00           1.0"
            ]
          },
          "metadata": {
            "tags": []
          },
          "execution_count": 177
        }
      ]
    },
    {
      "cell_type": "code",
      "metadata": {
        "colab": {
          "base_uri": "https://localhost:8080/",
          "height": 297
        },
        "id": "vVr-By8ZQqhR",
        "outputId": "858b05a6-32ea-43ee-f73c-7410e3d50729"
      },
      "source": [
        "sales.describe()"
      ],
      "execution_count": 178,
      "outputs": [
        {
          "output_type": "execute_result",
          "data": {
            "text/html": [
              "<div>\n",
              "<style scoped>\n",
              "    .dataframe tbody tr th:only-of-type {\n",
              "        vertical-align: middle;\n",
              "    }\n",
              "\n",
              "    .dataframe tbody tr th {\n",
              "        vertical-align: top;\n",
              "    }\n",
              "\n",
              "    .dataframe thead th {\n",
              "        text-align: right;\n",
              "    }\n",
              "</style>\n",
              "<table border=\"1\" class=\"dataframe\">\n",
              "  <thead>\n",
              "    <tr style=\"text-align: right;\">\n",
              "      <th></th>\n",
              "      <th>date_block_num</th>\n",
              "      <th>shop_id</th>\n",
              "      <th>item_id</th>\n",
              "      <th>item_price</th>\n",
              "      <th>item_cnt_day</th>\n",
              "    </tr>\n",
              "  </thead>\n",
              "  <tbody>\n",
              "    <tr>\n",
              "      <th>count</th>\n",
              "      <td>2.935849e+06</td>\n",
              "      <td>2.935849e+06</td>\n",
              "      <td>2.935849e+06</td>\n",
              "      <td>2.935849e+06</td>\n",
              "      <td>2.935849e+06</td>\n",
              "    </tr>\n",
              "    <tr>\n",
              "      <th>mean</th>\n",
              "      <td>1.456991e+01</td>\n",
              "      <td>3.300173e+01</td>\n",
              "      <td>1.019723e+04</td>\n",
              "      <td>8.908532e+02</td>\n",
              "      <td>1.242641e+00</td>\n",
              "    </tr>\n",
              "    <tr>\n",
              "      <th>std</th>\n",
              "      <td>9.422988e+00</td>\n",
              "      <td>1.622697e+01</td>\n",
              "      <td>6.324297e+03</td>\n",
              "      <td>1.729800e+03</td>\n",
              "      <td>2.618834e+00</td>\n",
              "    </tr>\n",
              "    <tr>\n",
              "      <th>min</th>\n",
              "      <td>0.000000e+00</td>\n",
              "      <td>0.000000e+00</td>\n",
              "      <td>0.000000e+00</td>\n",
              "      <td>-1.000000e+00</td>\n",
              "      <td>-2.200000e+01</td>\n",
              "    </tr>\n",
              "    <tr>\n",
              "      <th>25%</th>\n",
              "      <td>7.000000e+00</td>\n",
              "      <td>2.200000e+01</td>\n",
              "      <td>4.476000e+03</td>\n",
              "      <td>2.490000e+02</td>\n",
              "      <td>1.000000e+00</td>\n",
              "    </tr>\n",
              "    <tr>\n",
              "      <th>50%</th>\n",
              "      <td>1.400000e+01</td>\n",
              "      <td>3.100000e+01</td>\n",
              "      <td>9.343000e+03</td>\n",
              "      <td>3.990000e+02</td>\n",
              "      <td>1.000000e+00</td>\n",
              "    </tr>\n",
              "    <tr>\n",
              "      <th>75%</th>\n",
              "      <td>2.300000e+01</td>\n",
              "      <td>4.700000e+01</td>\n",
              "      <td>1.568400e+04</td>\n",
              "      <td>9.990000e+02</td>\n",
              "      <td>1.000000e+00</td>\n",
              "    </tr>\n",
              "    <tr>\n",
              "      <th>max</th>\n",
              "      <td>3.300000e+01</td>\n",
              "      <td>5.900000e+01</td>\n",
              "      <td>2.216900e+04</td>\n",
              "      <td>3.079800e+05</td>\n",
              "      <td>2.169000e+03</td>\n",
              "    </tr>\n",
              "  </tbody>\n",
              "</table>\n",
              "</div>"
            ],
            "text/plain": [
              "       date_block_num       shop_id       item_id    item_price  item_cnt_day\n",
              "count    2.935849e+06  2.935849e+06  2.935849e+06  2.935849e+06  2.935849e+06\n",
              "mean     1.456991e+01  3.300173e+01  1.019723e+04  8.908532e+02  1.242641e+00\n",
              "std      9.422988e+00  1.622697e+01  6.324297e+03  1.729800e+03  2.618834e+00\n",
              "min      0.000000e+00  0.000000e+00  0.000000e+00 -1.000000e+00 -2.200000e+01\n",
              "25%      7.000000e+00  2.200000e+01  4.476000e+03  2.490000e+02  1.000000e+00\n",
              "50%      1.400000e+01  3.100000e+01  9.343000e+03  3.990000e+02  1.000000e+00\n",
              "75%      2.300000e+01  4.700000e+01  1.568400e+04  9.990000e+02  1.000000e+00\n",
              "max      3.300000e+01  5.900000e+01  2.216900e+04  3.079800e+05  2.169000e+03"
            ]
          },
          "metadata": {
            "tags": []
          },
          "execution_count": 178
        }
      ]
    },
    {
      "cell_type": "markdown",
      "metadata": {
        "id": "s1sS5IRxoWZj"
      },
      "source": [
        "remarks from those statistics :\n",
        "- there is at least one outlier for item_price\n",
        "- there is at least one negative item_price\n",
        "- there is at least one outlier for item_cnt_day"
      ]
    },
    {
      "cell_type": "code",
      "metadata": {
        "colab": {
          "base_uri": "https://localhost:8080/",
          "height": 1000
        },
        "id": "e5Z91ffM4Vi-",
        "outputId": "a4506b4e-5b69-4daa-b38f-2d6be8642cf7"
      },
      "source": [
        "# box plot to visualize oultiers\n",
        "for column in ['item_price','item_cnt_day']:\n",
        "  plt.figure(figsize=(20,12))\n",
        "  sns.boxplot(x=sales[column],data=sales)\n",
        "  plt.show()"
      ],
      "execution_count": 179,
      "outputs": [
        {
          "output_type": "display_data",
          "data": {
            "image/png": "[encoded data removed]",
            "text/plain": [
              "<Figure size 1440x864 with 1 Axes>"
            ]
          },
          "metadata": {
            "tags": [],
            "needs_background": "light"
          }
        },
        {
          "output_type": "display_data",
          "data": {
            "image/png": "[encoded data removed]",
            "text/plain": [
              "<Figure size 1440x864 with 1 Axes>"
            ]
          },
          "metadata": {
            "tags": [],
            "needs_background": "light"
          }
        }
      ]
    },
    {
      "cell_type": "markdown",
      "metadata": {
        "id": "iBV6w38tqd7U"
      },
      "source": [
        "item_price outliers:"
      ]
    },
    {
      "cell_type": "code",
      "metadata": {
        "colab": {
          "base_uri": "https://localhost:8080/",
          "height": 173
        },
        "id": "oO9E3u7mq2R1",
        "outputId": "cb2b11c3-671e-48bd-e279-e70db41be1da"
      },
      "source": [
        "# according to the correponding box plot let's check for item_price > 45000\n",
        "sales[sales['item_price']>45000]"
      ],
      "execution_count": 180,
      "outputs": [
        {
          "output_type": "execute_result",
          "data": {
            "text/html": [
              "<div>\n",
              "<style scoped>\n",
              "    .dataframe tbody tr th:only-of-type {\n",
              "        vertical-align: middle;\n",
              "    }\n",
              "\n",
              "    .dataframe tbody tr th {\n",
              "        vertical-align: top;\n",
              "    }\n",
              "\n",
              "    .dataframe thead th {\n",
              "        text-align: right;\n",
              "    }\n",
              "</style>\n",
              "<table border=\"1\" class=\"dataframe\">\n",
              "  <thead>\n",
              "    <tr style=\"text-align: right;\">\n",
              "      <th></th>\n",
              "      <th>date</th>\n",
              "      <th>date_block_num</th>\n",
              "      <th>shop_id</th>\n",
              "      <th>item_id</th>\n",
              "      <th>item_price</th>\n",
              "      <th>item_cnt_day</th>\n",
              "    </tr>\n",
              "  </thead>\n",
              "  <tbody>\n",
              "    <tr>\n",
              "      <th>885138</th>\n",
              "      <td>2013-09-17</td>\n",
              "      <td>8</td>\n",
              "      <td>12</td>\n",
              "      <td>11365</td>\n",
              "      <td>59200.0</td>\n",
              "      <td>1.0</td>\n",
              "    </tr>\n",
              "    <tr>\n",
              "      <th>1163158</th>\n",
              "      <td>2013-12-13</td>\n",
              "      <td>11</td>\n",
              "      <td>12</td>\n",
              "      <td>6066</td>\n",
              "      <td>307980.0</td>\n",
              "      <td>1.0</td>\n",
              "    </tr>\n",
              "    <tr>\n",
              "      <th>1488135</th>\n",
              "      <td>2014-03-20</td>\n",
              "      <td>14</td>\n",
              "      <td>25</td>\n",
              "      <td>13199</td>\n",
              "      <td>50999.0</td>\n",
              "      <td>1.0</td>\n",
              "    </tr>\n",
              "    <tr>\n",
              "      <th>2327159</th>\n",
              "      <td>2015-01-29</td>\n",
              "      <td>24</td>\n",
              "      <td>12</td>\n",
              "      <td>7241</td>\n",
              "      <td>49782.0</td>\n",
              "      <td>1.0</td>\n",
              "    </tr>\n",
              "  </tbody>\n",
              "</table>\n",
              "</div>"
            ],
            "text/plain": [
              "              date  date_block_num  shop_id  item_id  item_price  item_cnt_day\n",
              "885138  2013-09-17               8       12    11365     59200.0           1.0\n",
              "1163158 2013-12-13              11       12     6066    307980.0           1.0\n",
              "1488135 2014-03-20              14       25    13199     50999.0           1.0\n",
              "2327159 2015-01-29              24       12     7241     49782.0           1.0"
            ]
          },
          "metadata": {
            "tags": []
          },
          "execution_count": 180
        }
      ]
    },
    {
      "cell_type": "code",
      "metadata": {
        "colab": {
          "base_uri": "https://localhost:8080/"
        },
        "id": "DIfxsyN398-q",
        "outputId": "fb4193f3-dbc7-4b31-debe-ee4c4427b2e1"
      },
      "source": [
        "sales[sales['item_price']>45000]['item_id']"
      ],
      "execution_count": 181,
      "outputs": [
        {
          "output_type": "execute_result",
          "data": {
            "text/plain": [
              "885138     11365\n",
              "1163158     6066\n",
              "1488135    13199\n",
              "2327159     7241\n",
              "Name: item_id, dtype: int64"
            ]
          },
          "metadata": {
            "tags": []
          },
          "execution_count": 181
        }
      ]
    },
    {
      "cell_type": "code",
      "metadata": {
        "colab": {
          "base_uri": "https://localhost:8080/",
          "height": 578
        },
        "id": "pIeLvattrNry",
        "outputId": "bcc91786-c1ee-40df-db4c-e6725b18055c"
      },
      "source": [
        "# let's check if there are other records for these items with different prices\n",
        "item_ids_outliers = sales[sales['item_price']>45000]['item_id']\n",
        "\n",
        "\n",
        "display(sales.loc[sales['item_id'].isin(item_ids_outliers), :].groupby('item_id').agg({'item_price':'count'}))\n",
        "display(sales.loc[sales['item_id'].isin(item_ids_outliers), :].groupby('item_id').agg({'item_price':'mean'}))\n",
        "display(sales.loc[sales['item_id'].isin(item_ids_outliers), :].groupby('item_id').agg({'item_price':'median'}))"
      ],
      "execution_count": 182,
      "outputs": [
        {
          "output_type": "display_data",
          "data": {
            "text/html": [
              "<div>\n",
              "<style scoped>\n",
              "    .dataframe tbody tr th:only-of-type {\n",
              "        vertical-align: middle;\n",
              "    }\n",
              "\n",
              "    .dataframe tbody tr th {\n",
              "        vertical-align: top;\n",
              "    }\n",
              "\n",
              "    .dataframe thead th {\n",
              "        text-align: right;\n",
              "    }\n",
              "</style>\n",
              "<table border=\"1\" class=\"dataframe\">\n",
              "  <thead>\n",
              "    <tr style=\"text-align: right;\">\n",
              "      <th></th>\n",
              "      <th>item_price</th>\n",
              "    </tr>\n",
              "    <tr>\n",
              "      <th>item_id</th>\n",
              "      <th></th>\n",
              "    </tr>\n",
              "  </thead>\n",
              "  <tbody>\n",
              "    <tr>\n",
              "      <th>6066</th>\n",
              "      <td>1</td>\n",
              "    </tr>\n",
              "    <tr>\n",
              "      <th>7241</th>\n",
              "      <td>1</td>\n",
              "    </tr>\n",
              "    <tr>\n",
              "      <th>11365</th>\n",
              "      <td>242</td>\n",
              "    </tr>\n",
              "    <tr>\n",
              "      <th>13199</th>\n",
              "      <td>1</td>\n",
              "    </tr>\n",
              "  </tbody>\n",
              "</table>\n",
              "</div>"
            ],
            "text/plain": [
              "         item_price\n",
              "item_id            \n",
              "6066              1\n",
              "7241              1\n",
              "11365           242\n",
              "13199             1"
            ]
          },
          "metadata": {
            "tags": []
          }
        },
        {
          "output_type": "display_data",
          "data": {
            "text/html": [
              "<div>\n",
              "<style scoped>\n",
              "    .dataframe tbody tr th:only-of-type {\n",
              "        vertical-align: middle;\n",
              "    }\n",
              "\n",
              "    .dataframe tbody tr th {\n",
              "        vertical-align: top;\n",
              "    }\n",
              "\n",
              "    .dataframe thead th {\n",
              "        text-align: right;\n",
              "    }\n",
              "</style>\n",
              "<table border=\"1\" class=\"dataframe\">\n",
              "  <thead>\n",
              "    <tr style=\"text-align: right;\">\n",
              "      <th></th>\n",
              "      <th>item_price</th>\n",
              "    </tr>\n",
              "    <tr>\n",
              "      <th>item_id</th>\n",
              "      <th></th>\n",
              "    </tr>\n",
              "  </thead>\n",
              "  <tbody>\n",
              "    <tr>\n",
              "      <th>6066</th>\n",
              "      <td>307980.000000</td>\n",
              "    </tr>\n",
              "    <tr>\n",
              "      <th>7241</th>\n",
              "      <td>49782.000000</td>\n",
              "    </tr>\n",
              "    <tr>\n",
              "      <th>11365</th>\n",
              "      <td>1887.565416</td>\n",
              "    </tr>\n",
              "    <tr>\n",
              "      <th>13199</th>\n",
              "      <td>50999.000000</td>\n",
              "    </tr>\n",
              "  </tbody>\n",
              "</table>\n",
              "</div>"
            ],
            "text/plain": [
              "            item_price\n",
              "item_id               \n",
              "6066     307980.000000\n",
              "7241      49782.000000\n",
              "11365      1887.565416\n",
              "13199     50999.000000"
            ]
          },
          "metadata": {
            "tags": []
          }
        },
        {
          "output_type": "display_data",
          "data": {
            "text/html": [
              "<div>\n",
              "<style scoped>\n",
              "    .dataframe tbody tr th:only-of-type {\n",
              "        vertical-align: middle;\n",
              "    }\n",
              "\n",
              "    .dataframe tbody tr th {\n",
              "        vertical-align: top;\n",
              "    }\n",
              "\n",
              "    .dataframe thead th {\n",
              "        text-align: right;\n",
              "    }\n",
              "</style>\n",
              "<table border=\"1\" class=\"dataframe\">\n",
              "  <thead>\n",
              "    <tr style=\"text-align: right;\">\n",
              "      <th></th>\n",
              "      <th>item_price</th>\n",
              "    </tr>\n",
              "    <tr>\n",
              "      <th>item_id</th>\n",
              "      <th></th>\n",
              "    </tr>\n",
              "  </thead>\n",
              "  <tbody>\n",
              "    <tr>\n",
              "      <th>6066</th>\n",
              "      <td>307980.00</td>\n",
              "    </tr>\n",
              "    <tr>\n",
              "      <th>7241</th>\n",
              "      <td>49782.00</td>\n",
              "    </tr>\n",
              "    <tr>\n",
              "      <th>11365</th>\n",
              "      <td>1203.75</td>\n",
              "    </tr>\n",
              "    <tr>\n",
              "      <th>13199</th>\n",
              "      <td>50999.00</td>\n",
              "    </tr>\n",
              "  </tbody>\n",
              "</table>\n",
              "</div>"
            ],
            "text/plain": [
              "         item_price\n",
              "item_id            \n",
              "6066      307980.00\n",
              "7241       49782.00\n",
              "11365       1203.75\n",
              "13199      50999.00"
            ]
          },
          "metadata": {
            "tags": []
          }
        }
      ]
    },
    {
      "cell_type": "markdown",
      "metadata": {
        "id": "bTBmDWpTrZ7j"
      },
      "source": [
        "we can see that we have only one record for items 6066, 7241 and 13199\n",
        "but  242 records for item 11365 with an item_price mean of 1887.56 and a median of 1203.75.\n",
        "let's see how many records we have for these items in test set \n"
      ]
    },
    {
      "cell_type": "code",
      "metadata": {
        "colab": {
          "base_uri": "https://localhost:8080/"
        },
        "id": "a-3LI-bZCeBm",
        "outputId": "3482ec1a-2ea0-4673-ff1f-36ae9f75837b"
      },
      "source": [
        "# number of records for these items in test set\n",
        "for item in item_ids_outliers:\n",
        "  print(f'number of record for item_id {item} in test set is ',len(test[test.item_id==item]))"
      ],
      "execution_count": 183,
      "outputs": [
        {
          "output_type": "stream",
          "text": [
            "number of record for item_id 11365 in test set is  42\n",
            "number of record for item_id 6066 in test set is  0\n",
            "number of record for item_id 13199 in test set is  0\n",
            "number of record for item_id 7241 in test set is  0\n"
          ],
          "name": "stdout"
        }
      ]
    },
    {
      "cell_type": "code",
      "metadata": {
        "id": "7A-N3BuzDf6E"
      },
      "source": [
        "# dropping the outlier items that have only one record in sales and none in test\n",
        "sales = sales[~sales.item_id.isin([6066,7241,13199])] "
      ],
      "execution_count": 184,
      "outputs": []
    },
    {
      "cell_type": "code",
      "metadata": {
        "id": "Q1UEaBZ-Eem-"
      },
      "source": [
        "# for the item 11365, since we have an outlier for one of its records we gonna replace it with the median \n",
        "sales.iloc[885138,4]=sales[sales.item_id==11365]['item_price'].median()"
      ],
      "execution_count": 185,
      "outputs": []
    },
    {
      "cell_type": "code",
      "metadata": {
        "colab": {
          "base_uri": "https://localhost:8080/"
        },
        "id": "amT8UbF1NFsx",
        "outputId": "b16fd9a2-233b-4bea-ad05-2deafcd7ead4"
      },
      "source": [
        "del item_ids_outliers\n",
        "gc.collect()"
      ],
      "execution_count": 186,
      "outputs": [
        {
          "output_type": "execute_result",
          "data": {
            "text/plain": [
              "5702"
            ]
          },
          "metadata": {
            "tags": []
          },
          "execution_count": 186
        }
      ]
    },
    {
      "cell_type": "markdown",
      "metadata": {
        "id": "vViZc5hTQxzs"
      },
      "source": [
        "negative item_price:\n",
        "- we have also an item_price equal to -1, let's check for all item_price<0"
      ]
    },
    {
      "cell_type": "code",
      "metadata": {
        "colab": {
          "base_uri": "https://localhost:8080/",
          "height": 80
        },
        "id": "6DKKLBosQXVI",
        "outputId": "f03245fc-ffa6-430e-f38b-bef37490ba3f"
      },
      "source": [
        "sales[sales['item_price']<0]"
      ],
      "execution_count": 187,
      "outputs": [
        {
          "output_type": "execute_result",
          "data": {
            "text/html": [
              "<div>\n",
              "<style scoped>\n",
              "    .dataframe tbody tr th:only-of-type {\n",
              "        vertical-align: middle;\n",
              "    }\n",
              "\n",
              "    .dataframe tbody tr th {\n",
              "        vertical-align: top;\n",
              "    }\n",
              "\n",
              "    .dataframe thead th {\n",
              "        text-align: right;\n",
              "    }\n",
              "</style>\n",
              "<table border=\"1\" class=\"dataframe\">\n",
              "  <thead>\n",
              "    <tr style=\"text-align: right;\">\n",
              "      <th></th>\n",
              "      <th>date</th>\n",
              "      <th>date_block_num</th>\n",
              "      <th>shop_id</th>\n",
              "      <th>item_id</th>\n",
              "      <th>item_price</th>\n",
              "      <th>item_cnt_day</th>\n",
              "    </tr>\n",
              "  </thead>\n",
              "  <tbody>\n",
              "    <tr>\n",
              "      <th>484683</th>\n",
              "      <td>2013-05-15</td>\n",
              "      <td>4</td>\n",
              "      <td>32</td>\n",
              "      <td>2973</td>\n",
              "      <td>-1.0</td>\n",
              "      <td>1.0</td>\n",
              "    </tr>\n",
              "  </tbody>\n",
              "</table>\n",
              "</div>"
            ],
            "text/plain": [
              "             date  date_block_num  shop_id  item_id  item_price  item_cnt_day\n",
              "484683 2013-05-15               4       32     2973        -1.0           1.0"
            ]
          },
          "metadata": {
            "tags": []
          },
          "execution_count": 187
        }
      ]
    },
    {
      "cell_type": "code",
      "metadata": {
        "colab": {
          "base_uri": "https://localhost:8080/",
          "height": 142
        },
        "id": "_B0S-eGRRDes",
        "outputId": "7438fd08-ad3d-4374-cf9d-dae330c9e991"
      },
      "source": [
        "# let's see if we don't have another record with the corresponding item to check for the right price (for the same period and same shop)\n",
        "sales[(sales['item_id']==2973) & (sales['shop_id']==32) & (sales['date_block_num']==4)]"
      ],
      "execution_count": 188,
      "outputs": [
        {
          "output_type": "execute_result",
          "data": {
            "text/html": [
              "<div>\n",
              "<style scoped>\n",
              "    .dataframe tbody tr th:only-of-type {\n",
              "        vertical-align: middle;\n",
              "    }\n",
              "\n",
              "    .dataframe tbody tr th {\n",
              "        vertical-align: top;\n",
              "    }\n",
              "\n",
              "    .dataframe thead th {\n",
              "        text-align: right;\n",
              "    }\n",
              "</style>\n",
              "<table border=\"1\" class=\"dataframe\">\n",
              "  <thead>\n",
              "    <tr style=\"text-align: right;\">\n",
              "      <th></th>\n",
              "      <th>date</th>\n",
              "      <th>date_block_num</th>\n",
              "      <th>shop_id</th>\n",
              "      <th>item_id</th>\n",
              "      <th>item_price</th>\n",
              "      <th>item_cnt_day</th>\n",
              "    </tr>\n",
              "  </thead>\n",
              "  <tbody>\n",
              "    <tr>\n",
              "      <th>484682</th>\n",
              "      <td>2013-05-23</td>\n",
              "      <td>4</td>\n",
              "      <td>32</td>\n",
              "      <td>2973</td>\n",
              "      <td>1249.0</td>\n",
              "      <td>1.0</td>\n",
              "    </tr>\n",
              "    <tr>\n",
              "      <th>484683</th>\n",
              "      <td>2013-05-15</td>\n",
              "      <td>4</td>\n",
              "      <td>32</td>\n",
              "      <td>2973</td>\n",
              "      <td>-1.0</td>\n",
              "      <td>1.0</td>\n",
              "    </tr>\n",
              "    <tr>\n",
              "      <th>484684</th>\n",
              "      <td>2013-06-05</td>\n",
              "      <td>4</td>\n",
              "      <td>32</td>\n",
              "      <td>2973</td>\n",
              "      <td>2499.0</td>\n",
              "      <td>1.0</td>\n",
              "    </tr>\n",
              "  </tbody>\n",
              "</table>\n",
              "</div>"
            ],
            "text/plain": [
              "             date  date_block_num  shop_id  item_id  item_price  item_cnt_day\n",
              "484682 2013-05-23               4       32     2973      1249.0           1.0\n",
              "484683 2013-05-15               4       32     2973        -1.0           1.0\n",
              "484684 2013-06-05               4       32     2973      2499.0           1.0"
            ]
          },
          "metadata": {
            "tags": []
          },
          "execution_count": 188
        }
      ]
    },
    {
      "cell_type": "markdown",
      "metadata": {
        "id": "rkuPs8puSS35"
      },
      "source": [
        "hard to say if it's 1249 or 2499 which is by the way the double, we are going to fill this value with the item_price mean"
      ]
    },
    {
      "cell_type": "code",
      "metadata": {
        "id": "Y7sJ1qyOSz4D"
      },
      "source": [
        "sales.iloc[484683,4] = sales[(sales['item_id']==2973) & (sales['shop_id']==32) & (sales['date_block_num']==4)]['item_price'].mean()"
      ],
      "execution_count": 189,
      "outputs": []
    },
    {
      "cell_type": "markdown",
      "metadata": {
        "id": "rpzSl3h6pfE6"
      },
      "source": [
        "item_cnt_day outlier:\n",
        "- let's check for item_cnt_day maximum and see what is the corresponding item"
      ]
    },
    {
      "cell_type": "code",
      "metadata": {
        "colab": {
          "base_uri": "https://localhost:8080/",
          "height": 111
        },
        "id": "Bc8mdX6rpeJK",
        "outputId": "35390780-d6b7-4b78-a29f-f23486a3787f"
      },
      "source": [
        "sales[sales['item_cnt_day']>=1000]"
      ],
      "execution_count": 190,
      "outputs": [
        {
          "output_type": "execute_result",
          "data": {
            "text/html": [
              "<div>\n",
              "<style scoped>\n",
              "    .dataframe tbody tr th:only-of-type {\n",
              "        vertical-align: middle;\n",
              "    }\n",
              "\n",
              "    .dataframe tbody tr th {\n",
              "        vertical-align: top;\n",
              "    }\n",
              "\n",
              "    .dataframe thead th {\n",
              "        text-align: right;\n",
              "    }\n",
              "</style>\n",
              "<table border=\"1\" class=\"dataframe\">\n",
              "  <thead>\n",
              "    <tr style=\"text-align: right;\">\n",
              "      <th></th>\n",
              "      <th>date</th>\n",
              "      <th>date_block_num</th>\n",
              "      <th>shop_id</th>\n",
              "      <th>item_id</th>\n",
              "      <th>item_price</th>\n",
              "      <th>item_cnt_day</th>\n",
              "    </tr>\n",
              "  </thead>\n",
              "  <tbody>\n",
              "    <tr>\n",
              "      <th>2326930</th>\n",
              "      <td>2015-01-15</td>\n",
              "      <td>24</td>\n",
              "      <td>12</td>\n",
              "      <td>20949</td>\n",
              "      <td>4.000000</td>\n",
              "      <td>1000.0</td>\n",
              "    </tr>\n",
              "    <tr>\n",
              "      <th>2909818</th>\n",
              "      <td>2015-10-28</td>\n",
              "      <td>33</td>\n",
              "      <td>12</td>\n",
              "      <td>11373</td>\n",
              "      <td>0.908714</td>\n",
              "      <td>2169.0</td>\n",
              "    </tr>\n",
              "  </tbody>\n",
              "</table>\n",
              "</div>"
            ],
            "text/plain": [
              "              date  date_block_num  shop_id  item_id  item_price  item_cnt_day\n",
              "2326930 2015-01-15              24       12    20949    4.000000        1000.0\n",
              "2909818 2015-10-28              33       12    11373    0.908714        2169.0"
            ]
          },
          "metadata": {
            "tags": []
          },
          "execution_count": 190
        }
      ]
    },
    {
      "cell_type": "code",
      "metadata": {
        "colab": {
          "base_uri": "https://localhost:8080/",
          "height": 357
        },
        "id": "oqZZzzzEp8fQ",
        "outputId": "eb4ea5db-4ad5-43ba-8a98-3758fe0b4945"
      },
      "source": [
        "# now we can check the item_cnt_day for all the records with the same item_id\n",
        "item_cnt_day_outliers_ids = sales[sales['item_cnt_day']>=1000]['item_id']\n",
        "for item in item_cnt_day_outliers_ids:\n",
        "  print(item)\n",
        "  display(sales[sales['item_id']==item]['item_cnt_day'].describe())"
      ],
      "execution_count": 191,
      "outputs": [
        {
          "output_type": "stream",
          "text": [
            "20949\n"
          ],
          "name": "stdout"
        },
        {
          "output_type": "display_data",
          "data": {
            "text/plain": [
              "count    31340.000000\n",
              "mean         5.987301\n",
              "std         11.497655\n",
              "min        -16.000000\n",
              "25%          2.000000\n",
              "50%          3.000000\n",
              "75%          7.000000\n",
              "max       1000.000000\n",
              "Name: item_cnt_day, dtype: float64"
            ]
          },
          "metadata": {
            "tags": []
          }
        },
        {
          "output_type": "stream",
          "text": [
            "11373\n"
          ],
          "name": "stdout"
        },
        {
          "output_type": "display_data",
          "data": {
            "text/plain": [
              "count     464.000000\n",
              "mean       14.144397\n",
              "std       104.604937\n",
              "min         1.000000\n",
              "25%         2.000000\n",
              "50%         4.000000\n",
              "75%         8.000000\n",
              "max      2169.000000\n",
              "Name: item_cnt_day, dtype: float64"
            ]
          },
          "metadata": {
            "tags": []
          }
        }
      ]
    },
    {
      "cell_type": "markdown",
      "metadata": {
        "id": "HRUPHvbVq9gV"
      },
      "source": [
        "- for item_id 20949, mean is 5.99 and median is 3 so 1000 doesn't seem to be a correct recording so we are going to drop this row\n",
        "\n",
        "- for item_id 11373, mean is 14 and median is 4 so 2169 doesn't seem to be a correct recording so we are going to drop this row"
      ]
    },
    {
      "cell_type": "code",
      "metadata": {
        "id": "bHFJLKlJrSSI"
      },
      "source": [
        "# dropping the rows with item_cnt_day < 1000 \n",
        "sales = sales[sales['item_cnt_day']<1000]"
      ],
      "execution_count": 192,
      "outputs": []
    },
    {
      "cell_type": "code",
      "metadata": {
        "colab": {
          "base_uri": "https://localhost:8080/"
        },
        "id": "c3qxqC77NT7y",
        "outputId": "fe796761-939a-4829-e6ec-0311d4accc00"
      },
      "source": [
        "del item_cnt_day_outliers_ids\n",
        "gc.collect()"
      ],
      "execution_count": 193,
      "outputs": [
        {
          "output_type": "execute_result",
          "data": {
            "text/plain": [
              "299"
            ]
          },
          "metadata": {
            "tags": []
          },
          "execution_count": 193
        }
      ]
    },
    {
      "cell_type": "code",
      "metadata": {
        "colab": {
          "base_uri": "https://localhost:8080/",
          "height": 252
        },
        "id": "Mnfd4x-xiNAm",
        "outputId": "52d70a6d-1392-4d7e-c009-cac8ef77321a"
      },
      "source": [
        "# now that we took care of all the ouliers and incorrect values, let's check for duplicate rows in our sales dataframe\n",
        "print('number of duplicated rows: ',len(sales[sales.duplicated()==True]))\n",
        "sales[sales.duplicated()==True]"
      ],
      "execution_count": 194,
      "outputs": [
        {
          "output_type": "stream",
          "text": [
            "number of duplicated rows:  6\n"
          ],
          "name": "stdout"
        },
        {
          "output_type": "execute_result",
          "data": {
            "text/html": [
              "<div>\n",
              "<style scoped>\n",
              "    .dataframe tbody tr th:only-of-type {\n",
              "        vertical-align: middle;\n",
              "    }\n",
              "\n",
              "    .dataframe tbody tr th {\n",
              "        vertical-align: top;\n",
              "    }\n",
              "\n",
              "    .dataframe thead th {\n",
              "        text-align: right;\n",
              "    }\n",
              "</style>\n",
              "<table border=\"1\" class=\"dataframe\">\n",
              "  <thead>\n",
              "    <tr style=\"text-align: right;\">\n",
              "      <th></th>\n",
              "      <th>date</th>\n",
              "      <th>date_block_num</th>\n",
              "      <th>shop_id</th>\n",
              "      <th>item_id</th>\n",
              "      <th>item_price</th>\n",
              "      <th>item_cnt_day</th>\n",
              "    </tr>\n",
              "  </thead>\n",
              "  <tbody>\n",
              "    <tr>\n",
              "      <th>76962</th>\n",
              "      <td>2013-05-01</td>\n",
              "      <td>0</td>\n",
              "      <td>54</td>\n",
              "      <td>20130</td>\n",
              "      <td>149.0</td>\n",
              "      <td>1.0</td>\n",
              "    </tr>\n",
              "    <tr>\n",
              "      <th>1435367</th>\n",
              "      <td>2014-02-23</td>\n",
              "      <td>13</td>\n",
              "      <td>50</td>\n",
              "      <td>3423</td>\n",
              "      <td>999.0</td>\n",
              "      <td>1.0</td>\n",
              "    </tr>\n",
              "    <tr>\n",
              "      <th>1496766</th>\n",
              "      <td>2014-03-23</td>\n",
              "      <td>14</td>\n",
              "      <td>21</td>\n",
              "      <td>3423</td>\n",
              "      <td>999.0</td>\n",
              "      <td>1.0</td>\n",
              "    </tr>\n",
              "    <tr>\n",
              "      <th>1671873</th>\n",
              "      <td>2014-01-05</td>\n",
              "      <td>16</td>\n",
              "      <td>50</td>\n",
              "      <td>3423</td>\n",
              "      <td>999.0</td>\n",
              "      <td>1.0</td>\n",
              "    </tr>\n",
              "    <tr>\n",
              "      <th>1866340</th>\n",
              "      <td>2014-12-07</td>\n",
              "      <td>18</td>\n",
              "      <td>25</td>\n",
              "      <td>3423</td>\n",
              "      <td>999.0</td>\n",
              "      <td>1.0</td>\n",
              "    </tr>\n",
              "    <tr>\n",
              "      <th>2198566</th>\n",
              "      <td>2014-12-31</td>\n",
              "      <td>23</td>\n",
              "      <td>42</td>\n",
              "      <td>21619</td>\n",
              "      <td>499.0</td>\n",
              "      <td>1.0</td>\n",
              "    </tr>\n",
              "  </tbody>\n",
              "</table>\n",
              "</div>"
            ],
            "text/plain": [
              "              date  date_block_num  shop_id  item_id  item_price  item_cnt_day\n",
              "76962   2013-05-01               0       54    20130       149.0           1.0\n",
              "1435367 2014-02-23              13       50     3423       999.0           1.0\n",
              "1496766 2014-03-23              14       21     3423       999.0           1.0\n",
              "1671873 2014-01-05              16       50     3423       999.0           1.0\n",
              "1866340 2014-12-07              18       25     3423       999.0           1.0\n",
              "2198566 2014-12-31              23       42    21619       499.0           1.0"
            ]
          },
          "metadata": {
            "tags": []
          },
          "execution_count": 194
        }
      ]
    },
    {
      "cell_type": "markdown",
      "metadata": {
        "id": "7Im_WOXUirWk"
      },
      "source": [
        "it seems we have duplicated recordings because for the same shop, same item and same day. If we had more than one sale we would have item_cnt_day > 1 instead of many recordings. so we need to drop these rows"
      ]
    },
    {
      "cell_type": "code",
      "metadata": {
        "id": "itf-oR__jLWb"
      },
      "source": [
        "# dropping the duplicated rows\n",
        "sales.drop_duplicates(inplace=True)"
      ],
      "execution_count": 195,
      "outputs": []
    },
    {
      "cell_type": "markdown",
      "metadata": {
        "id": "bfEC4del0nbp"
      },
      "source": [
        "### shops table"
      ]
    },
    {
      "cell_type": "code",
      "metadata": {
        "colab": {
          "base_uri": "https://localhost:8080/",
          "height": 272
        },
        "id": "5btr_rHOUJXy",
        "outputId": "97f636ee-ff96-433b-d0d1-fdb7a50a25da"
      },
      "source": [
        "# checking shops shape\n",
        "print(f'shops dataframe shape: {shops.shape}')\n",
        "\n",
        "# looking for missing values\n",
        "print(shops.isna().sum())\n",
        "\n",
        "shops.head()"
      ],
      "execution_count": 196,
      "outputs": [
        {
          "output_type": "stream",
          "text": [
            "shops dataframe shape: (60, 2)\n",
            "shop_name    0\n",
            "shop_id      0\n",
            "dtype: int64\n"
          ],
          "name": "stdout"
        },
        {
          "output_type": "execute_result",
          "data": {
            "text/html": [
              "<div>\n",
              "<style scoped>\n",
              "    .dataframe tbody tr th:only-of-type {\n",
              "        vertical-align: middle;\n",
              "    }\n",
              "\n",
              "    .dataframe tbody tr th {\n",
              "        vertical-align: top;\n",
              "    }\n",
              "\n",
              "    .dataframe thead th {\n",
              "        text-align: right;\n",
              "    }\n",
              "</style>\n",
              "<table border=\"1\" class=\"dataframe\">\n",
              "  <thead>\n",
              "    <tr style=\"text-align: right;\">\n",
              "      <th></th>\n",
              "      <th>shop_name</th>\n",
              "      <th>shop_id</th>\n",
              "    </tr>\n",
              "  </thead>\n",
              "  <tbody>\n",
              "    <tr>\n",
              "      <th>0</th>\n",
              "      <td>!Якутск Орджоникидзе, 56 фран</td>\n",
              "      <td>0</td>\n",
              "    </tr>\n",
              "    <tr>\n",
              "      <th>1</th>\n",
              "      <td>!Якутск ТЦ \"Центральный\" фран</td>\n",
              "      <td>1</td>\n",
              "    </tr>\n",
              "    <tr>\n",
              "      <th>2</th>\n",
              "      <td>Адыгея ТЦ \"Мега\"</td>\n",
              "      <td>2</td>\n",
              "    </tr>\n",
              "    <tr>\n",
              "      <th>3</th>\n",
              "      <td>Балашиха ТРК \"Октябрь-Киномир\"</td>\n",
              "      <td>3</td>\n",
              "    </tr>\n",
              "    <tr>\n",
              "      <th>4</th>\n",
              "      <td>Волжский ТЦ \"Волга Молл\"</td>\n",
              "      <td>4</td>\n",
              "    </tr>\n",
              "  </tbody>\n",
              "</table>\n",
              "</div>"
            ],
            "text/plain": [
              "                        shop_name  shop_id\n",
              "0   !Якутск Орджоникидзе, 56 фран        0\n",
              "1   !Якутск ТЦ \"Центральный\" фран        1\n",
              "2                Адыгея ТЦ \"Мега\"        2\n",
              "3  Балашиха ТРК \"Октябрь-Киномир\"        3\n",
              "4        Волжский ТЦ \"Волга Молл\"        4"
            ]
          },
          "metadata": {
            "tags": []
          },
          "execution_count": 196
        }
      ]
    },
    {
      "cell_type": "code",
      "metadata": {
        "colab": {
          "base_uri": "https://localhost:8080/",
          "height": 49
        },
        "id": "dVstmYpjAwUN",
        "outputId": "30ad4657-e95e-4209-a5d4-94a168129b66"
      },
      "source": [
        "# checking that we don't have duplicated shop_name\n",
        "# first we need to remove uppercases\n",
        "shops['shop_name'] = shops['shop_name'].apply(lambda x:x.lower().strip(punctuation))\n",
        "shops[shops.duplicated(subset='shop_name')==True]"
      ],
      "execution_count": 197,
      "outputs": [
        {
          "output_type": "execute_result",
          "data": {
            "text/html": [
              "<div>\n",
              "<style scoped>\n",
              "    .dataframe tbody tr th:only-of-type {\n",
              "        vertical-align: middle;\n",
              "    }\n",
              "\n",
              "    .dataframe tbody tr th {\n",
              "        vertical-align: top;\n",
              "    }\n",
              "\n",
              "    .dataframe thead th {\n",
              "        text-align: right;\n",
              "    }\n",
              "</style>\n",
              "<table border=\"1\" class=\"dataframe\">\n",
              "  <thead>\n",
              "    <tr style=\"text-align: right;\">\n",
              "      <th></th>\n",
              "      <th>shop_name</th>\n",
              "      <th>shop_id</th>\n",
              "    </tr>\n",
              "  </thead>\n",
              "  <tbody>\n",
              "  </tbody>\n",
              "</table>\n",
              "</div>"
            ],
            "text/plain": [
              "Empty DataFrame\n",
              "Columns: [shop_name, shop_id]\n",
              "Index: []"
            ]
          },
          "metadata": {
            "tags": []
          },
          "execution_count": 197
        }
      ]
    },
    {
      "cell_type": "markdown",
      "metadata": {
        "id": "qrJCiQfU2CJu"
      },
      "source": [
        "no duplicates"
      ]
    },
    {
      "cell_type": "code",
      "metadata": {
        "colab": {
          "base_uri": "https://localhost:8080/",
          "height": 35
        },
        "id": "2tKPk3ZQ1tqH",
        "outputId": "b7bbc022-8a3c-4e36-e45b-44ad8761d35a"
      },
      "source": [
        "# now let's translate some random shop names to understand to structure because a lot of names seem to start with the same word\n",
        "translator('ru','en','Волжский ТЦ \"Волга Молл\"')[0][0][0] "
      ],
      "execution_count": null,
      "outputs": [
        {
          "output_type": "execute_result",
          "data": {
            "application/vnd.google.colaboratory.intrinsic+json": {
              "type": "string"
            },
            "text/plain": [
              "'Volzhsky shopping center \"Volga Mall\"'"
            ]
          },
          "metadata": {
            "tags": []
          },
          "execution_count": 26
        }
      ]
    },
    {
      "cell_type": "markdown",
      "metadata": {
        "id": "dxUNmzdy4Aj4"
      },
      "source": [
        "we can notice that the shop name begins with the city location Volzhsky and then the shop category (here it's a shopping center)\n",
        "let's check other shop_name"
      ]
    },
    {
      "cell_type": "code",
      "metadata": {
        "colab": {
          "base_uri": "https://localhost:8080/",
          "height": 35
        },
        "id": "PI0HDzQK4VRW",
        "outputId": "3439eaba-2989-4afb-d56b-433e01c6ce24"
      },
      "source": [
        "translator('ru','en','!Якутск Орджоникидзе, 56 фран')[0][0][0] "
      ],
      "execution_count": null,
      "outputs": [
        {
          "output_type": "execute_result",
          "data": {
            "application/vnd.google.colaboratory.intrinsic+json": {
              "type": "string"
            },
            "text/plain": [
              "'! Yakutsk Ordzhonikidze, 56 fran'"
            ]
          },
          "metadata": {
            "tags": []
          },
          "execution_count": 137
        }
      ]
    },
    {
      "cell_type": "markdown",
      "metadata": {
        "id": "1st-M3d940On"
      },
      "source": [
        "here the city is Yakutsk but there isn't a shop category"
      ]
    },
    {
      "cell_type": "code",
      "metadata": {
        "colab": {
          "base_uri": "https://localhost:8080/",
          "height": 35
        },
        "id": "Ezf4_AKu4xNa",
        "outputId": "2bd34e6e-9734-43b1-c794-cace11eefd71"
      },
      "source": [
        "translator('ru','en','калуга трц \"xxi век\"')[0][0][0]\t"
      ],
      "execution_count": null,
      "outputs": [
        {
          "output_type": "execute_result",
          "data": {
            "application/vnd.google.colaboratory.intrinsic+json": {
              "type": "string"
            },
            "text/plain": [
              "'Kaluga TPC \"XXI Century\"'"
            ]
          },
          "metadata": {
            "tags": []
          },
          "execution_count": 138
        }
      ]
    },
    {
      "cell_type": "markdown",
      "metadata": {
        "id": "TdbOzUHyVkmS"
      },
      "source": [
        "same here, city then no shop category then shop name"
      ]
    },
    {
      "cell_type": "code",
      "metadata": {
        "id": "vM0emGac5fOT"
      },
      "source": [
        "#let's extract the city from shop_name\n",
        "shops['shop_city'] = shops['shop_name'].apply(lambda x: x.split(' ')[0])"
      ],
      "execution_count": 198,
      "outputs": []
    },
    {
      "cell_type": "code",
      "metadata": {
        "colab": {
          "base_uri": "https://localhost:8080/"
        },
        "id": "klKzH1fQ6vGr",
        "outputId": "3560b24d-5bd4-4d59-bea8-a2d5295dc52a"
      },
      "source": [
        "# checking unique values for shop_city and then translating all the city names in english just to be sure it's a city\n",
        "print('number of unique cities extracted from shops table: ',shops['shop_city'].nunique())\n",
        "unique_shops = shops['shop_city'].unique()\n",
        "city_translation = {}\n",
        "for city in unique_shops:\n",
        "  city_translation[city]=translator('ru','en',city)[0][0][0]\t\n"
      ],
      "execution_count": null,
      "outputs": [
        {
          "output_type": "stream",
          "text": [
            "number of unique cities extracted from shops table:  31\n"
          ],
          "name": "stdout"
        }
      ]
    },
    {
      "cell_type": "code",
      "metadata": {
        "colab": {
          "base_uri": "https://localhost:8080/"
        },
        "id": "d1zDhEM0-uA8",
        "outputId": "e5d7a68a-aa7f-4c97-a752-f76a200edac2"
      },
      "source": [
        "city_translation"
      ],
      "execution_count": null,
      "outputs": [
        {
          "output_type": "execute_result",
          "data": {
            "text/plain": [
              "{'адыгея': 'Adygea',\n",
              " 'балашиха': 'Balashikha',\n",
              " 'волжский': 'Volzhsky',\n",
              " 'вологда': 'Vologda',\n",
              " 'воронеж': 'Voronezh',\n",
              " 'выездная': 'Exit',\n",
              " 'жуковский': 'Zhukovsky',\n",
              " 'интернет-магазин': 'Online store',\n",
              " 'казань': 'Kazan',\n",
              " 'калуга': 'Kaluga',\n",
              " 'коломна': 'Kolomna',\n",
              " 'красноярск': 'Krasnoyarsk',\n",
              " 'курск': 'Kursk',\n",
              " 'москва': 'Moscow',\n",
              " 'мытищи': 'Mytishchi',\n",
              " 'н.новгород': 'N.Novgorod',\n",
              " 'новосибирск': 'Novosibirsk',\n",
              " 'омск': 'Omsk',\n",
              " 'ростовнадону': 'Rostovnadon',\n",
              " 'самара': 'Samara',\n",
              " 'сергиев': 'Sergiev',\n",
              " 'спб': 'St. Petersburg',\n",
              " 'сургут': 'Surgut',\n",
              " 'томск': 'Tomsk',\n",
              " 'тюмень': 'Tyumen.',\n",
              " 'уфа': 'Ufa',\n",
              " 'химки': 'Khimki',\n",
              " 'цифровой': 'digital',\n",
              " 'чехов': 'Chekhov',\n",
              " 'якутск': 'Yakutsk',\n",
              " 'ярославль': 'Yaroslavl'}"
            ]
          },
          "metadata": {
            "tags": []
          },
          "execution_count": 29
        }
      ]
    },
    {
      "cell_type": "markdown",
      "metadata": {
        "id": "ErRVgQzj_J9T"
      },
      "source": [
        "remarks : \n",
        "- Exit has to be dropped\n",
        "- Online store has to be dropped but we can create a location category including shopping mall that can be useful\n",
        "- Digital has to be the same shop category as Online store\n"
      ]
    },
    {
      "cell_type": "code",
      "metadata": {
        "id": "ATaDyoUuLlSq"
      },
      "source": [
        "# correcting shop_city column\n",
        "shops['shop_city'].replace({'интернет-магазин':'no_city','выездная':'no_city','цифровой':'no_city'},inplace=True)"
      ],
      "execution_count": 199,
      "outputs": []
    },
    {
      "cell_type": "code",
      "metadata": {
        "id": "dDV54UwtOH5_"
      },
      "source": [
        "# now we LabelEncode shop_city\n",
        "shops['shop_city_labelencoded'] = LabelEncoder().fit_transform(shops['shop_city'])"
      ],
      "execution_count": 200,
      "outputs": []
    },
    {
      "cell_type": "code",
      "metadata": {
        "id": "mk3hvzJ6PM-l"
      },
      "source": [
        "# creating a location_category column by extracting 'тц' : 'mall' , 'трц' : 'shopping center' ,'интернет-магазин': 'Online store' , 'цифровой': 'digital'\n",
        "# 'склад' : 'warehouse'\n",
        "# we are going to assume that mall is the same than shopping center and oneline store and digital are also the same\n",
        "shop_cats = ['тц', 'трц', 'интернет-магазин', 'цифровой', 'склад']\n",
        "category=[]\n",
        "for shop in shops['shop_name']:\n",
        "  if 'тц' in shop or 'трц' in shop:\n",
        "    category.append('тц')\n",
        "  elif 'интернет-магазин' in shop:\n",
        "    category.append('интернет-магазин')\n",
        "  elif 'цифровой' in shop:\n",
        "    category.append('цифровой')\n",
        "  elif 'склад' in shop:\n",
        "    category.append('склад')\n",
        "  else:\n",
        "    category.append('no_category')\n",
        "\n",
        "shops['location_category']=category"
      ],
      "execution_count": 201,
      "outputs": []
    },
    {
      "cell_type": "code",
      "metadata": {
        "id": "ku66fxLXOsRk"
      },
      "source": [
        "# now we LabelEncode shop_category\n",
        "shops['location_category_labelencoded'] = LabelEncoder().fit_transform(shops['location_category'])"
      ],
      "execution_count": 202,
      "outputs": []
    },
    {
      "cell_type": "code",
      "metadata": {
        "colab": {
          "base_uri": "https://localhost:8080/"
        },
        "id": "3458HGSt6DSl",
        "outputId": "43a3ccd7-a1fa-4764-f983-5729062bc7e4"
      },
      "source": [
        "del shop_cats, category\n",
        "gc.collect()"
      ],
      "execution_count": 203,
      "outputs": [
        {
          "output_type": "execute_result",
          "data": {
            "text/plain": [
              "103"
            ]
          },
          "metadata": {
            "tags": []
          },
          "execution_count": 203
        }
      ]
    },
    {
      "cell_type": "markdown",
      "metadata": {
        "id": "q9EqC4dZop91"
      },
      "source": [
        "### items table"
      ]
    },
    {
      "cell_type": "code",
      "metadata": {
        "colab": {
          "base_uri": "https://localhost:8080/",
          "height": 289
        },
        "id": "0Lg1skWjUJXz",
        "outputId": "631a724f-e504-4a78-e724-0a81e669dbad"
      },
      "source": [
        "# checking items shape\n",
        "print(f'items dataframe shape: {items.shape}')\n",
        "\n",
        "# looking for missing values\n",
        "print(items.isna().sum())\n",
        "\n",
        "items.head()"
      ],
      "execution_count": 204,
      "outputs": [
        {
          "output_type": "stream",
          "text": [
            "items dataframe shape: (22170, 3)\n",
            "item_name           0\n",
            "item_id             0\n",
            "item_category_id    0\n",
            "dtype: int64\n"
          ],
          "name": "stdout"
        },
        {
          "output_type": "execute_result",
          "data": {
            "text/html": [
              "<div>\n",
              "<style scoped>\n",
              "    .dataframe tbody tr th:only-of-type {\n",
              "        vertical-align: middle;\n",
              "    }\n",
              "\n",
              "    .dataframe tbody tr th {\n",
              "        vertical-align: top;\n",
              "    }\n",
              "\n",
              "    .dataframe thead th {\n",
              "        text-align: right;\n",
              "    }\n",
              "</style>\n",
              "<table border=\"1\" class=\"dataframe\">\n",
              "  <thead>\n",
              "    <tr style=\"text-align: right;\">\n",
              "      <th></th>\n",
              "      <th>item_name</th>\n",
              "      <th>item_id</th>\n",
              "      <th>item_category_id</th>\n",
              "    </tr>\n",
              "  </thead>\n",
              "  <tbody>\n",
              "    <tr>\n",
              "      <th>0</th>\n",
              "      <td>! ВО ВЛАСТИ НАВАЖДЕНИЯ (ПЛАСТ.)         D</td>\n",
              "      <td>0</td>\n",
              "      <td>40</td>\n",
              "    </tr>\n",
              "    <tr>\n",
              "      <th>1</th>\n",
              "      <td>!ABBYY FineReader 12 Professional Edition Full...</td>\n",
              "      <td>1</td>\n",
              "      <td>76</td>\n",
              "    </tr>\n",
              "    <tr>\n",
              "      <th>2</th>\n",
              "      <td>***В ЛУЧАХ СЛАВЫ   (UNV)                    D</td>\n",
              "      <td>2</td>\n",
              "      <td>40</td>\n",
              "    </tr>\n",
              "    <tr>\n",
              "      <th>3</th>\n",
              "      <td>***ГОЛУБАЯ ВОЛНА  (Univ)                      D</td>\n",
              "      <td>3</td>\n",
              "      <td>40</td>\n",
              "    </tr>\n",
              "    <tr>\n",
              "      <th>4</th>\n",
              "      <td>***КОРОБКА (СТЕКЛО)                       D</td>\n",
              "      <td>4</td>\n",
              "      <td>40</td>\n",
              "    </tr>\n",
              "  </tbody>\n",
              "</table>\n",
              "</div>"
            ],
            "text/plain": [
              "                                           item_name  item_id  \\\n",
              "0          ! ВО ВЛАСТИ НАВАЖДЕНИЯ (ПЛАСТ.)         D        0   \n",
              "1  !ABBYY FineReader 12 Professional Edition Full...        1   \n",
              "2      ***В ЛУЧАХ СЛАВЫ   (UNV)                    D        2   \n",
              "3    ***ГОЛУБАЯ ВОЛНА  (Univ)                      D        3   \n",
              "4        ***КОРОБКА (СТЕКЛО)                       D        4   \n",
              "\n",
              "   item_category_id  \n",
              "0                40  \n",
              "1                76  \n",
              "2                40  \n",
              "3                40  \n",
              "4                40  "
            ]
          },
          "metadata": {
            "tags": []
          },
          "execution_count": 204
        }
      ]
    },
    {
      "cell_type": "code",
      "metadata": {
        "colab": {
          "base_uri": "https://localhost:8080/",
          "height": 221
        },
        "id": "oOVR6MxpBagQ",
        "outputId": "79317ec6-1a08-4f7f-c89a-56f93d8cd7c3"
      },
      "source": [
        "# checking that we don't have duplicate item_name\n",
        "items['item_name'] = items['item_name'].apply(lambda x:x.lower().strip(punctuation))\n",
        "duplicated_items = items[items.duplicated(subset='item_name',keep=False)==True]\n",
        "print('number of duplicated rows: ',len(duplicated_items))\n",
        "duplicated_items.head()"
      ],
      "execution_count": 205,
      "outputs": [
        {
          "output_type": "stream",
          "text": [
            "number of duplicated rows:  122\n"
          ],
          "name": "stdout"
        },
        {
          "output_type": "execute_result",
          "data": {
            "text/html": [
              "<div>\n",
              "<style scoped>\n",
              "    .dataframe tbody tr th:only-of-type {\n",
              "        vertical-align: middle;\n",
              "    }\n",
              "\n",
              "    .dataframe tbody tr th {\n",
              "        vertical-align: top;\n",
              "    }\n",
              "\n",
              "    .dataframe thead th {\n",
              "        text-align: right;\n",
              "    }\n",
              "</style>\n",
              "<table border=\"1\" class=\"dataframe\">\n",
              "  <thead>\n",
              "    <tr style=\"text-align: right;\">\n",
              "      <th></th>\n",
              "      <th>item_name</th>\n",
              "      <th>item_id</th>\n",
              "      <th>item_category_id</th>\n",
              "    </tr>\n",
              "  </thead>\n",
              "  <tbody>\n",
              "    <tr>\n",
              "      <th>12</th>\n",
              "      <td>михей и джуманджи  сука любовь</td>\n",
              "      <td>12</td>\n",
              "      <td>55</td>\n",
              "    </tr>\n",
              "    <tr>\n",
              "      <th>8247</th>\n",
              "      <td>алые паруса (регион</td>\n",
              "      <td>8247</td>\n",
              "      <td>40</td>\n",
              "    </tr>\n",
              "    <tr>\n",
              "      <th>8248</th>\n",
              "      <td>алые паруса (регион</td>\n",
              "      <td>8248</td>\n",
              "      <td>40</td>\n",
              "    </tr>\n",
              "    <tr>\n",
              "      <th>8289</th>\n",
              "      <td>английский вместе с хрюшей и… ч. 1 (регион</td>\n",
              "      <td>8289</td>\n",
              "      <td>40</td>\n",
              "    </tr>\n",
              "    <tr>\n",
              "      <th>8290</th>\n",
              "      <td>английский вместе с хрюшей и… ч. 1 (регион</td>\n",
              "      <td>8290</td>\n",
              "      <td>40</td>\n",
              "    </tr>\n",
              "  </tbody>\n",
              "</table>\n",
              "</div>"
            ],
            "text/plain": [
              "                                       item_name  item_id  item_category_id\n",
              "12                михей и джуманджи  сука любовь       12                55\n",
              "8247                         алые паруса (регион     8247                40\n",
              "8248                         алые паруса (регион     8248                40\n",
              "8289  английский вместе с хрюшей и… ч. 1 (регион     8289                40\n",
              "8290  английский вместе с хрюшей и… ч. 1 (регион     8290                40"
            ]
          },
          "metadata": {
            "tags": []
          },
          "execution_count": 205
        }
      ]
    },
    {
      "cell_type": "markdown",
      "metadata": {
        "id": "TqoQ0ADceCuG"
      },
      "source": [
        "we have a lot of duplicates here !\n",
        "we need to remove duplicated items"
      ]
    },
    {
      "cell_type": "code",
      "metadata": {
        "colab": {
          "base_uri": "https://localhost:8080/",
          "height": 204
        },
        "id": "ZPgClrVGe6tG",
        "outputId": "8b853122-9ac4-4bc8-c018-aedc7195baae"
      },
      "source": [
        "# we are going to keep the first item_id for each group of duplicated item_ids in order to change them in sales and test datasets\n",
        "first_duplicated_items = duplicated_items.groupby('item_name',as_index=False).agg(first_item_id=pd.NamedAgg(column='item_id',aggfunc='first'))\n",
        "# then we merge duplicated_items with first_duplicated_items in order the to match the duplicated item_ids with the first item_id\n",
        "duplicated_items = pd.merge(duplicated_items,first_duplicated_items, how ='left' , on='item_name')\n",
        "duplicated_items.head()"
      ],
      "execution_count": 206,
      "outputs": [
        {
          "output_type": "execute_result",
          "data": {
            "text/html": [
              "<div>\n",
              "<style scoped>\n",
              "    .dataframe tbody tr th:only-of-type {\n",
              "        vertical-align: middle;\n",
              "    }\n",
              "\n",
              "    .dataframe tbody tr th {\n",
              "        vertical-align: top;\n",
              "    }\n",
              "\n",
              "    .dataframe thead th {\n",
              "        text-align: right;\n",
              "    }\n",
              "</style>\n",
              "<table border=\"1\" class=\"dataframe\">\n",
              "  <thead>\n",
              "    <tr style=\"text-align: right;\">\n",
              "      <th></th>\n",
              "      <th>item_name</th>\n",
              "      <th>item_id</th>\n",
              "      <th>item_category_id</th>\n",
              "      <th>first_item_id</th>\n",
              "    </tr>\n",
              "  </thead>\n",
              "  <tbody>\n",
              "    <tr>\n",
              "      <th>0</th>\n",
              "      <td>михей и джуманджи  сука любовь</td>\n",
              "      <td>12</td>\n",
              "      <td>55</td>\n",
              "      <td>12</td>\n",
              "    </tr>\n",
              "    <tr>\n",
              "      <th>1</th>\n",
              "      <td>алые паруса (регион</td>\n",
              "      <td>8247</td>\n",
              "      <td>40</td>\n",
              "      <td>8247</td>\n",
              "    </tr>\n",
              "    <tr>\n",
              "      <th>2</th>\n",
              "      <td>алые паруса (регион</td>\n",
              "      <td>8248</td>\n",
              "      <td>40</td>\n",
              "      <td>8247</td>\n",
              "    </tr>\n",
              "    <tr>\n",
              "      <th>3</th>\n",
              "      <td>английский вместе с хрюшей и… ч. 1 (регион</td>\n",
              "      <td>8289</td>\n",
              "      <td>40</td>\n",
              "      <td>8289</td>\n",
              "    </tr>\n",
              "    <tr>\n",
              "      <th>4</th>\n",
              "      <td>английский вместе с хрюшей и… ч. 1 (регион</td>\n",
              "      <td>8290</td>\n",
              "      <td>40</td>\n",
              "      <td>8289</td>\n",
              "    </tr>\n",
              "  </tbody>\n",
              "</table>\n",
              "</div>"
            ],
            "text/plain": [
              "                                    item_name  item_id  item_category_id  \\\n",
              "0              михей и джуманджи  сука любовь       12                55   \n",
              "1                         алые паруса (регион     8247                40   \n",
              "2                         алые паруса (регион     8248                40   \n",
              "3  английский вместе с хрюшей и… ч. 1 (регион     8289                40   \n",
              "4  английский вместе с хрюшей и… ч. 1 (регион     8290                40   \n",
              "\n",
              "   first_item_id  \n",
              "0             12  \n",
              "1           8247  \n",
              "2           8247  \n",
              "3           8289  \n",
              "4           8289  "
            ]
          },
          "metadata": {
            "tags": []
          },
          "execution_count": 206
        }
      ]
    },
    {
      "cell_type": "code",
      "metadata": {
        "id": "kepgBLtQqvxg"
      },
      "source": [
        "# now we gonna create a dictionnary with keys equal to item_ids and values equal to first_item_ids\n",
        "# in order to replace duplicated item_ids in sales and test data with one item_id\n",
        "first_item_dict = pd.Series(duplicated_items['first_item_id'].values,duplicated_items['item_id'].values).to_dict()"
      ],
      "execution_count": 207,
      "outputs": []
    },
    {
      "cell_type": "code",
      "metadata": {
        "id": "5HQYzrpxrazj"
      },
      "source": [
        "# now we can replace duplicated item_ids in sales and test\n",
        "sales['item_id'] = sales['item_id'].replace(first_item_dict)\n",
        "test['item_id'] = test['item_id'].replace(first_item_dict)"
      ],
      "execution_count": 208,
      "outputs": []
    },
    {
      "cell_type": "code",
      "metadata": {
        "id": "PteVXcTYwein"
      },
      "source": [
        "# finally we can drop the duplicates in items dataframe\n",
        "items.drop_duplicates('item_name',inplace=True) #keep='first' is set by default"
      ],
      "execution_count": 209,
      "outputs": []
    },
    {
      "cell_type": "code",
      "metadata": {
        "colab": {
          "base_uri": "https://localhost:8080/"
        },
        "id": "UnzvXotQz3Z5",
        "outputId": "80a59f0a-0b80-4aaf-e4eb-919d222eb6f0"
      },
      "source": [
        "del duplicated_items, first_duplicated_items, first_item_dict\n",
        "gc.collect()"
      ],
      "execution_count": 210,
      "outputs": [
        {
          "output_type": "execute_result",
          "data": {
            "text/plain": [
              "100"
            ]
          },
          "metadata": {
            "tags": []
          },
          "execution_count": 210
        }
      ]
    },
    {
      "cell_type": "markdown",
      "metadata": {
        "id": "rKcLofTp2ySJ"
      },
      "source": [
        "### item_cats table"
      ]
    },
    {
      "cell_type": "code",
      "metadata": {
        "colab": {
          "base_uri": "https://localhost:8080/",
          "height": 272
        },
        "id": "_dF00iBcUJX1",
        "outputId": "8bfe3db8-6196-44db-a739-f27f5b8d5223"
      },
      "source": [
        "# checking item_cats shape\n",
        "print(f'item_cats dataframe shape: {item_cats.shape}')\n",
        "\n",
        "# looking for missing values\n",
        "print(item_cats.isna().sum())\n",
        "\n",
        "item_cats.head()"
      ],
      "execution_count": 211,
      "outputs": [
        {
          "output_type": "stream",
          "text": [
            "item_cats dataframe shape: (84, 2)\n",
            "item_category_name    0\n",
            "item_category_id      0\n",
            "dtype: int64\n"
          ],
          "name": "stdout"
        },
        {
          "output_type": "execute_result",
          "data": {
            "text/html": [
              "<div>\n",
              "<style scoped>\n",
              "    .dataframe tbody tr th:only-of-type {\n",
              "        vertical-align: middle;\n",
              "    }\n",
              "\n",
              "    .dataframe tbody tr th {\n",
              "        vertical-align: top;\n",
              "    }\n",
              "\n",
              "    .dataframe thead th {\n",
              "        text-align: right;\n",
              "    }\n",
              "</style>\n",
              "<table border=\"1\" class=\"dataframe\">\n",
              "  <thead>\n",
              "    <tr style=\"text-align: right;\">\n",
              "      <th></th>\n",
              "      <th>item_category_name</th>\n",
              "      <th>item_category_id</th>\n",
              "    </tr>\n",
              "  </thead>\n",
              "  <tbody>\n",
              "    <tr>\n",
              "      <th>0</th>\n",
              "      <td>PC - Гарнитуры/Наушники</td>\n",
              "      <td>0</td>\n",
              "    </tr>\n",
              "    <tr>\n",
              "      <th>1</th>\n",
              "      <td>Аксессуары - PS2</td>\n",
              "      <td>1</td>\n",
              "    </tr>\n",
              "    <tr>\n",
              "      <th>2</th>\n",
              "      <td>Аксессуары - PS3</td>\n",
              "      <td>2</td>\n",
              "    </tr>\n",
              "    <tr>\n",
              "      <th>3</th>\n",
              "      <td>Аксессуары - PS4</td>\n",
              "      <td>3</td>\n",
              "    </tr>\n",
              "    <tr>\n",
              "      <th>4</th>\n",
              "      <td>Аксессуары - PSP</td>\n",
              "      <td>4</td>\n",
              "    </tr>\n",
              "  </tbody>\n",
              "</table>\n",
              "</div>"
            ],
            "text/plain": [
              "        item_category_name  item_category_id\n",
              "0  PC - Гарнитуры/Наушники                 0\n",
              "1         Аксессуары - PS2                 1\n",
              "2         Аксессуары - PS3                 2\n",
              "3         Аксессуары - PS4                 3\n",
              "4         Аксессуары - PSP                 4"
            ]
          },
          "metadata": {
            "tags": []
          },
          "execution_count": 211
        }
      ]
    },
    {
      "cell_type": "code",
      "metadata": {
        "colab": {
          "base_uri": "https://localhost:8080/",
          "height": 49
        },
        "id": "jknKUoJJBlRw",
        "outputId": "7f8bb921-355c-4199-f0be-bd22afa3e40f"
      },
      "source": [
        "# checking that we don't have duplicate item_category_name\n",
        "item_cats['item_category_name'] = item_cats['item_category_name'].apply(lambda x: x.lower().strip(punctuation))\n",
        "item_cats[item_cats.duplicated(subset='item_category_name')==True]"
      ],
      "execution_count": 212,
      "outputs": [
        {
          "output_type": "execute_result",
          "data": {
            "text/html": [
              "<div>\n",
              "<style scoped>\n",
              "    .dataframe tbody tr th:only-of-type {\n",
              "        vertical-align: middle;\n",
              "    }\n",
              "\n",
              "    .dataframe tbody tr th {\n",
              "        vertical-align: top;\n",
              "    }\n",
              "\n",
              "    .dataframe thead th {\n",
              "        text-align: right;\n",
              "    }\n",
              "</style>\n",
              "<table border=\"1\" class=\"dataframe\">\n",
              "  <thead>\n",
              "    <tr style=\"text-align: right;\">\n",
              "      <th></th>\n",
              "      <th>item_category_name</th>\n",
              "      <th>item_category_id</th>\n",
              "    </tr>\n",
              "  </thead>\n",
              "  <tbody>\n",
              "  </tbody>\n",
              "</table>\n",
              "</div>"
            ],
            "text/plain": [
              "Empty DataFrame\n",
              "Columns: [item_category_name, item_category_id]\n",
              "Index: []"
            ]
          },
          "metadata": {
            "tags": []
          },
          "execution_count": 212
        }
      ]
    },
    {
      "cell_type": "code",
      "metadata": {
        "id": "VE1VkU4FP6Kf"
      },
      "source": [
        "# we can notice that we have several item category names starting with the same word, it could be a more general category. let's extract it and encode it \n",
        "item_cats['general_category'] = item_cats['item_category_name'].apply(lambda x:x.split('-')[0])\n",
        "item_cats['general_category_labelencoded']=LabelEncoder().fit_transform(item_cats['general_category'])"
      ],
      "execution_count": 213,
      "outputs": []
    },
    {
      "cell_type": "markdown",
      "metadata": {
        "id": "A-Ka-k-GVMAH"
      },
      "source": [
        "## Test set"
      ]
    },
    {
      "cell_type": "code",
      "metadata": {
        "colab": {
          "base_uri": "https://localhost:8080/",
          "height": 289
        },
        "id": "cjeXfN0BUJX2",
        "outputId": "4e9cabc8-42af-4bda-fd57-686f1586c035"
      },
      "source": [
        "# checking test shape\n",
        "print(f'test dataframe shape: {test.shape}')\n",
        "\n",
        "# looking for missing values\n",
        "print(test.isna().sum())\n",
        "\n",
        "test.head()"
      ],
      "execution_count": 214,
      "outputs": [
        {
          "output_type": "stream",
          "text": [
            "test dataframe shape: (214200, 3)\n",
            "ID         0\n",
            "shop_id    0\n",
            "item_id    0\n",
            "dtype: int64\n"
          ],
          "name": "stdout"
        },
        {
          "output_type": "execute_result",
          "data": {
            "text/html": [
              "<div>\n",
              "<style scoped>\n",
              "    .dataframe tbody tr th:only-of-type {\n",
              "        vertical-align: middle;\n",
              "    }\n",
              "\n",
              "    .dataframe tbody tr th {\n",
              "        vertical-align: top;\n",
              "    }\n",
              "\n",
              "    .dataframe thead th {\n",
              "        text-align: right;\n",
              "    }\n",
              "</style>\n",
              "<table border=\"1\" class=\"dataframe\">\n",
              "  <thead>\n",
              "    <tr style=\"text-align: right;\">\n",
              "      <th></th>\n",
              "      <th>ID</th>\n",
              "      <th>shop_id</th>\n",
              "      <th>item_id</th>\n",
              "    </tr>\n",
              "  </thead>\n",
              "  <tbody>\n",
              "    <tr>\n",
              "      <th>0</th>\n",
              "      <td>0</td>\n",
              "      <td>5</td>\n",
              "      <td>5037</td>\n",
              "    </tr>\n",
              "    <tr>\n",
              "      <th>1</th>\n",
              "      <td>1</td>\n",
              "      <td>5</td>\n",
              "      <td>5320</td>\n",
              "    </tr>\n",
              "    <tr>\n",
              "      <th>2</th>\n",
              "      <td>2</td>\n",
              "      <td>5</td>\n",
              "      <td>5233</td>\n",
              "    </tr>\n",
              "    <tr>\n",
              "      <th>3</th>\n",
              "      <td>3</td>\n",
              "      <td>5</td>\n",
              "      <td>5232</td>\n",
              "    </tr>\n",
              "    <tr>\n",
              "      <th>4</th>\n",
              "      <td>4</td>\n",
              "      <td>5</td>\n",
              "      <td>5268</td>\n",
              "    </tr>\n",
              "  </tbody>\n",
              "</table>\n",
              "</div>"
            ],
            "text/plain": [
              "   ID  shop_id  item_id\n",
              "0   0        5     5037\n",
              "1   1        5     5320\n",
              "2   2        5     5233\n",
              "3   3        5     5232\n",
              "4   4        5     5268"
            ]
          },
          "metadata": {
            "tags": []
          },
          "execution_count": 214
        }
      ]
    },
    {
      "cell_type": "code",
      "metadata": {
        "colab": {
          "base_uri": "https://localhost:8080/"
        },
        "id": "LDC-C28chVLX",
        "outputId": "d8055957-3c72-450c-980a-f20cea1cdcbf"
      },
      "source": [
        "# first, let's check how many unique shops we have in sales and test sets\n",
        "print('number of total unique shops is ',shops.shop_id.nunique())\n",
        "print('number of unique shops in sales is ',sales.shop_id.nunique())\n",
        "print('number of unique shops in test is ',test.shop_id.nunique())"
      ],
      "execution_count": 215,
      "outputs": [
        {
          "output_type": "stream",
          "text": [
            "number of total unique shops is  60\n",
            "number of unique shops in sales is  60\n",
            "number of unique shops in test is  42\n"
          ],
          "name": "stdout"
        }
      ]
    },
    {
      "cell_type": "markdown",
      "metadata": {
        "id": "gEO0OG76iCHN"
      },
      "source": [
        "we can see here that we have some shops in sales set that are not included in test set. in order to avoid capturing specific behaviour of these shops with our model that can affect the overall performance, we are not going to keep these shops in sales set."
      ]
    },
    {
      "cell_type": "code",
      "metadata": {
        "id": "J9MIBoYBiBix"
      },
      "source": [
        "# keeping shops in sales that are also included in test set\n",
        "sales = sales[sales['shop_id'].isin(test['shop_id'].unique())]"
      ],
      "execution_count": 216,
      "outputs": []
    },
    {
      "cell_type": "code",
      "metadata": {
        "colab": {
          "base_uri": "https://localhost:8080/"
        },
        "id": "yMf35cdlkcAn",
        "outputId": "92c24ad2-89bf-4efd-c9dc-a65b0822bc25"
      },
      "source": [
        "# now let's check the number of items in sales and test sets\n",
        "print('number of total unique items is ',items.item_id.nunique())\n",
        "print('number of unique items in sales is ',sales.item_id.nunique())\n",
        "print('number of unique items in test is ',test.item_id.nunique())"
      ],
      "execution_count": 217,
      "outputs": [
        {
          "output_type": "stream",
          "text": [
            "number of total unique items is  22109\n",
            "number of unique items in sales is  20946\n",
            "number of unique items in test is  5099\n"
          ],
          "name": "stdout"
        }
      ]
    },
    {
      "cell_type": "code",
      "metadata": {
        "colab": {
          "base_uri": "https://localhost:8080/"
        },
        "id": "5Cz9AjcLUJX3",
        "outputId": "5a5d0e51-f2b3-4f97-d801-838b9c2218bb"
      },
      "source": [
        "# first we need to check that the all the shops and items that are in the test set are also included in the sales set,\n",
        "# otherwise it will be inaccurate to do predictions on shops and products that we don't have historical data\n",
        "\n",
        "shop_id_intersection = list(set(sales['shop_id']).intersection(set(test['shop_id'])))\n",
        "item_id_intersection  = list(set(sales['item_id']).intersection(set(test['item_id'])))\n",
        "# checking that all shop_id in test exist in sales\n",
        "print('intersection between sales and test for shop_id: ',len(shop_id_intersection))\n",
        "print('number of shop_id in test: ',test['shop_id'].nunique())\n",
        "\n",
        "# checking that the item_id in test exist in sales\n",
        "print('intersection between sales and test for item ',len(item_id_intersection))\n",
        "print('number of item_id in test: ',test['item_id'].nunique())"
      ],
      "execution_count": 218,
      "outputs": [
        {
          "output_type": "stream",
          "text": [
            "intersection between sales and test for shop_id:  42\n",
            "number of shop_id in test:  42\n",
            "intersection between sales and test for item  4716\n",
            "number of item_id in test:  5099\n"
          ],
          "name": "stdout"
        }
      ]
    },
    {
      "cell_type": "markdown",
      "metadata": {
        "id": "L6Iz5oUHUJX4"
      },
      "source": [
        "all the shops in test data are included in sales but some items in test data that are not in sales dataframe. for this reason we are not going to remove those that are included in sales and not in test in order to look for shops that have similar properties that those that are in test and not in sales datasets"
      ]
    },
    {
      "cell_type": "code",
      "metadata": {
        "collapsed": true,
        "id": "0Vw00DZYUJX5"
      },
      "source": [
        "# let's store the id of the items that are in test set and not in sales\n",
        "item_id_diff = np.setdiff1d(list(test['item_id']),item_id_intersection)"
      ],
      "execution_count": 219,
      "outputs": []
    },
    {
      "cell_type": "markdown",
      "metadata": {
        "id": "TDxqPBg4sPC6"
      },
      "source": [
        "we can assume that those items are new items launched for sale during date_block_num 34. later, once we concatenate aggregated sales data and test we will create a feature blocks_since_first that will return how many blocks since first recording of the item in order to capture the behaviour for new launched items."
      ]
    },
    {
      "cell_type": "code",
      "metadata": {
        "collapsed": true,
        "id": "8Az3DC81UJX2"
      },
      "source": [
        "# for the test set we need to create a column date_block_num with value equal to 34\n",
        "# (objective is to predict sales for the 34th month)\n",
        "test['date_block_num']=34"
      ],
      "execution_count": 220,
      "outputs": []
    },
    {
      "cell_type": "markdown",
      "metadata": {
        "id": "wwsdAHlNVQkb"
      },
      "source": [
        "we also need to store the test set ID column and then drop it because we don't have a similar column in sales and we will need it to build our submission dataframe"
      ]
    },
    {
      "cell_type": "code",
      "metadata": {
        "id": "uUfSnxxEVOGB"
      },
      "source": [
        "# storing the IDs\n",
        "test_ID = test['ID']"
      ],
      "execution_count": 221,
      "outputs": []
    },
    {
      "cell_type": "code",
      "metadata": {
        "id": "qSCU3RFfVh4M"
      },
      "source": [
        "# dropping the ID column\n",
        "test.drop('ID',axis=1,inplace=True)"
      ],
      "execution_count": 222,
      "outputs": []
    },
    {
      "cell_type": "markdown",
      "metadata": {
        "id": "ppLrSbwjUJX5"
      },
      "source": [
        "# Get a feature matrix"
      ]
    },
    {
      "cell_type": "markdown",
      "metadata": {
        "id": "tN55JFDlUJX5"
      },
      "source": [
        "Since the competition task is to make a monthly prediction, we need to aggregate the data to montly level before doing any encodings. The following code-cell serves just that purpose"
      ]
    },
    {
      "cell_type": "code",
      "metadata": {
        "id": "HAqrfrMtUJX6"
      },
      "source": [
        "# Create \"grid\" with columns\n",
        "index_cols = ['shop_id', 'item_id', 'date_block_num']\n",
        "\n",
        "# For every month we create a grid from all shops/items combinations from that month\n",
        "grid = [] \n",
        "for block_num in sales['date_block_num'].unique():\n",
        "    cur_shops = sales.loc[sales['date_block_num'] == block_num, 'shop_id'].unique()\n",
        "    cur_items = sales.loc[sales['date_block_num'] == block_num, 'item_id'].unique()\n",
        "    grid.append(np.array(list(product(*[cur_shops, cur_items, [block_num]])),dtype='int32'))\n",
        "\n",
        "# Turn the grid into a dataframe\n",
        "grid = pd.DataFrame(np.vstack(grid), columns = index_cols,dtype=np.int32)\n",
        "\n",
        "# Groupby data to get shop-item-month aggregates to get item_cnt_month which is our target\n",
        "gb = sales.groupby(index_cols, as_index = False).agg(target=pd.NamedAgg(column='item_cnt_day',aggfunc='sum'))\n",
        "# Join it to the grid\n",
        "all_data = pd.merge(grid, gb, how='left', on=index_cols).fillna(0)\n",
        "\n",
        "# Groupby data to get shop-item-month aggregates to get number of monthly sales\n",
        "gb = sales.groupby(index_cols, as_index = False).agg(num_monthly_sales=pd.NamedAgg(column='item_cnt_day',aggfunc='count'))\n",
        "# Join it to the grid\n",
        "all_data = pd.merge(all_data, gb, how='left', on=index_cols).fillna(0)\n",
        "\n",
        "# Groupby data to get shop-item-month aggregates to get the mean of the price (lower price could lead to higher sale volum)\n",
        "gb = sales.groupby(index_cols, as_index = False).agg(average_price=pd.NamedAgg(column='item_price',aggfunc='mean'))\n",
        "# Join it to the grid\n",
        "all_data = pd.merge(all_data, gb, how='left', on=index_cols).fillna(0)\n",
        "\n",
        "# Same as above but with shop-month aggregates\n",
        "gb = sales.groupby(['shop_id', 'date_block_num'], as_index = False).agg(target_shop=pd.NamedAgg(column='item_cnt_day',aggfunc='sum'))\n",
        "# Join it to the grid\n",
        "all_data = pd.merge(all_data, gb, how='left', on=['shop_id', 'date_block_num']).fillna(0)\n",
        "\n",
        "# Same as above but with item-month aggregates\n",
        "gb = sales.groupby(['item_id', 'date_block_num'], as_index = False).agg(target_item=pd.NamedAgg(column='item_cnt_day',aggfunc='sum'))\n",
        "# Join it to the grid\n",
        "all_data = pd.merge(all_data, gb, how='left', on=['item_id', 'date_block_num']).fillna(0)\n",
        "\n",
        "# clipping target from 0 to 20\n",
        "all_data['target'] = all_data['target'].clip(0,20)\n",
        "\n",
        "\n",
        "# use the downcast function to save memory\n",
        "all_data = downcast_dtypes(all_data)\n",
        "\n",
        "\n",
        "del sales, grid, gb \n",
        "gc.collect();"
      ],
      "execution_count": 223,
      "outputs": []
    },
    {
      "cell_type": "code",
      "metadata": {
        "colab": {
          "base_uri": "https://localhost:8080/",
          "height": 221
        },
        "id": "NeG5y-nzUJX6",
        "outputId": "d617a379-96cd-4720-ce5d-c1ff4bd31c6f"
      },
      "source": [
        "print('all_data shape: ', all_data.shape)\n",
        "all_data.head()"
      ],
      "execution_count": 224,
      "outputs": [
        {
          "output_type": "stream",
          "text": [
            "all_data shape:  (8585029, 8)\n"
          ],
          "name": "stdout"
        },
        {
          "output_type": "execute_result",
          "data": {
            "text/html": [
              "<div>\n",
              "<style scoped>\n",
              "    .dataframe tbody tr th:only-of-type {\n",
              "        vertical-align: middle;\n",
              "    }\n",
              "\n",
              "    .dataframe tbody tr th {\n",
              "        vertical-align: top;\n",
              "    }\n",
              "\n",
              "    .dataframe thead th {\n",
              "        text-align: right;\n",
              "    }\n",
              "</style>\n",
              "<table border=\"1\" class=\"dataframe\">\n",
              "  <thead>\n",
              "    <tr style=\"text-align: right;\">\n",
              "      <th></th>\n",
              "      <th>shop_id</th>\n",
              "      <th>item_id</th>\n",
              "      <th>date_block_num</th>\n",
              "      <th>target</th>\n",
              "      <th>num_monthly_sales</th>\n",
              "      <th>average_price</th>\n",
              "      <th>target_shop</th>\n",
              "      <th>target_item</th>\n",
              "    </tr>\n",
              "  </thead>\n",
              "  <tbody>\n",
              "    <tr>\n",
              "      <th>0</th>\n",
              "      <td>59</td>\n",
              "      <td>22154</td>\n",
              "      <td>0</td>\n",
              "      <td>1.0</td>\n",
              "      <td>1.0</td>\n",
              "      <td>999.0</td>\n",
              "      <td>2017.0</td>\n",
              "      <td>16.0</td>\n",
              "    </tr>\n",
              "    <tr>\n",
              "      <th>1</th>\n",
              "      <td>59</td>\n",
              "      <td>2552</td>\n",
              "      <td>0</td>\n",
              "      <td>0.0</td>\n",
              "      <td>0.0</td>\n",
              "      <td>0.0</td>\n",
              "      <td>2017.0</td>\n",
              "      <td>0.0</td>\n",
              "    </tr>\n",
              "    <tr>\n",
              "      <th>2</th>\n",
              "      <td>59</td>\n",
              "      <td>2554</td>\n",
              "      <td>0</td>\n",
              "      <td>0.0</td>\n",
              "      <td>0.0</td>\n",
              "      <td>0.0</td>\n",
              "      <td>2017.0</td>\n",
              "      <td>1.0</td>\n",
              "    </tr>\n",
              "    <tr>\n",
              "      <th>3</th>\n",
              "      <td>59</td>\n",
              "      <td>2555</td>\n",
              "      <td>0</td>\n",
              "      <td>0.0</td>\n",
              "      <td>0.0</td>\n",
              "      <td>0.0</td>\n",
              "      <td>2017.0</td>\n",
              "      <td>1.0</td>\n",
              "    </tr>\n",
              "    <tr>\n",
              "      <th>4</th>\n",
              "      <td>59</td>\n",
              "      <td>2564</td>\n",
              "      <td>0</td>\n",
              "      <td>0.0</td>\n",
              "      <td>0.0</td>\n",
              "      <td>0.0</td>\n",
              "      <td>2017.0</td>\n",
              "      <td>4.0</td>\n",
              "    </tr>\n",
              "  </tbody>\n",
              "</table>\n",
              "</div>"
            ],
            "text/plain": [
              "   shop_id  item_id  date_block_num  target  num_monthly_sales  average_price  \\\n",
              "0       59    22154               0     1.0                1.0          999.0   \n",
              "1       59     2552               0     0.0                0.0            0.0   \n",
              "2       59     2554               0     0.0                0.0            0.0   \n",
              "3       59     2555               0     0.0                0.0            0.0   \n",
              "4       59     2564               0     0.0                0.0            0.0   \n",
              "\n",
              "   target_shop  target_item  \n",
              "0       2017.0         16.0  \n",
              "1       2017.0          0.0  \n",
              "2       2017.0          1.0  \n",
              "3       2017.0          1.0  \n",
              "4       2017.0          4.0  "
            ]
          },
          "metadata": {
            "tags": []
          },
          "execution_count": 224
        }
      ]
    },
    {
      "cell_type": "code",
      "metadata": {
        "id": "SJs1vjdtvd7D"
      },
      "source": [
        "# now we can create the feature blocks_since_first for all_data and test sets\n",
        "# we have to start by identifying the first time an item is recorded\n",
        "first_block_num = all_data.groupby(['item_id']).agg(first_block_num=pd.NamedAgg(column = 'date_block_num', aggfunc = 'min'))\n",
        "# we can now merge it with all_data\n",
        "all_data = pd.merge(all_data , first_block_num, how='left', on='item_id')\n",
        "# then we create the new feature blocks_since_first  (difference between date_block_num and first_block_num) \n",
        "all_data['blocks_since_first'] = all_data['date_block_num']-all_data['first_block_num']\n",
        "# we don't need to keep the first_block_num\n",
        "all_data.drop('first_block_num', axis=1, inplace=True)\n",
        "\n",
        "#now we do the same with test set\n",
        "test = pd.merge(test, first_block_num, how='left' , on='item_id')\n",
        "# we have to fill the na value with 34 for the item that are in test but not in sales\n",
        "test['first_block_num'].fillna(34, inplace=True)\n",
        "test['blocks_since_first']=test['date_block_num']-test['first_block_num']\n",
        "test.drop('first_block_num', axis=1, inplace=True)"
      ],
      "execution_count": null,
      "outputs": []
    },
    {
      "cell_type": "code",
      "metadata": {
        "id": "y-5pHPKx-zSI"
      },
      "source": [
        "# checking that all the items in test set with blocks_since_are in item_id_diff (remember we previously stored the id for all the items in test and not in sales )\n",
        "for item in test[test['blocks_since_first']==0]['item_id'].unique():\n",
        "  if item not in item_id_diff:\n",
        "    print(item)"
      ],
      "execution_count": 230,
      "outputs": []
    },
    {
      "cell_type": "code",
      "metadata": {
        "id": "Z5JJsAOPAUKO"
      },
      "source": [
        "# we are also going to create a binary feature equal to 1 when blocks_since_first is 0 and 0 otherwise\n",
        "all_data['is_new'] = np.where(all_data['blocks_since_first']==0,1,0)\n",
        "test['is_new'] = np.where(test['blocks_since_first']==0,1,0)"
      ],
      "execution_count": 232,
      "outputs": []
    },
    {
      "cell_type": "markdown",
      "metadata": {
        "id": "Y-rGgyX6ATnT"
      },
      "source": [
        "### Merging features with all_data and test\n",
        "\n"
      ]
    },
    {
      "cell_type": "code",
      "metadata": {
        "id": "ut6Ea0RTAG0H"
      },
      "source": [
        "# item_category_id for sales and test datasets\n",
        "item_category_mapping = items[['item_id','item_category_id']]\n",
        "all_data = pd.merge(all_data, item_category_mapping, how='left', on='item_id')\n",
        "test = pd.merge(test, item_category_mapping, how='left', on='item_id')\n",
        "\n",
        "# general_category_id for sales and test datasets\n",
        "all_data = pd.merge(all_data, item_cats[['item_category_id', 'general_category_labelencoded']], how = 'left', on = ['item_category_id'])\n",
        "test = pd.merge(test, item_cats[['item_category_id', 'general_category_labelencoded']], how = 'left', on = ['item_category_id'])\n",
        "\n",
        "# shop_city_labelencoded and location_category_labelencoded for sales and test datasets\n",
        "all_data = pd.merge(all_data, shops[['shop_id', 'shop_city_labelencoded','location_category_labelencoded']], how = 'left', on = ['shop_id'])\n",
        "test = pd.merge(test, shops[['shop_id', 'shop_city_labelencoded','location_category_labelencoded']], how = 'left', on = ['shop_id'])"
      ],
      "execution_count": 233,
      "outputs": []
    },
    {
      "cell_type": "code",
      "metadata": {
        "colab": {
          "base_uri": "https://localhost:8080/"
        },
        "id": "8Fgzg9vL6fXW",
        "outputId": "c81ce5ff-8bf8-4527-96cf-600429ff4a43"
      },
      "source": [
        "del items, shops, item_cats\n",
        "gc.collect()"
      ],
      "execution_count": 234,
      "outputs": [
        {
          "output_type": "execute_result",
          "data": {
            "text/plain": [
              "1020"
            ]
          },
          "metadata": {
            "tags": []
          },
          "execution_count": 234
        }
      ]
    },
    {
      "cell_type": "markdown",
      "metadata": {
        "id": "urdezgBAUmPB"
      },
      "source": [
        "## EDA on aggregated data (all_data)"
      ]
    },
    {
      "cell_type": "code",
      "metadata": {
        "colab": {
          "base_uri": "https://localhost:8080/",
          "height": 374
        },
        "id": "OmcUlzsnRHFP",
        "outputId": "8d7707b7-bfa9-4074-a4d4-ed27a812cb46"
      },
      "source": [
        "# let's plot the global monthly target again date_block_num\n",
        "plt.figure(figsize=(16,6))\n",
        "plt.plot(all_data.groupby('date_block_num').agg({'target':'sum'}))\n",
        "plt.show()"
      ],
      "execution_count": 235,
      "outputs": [
        {
          "output_type": "display_data",
          "data": {
            "image/png": "[encoded data removed]",
            "text/plain": [
              "<Figure size 1152x432 with 1 Axes>"
            ]
          },
          "metadata": {
            "tags": [],
            "needs_background": "light"
          }
        }
      ]
    },
    {
      "cell_type": "markdown",
      "metadata": {
        "id": "XkC_LN9uSRe2"
      },
      "source": [
        "there is a dicreasing trend over time and we have to peeks correponding to month 11 and 23 which correpond to november (maybe sales before christmas).\n",
        "So it is relevant to create features month and year from date_block_num in order to capture this trends "
      ]
    },
    {
      "cell_type": "code",
      "metadata": {
        "id": "KNHZZKiwQIUQ"
      },
      "source": [
        "# let's create a month and year columns that we can extract from date_block_num\n",
        "# month for all data and test sets\n",
        "all_data['month'] = all_data['date_block_num']%12+1\n",
        "test['month'] = test['date_block_num']%12+1\n",
        "\n",
        "# year for all data and test sets\n",
        "all_data['year'] = all_data['date_block_num']//12+1\n",
        "test['year'] = test['date_block_num']//12+1\n"
      ],
      "execution_count": 236,
      "outputs": []
    },
    {
      "cell_type": "markdown",
      "metadata": {
        "id": "4Qlxa6EGaEru"
      },
      "source": [
        "we can also add meanningful features derived from aggregation of target  according to shop_city and general_category"
      ]
    },
    {
      "cell_type": "code",
      "metadata": {
        "id": "8ZcvVY8XUuiC"
      },
      "source": [
        "# Target depending on item_id and shop_city_city\n",
        "gb = all_data.groupby(['date_block_num', 'shop_city_labelencoded', 'item_id'], as_index = False).agg(target_shop_city_item=pd.NamedAgg(column='target',aggfunc='sum'))\n",
        "all_data = pd.merge(all_data, gb, how = 'left', on = ['date_block_num', 'shop_city_labelencoded', 'item_id'])\n",
        "all_data['target_shop_city_item'] = all_data['target_shop_city_item'].fillna(0)"
      ],
      "execution_count": 237,
      "outputs": []
    },
    {
      "cell_type": "code",
      "metadata": {
        "id": "nFJgQFsnU2Wi"
      },
      "source": [
        "# Target depending on shop_id general_category\n",
        "gb = all_data.groupby(['date_block_num', 'general_category_labelencoded', 'shop_id'], as_index = False).agg(target_general_category_shop=pd.NamedAgg(column='target',aggfunc='sum'))\n",
        "all_data = pd.merge(all_data, gb, how = 'left', on = ['date_block_num', 'general_category_labelencoded', 'shop_id'])\n",
        "all_data['target_general_category_shop'] = all_data['target_general_category_shop'].fillna(0)"
      ],
      "execution_count": 238,
      "outputs": []
    },
    {
      "cell_type": "markdown",
      "metadata": {
        "id": "sn4Qu76DUJX8"
      },
      "source": [
        "# Feature engineering"
      ]
    },
    {
      "cell_type": "markdown",
      "metadata": {
        "id": "_FzB0rEeEfm8"
      },
      "source": [
        "first, let's create a new feature by concatenating shop_id and item_id. this feature should be valuable because it gives information about selling performances for an item in a specific shop"
      ]
    },
    {
      "cell_type": "code",
      "metadata": {
        "id": "BR_l558VEeyW"
      },
      "source": [
        "all_data['shop_id-item_id'] = all_data['shop_id'].astype(str)+'-'+all_data['item_id'].astype(str)\n",
        "test['shop_id-item_id'] = test['shop_id'].astype(str)+'-'+test['item_id'].astype(str)"
      ],
      "execution_count": 239,
      "outputs": []
    },
    {
      "cell_type": "markdown",
      "metadata": {
        "id": "TtMlFDcNUJX8"
      },
      "source": [
        "## Mean encoding"
      ]
    },
    {
      "cell_type": "code",
      "metadata": {
        "collapsed": true,
        "id": "1dk4tB9SUJX9"
      },
      "source": [
        "# categorical features to encode\n",
        "categorical_feat = ['shop_id','item_id','item_category_id','shop_id-item_id','shop_city_labelencoded','location_category_labelencoded','general_category_labelencoded','month','year']\n",
        "\n",
        "# target columns for encoding the categorical features\n",
        "target_cols = ['target']"
      ],
      "execution_count": 240,
      "outputs": []
    },
    {
      "cell_type": "markdown",
      "metadata": {
        "id": "sNtJRVSwUJX_"
      },
      "source": [
        "### expanding mean scheme"
      ]
    },
    {
      "cell_type": "code",
      "metadata": {
        "id": "tZWbmF48UJYA",
        "colab": {
          "base_uri": "https://localhost:8080/"
        },
        "outputId": "530a7577-d331-4e32-8c5f-4345f12636ae"
      },
      "source": [
        "# encoding according to target, target_shop and target_item\n",
        "for targ in target_cols:\n",
        "    global_mean = all_data[targ].mean()\n",
        "    for cat_feat in categorical_feat:\n",
        "        cumsum = all_data.groupby(cat_feat)[targ].cumsum()-all_data[targ]\n",
        "        cumcnt = all_data.groupby(cat_feat)[targ].cumcount()\n",
        "\n",
        "        all_data[cat_feat+'_'+targ+'_exp_mean_enc'] = cumsum/cumcnt\n",
        "        all_data[cat_feat+'_'+targ+'_exp_mean_enc'].fillna(all_data[targ].mean(), inplace=True)\n",
        "\n",
        "        mean = all_data.groupby(cat_feat)[targ].mean()\n",
        "        test[cat_feat+'_'+targ+'_exp_mean_enc'] = test['shop_id'].map(mean)\n",
        "        test[cat_feat+'_'+targ+'_exp_mean_enc'].fillna(global_mean, inplace=True)\n",
        "        \n",
        "        encoded_feature = all_data[cat_feat+'_'+targ+'_exp_mean_enc'].values\n",
        "        corr = np.corrcoef(all_data[targ].values, encoded_feature)[0][1]\n",
        "        print(f'correlation between {cat_feat+\"_\"+targ+\"_exp_mean_enc\"} and {targ}: ',corr)\n",
        "        \n",
        "del cumsum , cumcnt , encoded_feature, corr \n",
        "gc.collect();"
      ],
      "execution_count": 241,
      "outputs": [
        {
          "output_type": "stream",
          "text": [
            "correlation between shop_id_target_exp_mean_enc and target:  0.17877969939069735\n",
            "correlation between item_id_target_exp_mean_enc and target:  0.5690545485373696\n",
            "correlation between item_category_id_target_exp_mean_enc and target:  0.29629923847745104\n",
            "correlation between shop_id-item_id_target_exp_mean_enc and target:  0.5420962943370419\n",
            "correlation between shop_city_labelencoded_target_exp_mean_enc and target:  0.12333610965451257\n",
            "correlation between location_category_labelencoded_target_exp_mean_enc and target:  0.040591187052152866\n",
            "correlation between general_category_labelencoded_target_exp_mean_enc and target:  0.17931419989503083\n",
            "correlation between month_target_exp_mean_enc and target:  0.06967532638624017\n",
            "correlation between year_target_exp_mean_enc and target:  0.019905881569833236\n"
          ],
          "name": "stdout"
        }
      ]
    },
    {
      "cell_type": "markdown",
      "metadata": {
        "id": "icUoJxwaUJYB"
      },
      "source": [
        "we can also use lags from [1, 2, 3] months ago."
      ]
    },
    {
      "cell_type": "code",
      "metadata": {
        "id": "rqp9B3NYe5T1"
      },
      "source": [
        "# first we need to concatenate all_data with test in order to lag easily for date_block_num 34\n",
        "all_data = pd.concat([all_data,test]).fillna(0)"
      ],
      "execution_count": 242,
      "outputs": []
    },
    {
      "cell_type": "code",
      "metadata": {
        "colab": {
          "base_uri": "https://localhost:8080/",
          "height": 258
        },
        "id": "2pPgRSsrk3Gr",
        "outputId": "49785dff-288c-49f6-8067-c6654cfcd97d"
      },
      "source": [
        "print(all_data.shape)\n",
        "all_data.head()"
      ],
      "execution_count": 243,
      "outputs": [
        {
          "output_type": "stream",
          "text": [
            "(8799229, 28)\n"
          ],
          "name": "stdout"
        },
        {
          "output_type": "execute_result",
          "data": {
            "text/html": [
              "<div>\n",
              "<style scoped>\n",
              "    .dataframe tbody tr th:only-of-type {\n",
              "        vertical-align: middle;\n",
              "    }\n",
              "\n",
              "    .dataframe tbody tr th {\n",
              "        vertical-align: top;\n",
              "    }\n",
              "\n",
              "    .dataframe thead th {\n",
              "        text-align: right;\n",
              "    }\n",
              "</style>\n",
              "<table border=\"1\" class=\"dataframe\">\n",
              "  <thead>\n",
              "    <tr style=\"text-align: right;\">\n",
              "      <th></th>\n",
              "      <th>shop_id</th>\n",
              "      <th>item_id</th>\n",
              "      <th>date_block_num</th>\n",
              "      <th>target</th>\n",
              "      <th>num_monthly_sales</th>\n",
              "      <th>average_price</th>\n",
              "      <th>target_shop</th>\n",
              "      <th>target_item</th>\n",
              "      <th>blocks_since_first</th>\n",
              "      <th>is_new</th>\n",
              "      <th>item_category_id</th>\n",
              "      <th>general_category_labelencoded</th>\n",
              "      <th>shop_city_labelencoded</th>\n",
              "      <th>location_category_labelencoded</th>\n",
              "      <th>month</th>\n",
              "      <th>year</th>\n",
              "      <th>target_shop_city_item</th>\n",
              "      <th>target_general_category_shop</th>\n",
              "      <th>shop_id-item_id</th>\n",
              "      <th>shop_id_target_exp_mean_enc</th>\n",
              "      <th>item_id_target_exp_mean_enc</th>\n",
              "      <th>item_category_id_target_exp_mean_enc</th>\n",
              "      <th>shop_id-item_id_target_exp_mean_enc</th>\n",
              "      <th>shop_city_labelencoded_target_exp_mean_enc</th>\n",
              "      <th>location_category_labelencoded_target_exp_mean_enc</th>\n",
              "      <th>general_category_labelencoded_target_exp_mean_enc</th>\n",
              "      <th>month_target_exp_mean_enc</th>\n",
              "      <th>year_target_exp_mean_enc</th>\n",
              "    </tr>\n",
              "  </thead>\n",
              "  <tbody>\n",
              "    <tr>\n",
              "      <th>0</th>\n",
              "      <td>59</td>\n",
              "      <td>22154</td>\n",
              "      <td>0</td>\n",
              "      <td>1.0</td>\n",
              "      <td>1.0</td>\n",
              "      <td>999.0</td>\n",
              "      <td>2017.0</td>\n",
              "      <td>16.0</td>\n",
              "      <td>0.0</td>\n",
              "      <td>1</td>\n",
              "      <td>37</td>\n",
              "      <td>11</td>\n",
              "      <td>28</td>\n",
              "      <td>2</td>\n",
              "      <td>1</td>\n",
              "      <td>1</td>\n",
              "      <td>1.0</td>\n",
              "      <td>559.0</td>\n",
              "      <td>59-22154</td>\n",
              "      <td>0.310531</td>\n",
              "      <td>0.310531</td>\n",
              "      <td>0.310531</td>\n",
              "      <td>0.310531</td>\n",
              "      <td>0.310531</td>\n",
              "      <td>0.310531</td>\n",
              "      <td>0.310531</td>\n",
              "      <td>0.310531</td>\n",
              "      <td>0.310531</td>\n",
              "    </tr>\n",
              "    <tr>\n",
              "      <th>1</th>\n",
              "      <td>59</td>\n",
              "      <td>2552</td>\n",
              "      <td>0</td>\n",
              "      <td>0.0</td>\n",
              "      <td>0.0</td>\n",
              "      <td>0.0</td>\n",
              "      <td>2017.0</td>\n",
              "      <td>0.0</td>\n",
              "      <td>0.0</td>\n",
              "      <td>1</td>\n",
              "      <td>58</td>\n",
              "      <td>13</td>\n",
              "      <td>28</td>\n",
              "      <td>2</td>\n",
              "      <td>1</td>\n",
              "      <td>1</td>\n",
              "      <td>0.0</td>\n",
              "      <td>174.0</td>\n",
              "      <td>59-2552</td>\n",
              "      <td>1.000000</td>\n",
              "      <td>0.310531</td>\n",
              "      <td>0.310531</td>\n",
              "      <td>0.310531</td>\n",
              "      <td>1.000000</td>\n",
              "      <td>1.000000</td>\n",
              "      <td>0.310531</td>\n",
              "      <td>1.000000</td>\n",
              "      <td>1.000000</td>\n",
              "    </tr>\n",
              "    <tr>\n",
              "      <th>2</th>\n",
              "      <td>59</td>\n",
              "      <td>2554</td>\n",
              "      <td>0</td>\n",
              "      <td>0.0</td>\n",
              "      <td>0.0</td>\n",
              "      <td>0.0</td>\n",
              "      <td>2017.0</td>\n",
              "      <td>1.0</td>\n",
              "      <td>0.0</td>\n",
              "      <td>1</td>\n",
              "      <td>58</td>\n",
              "      <td>13</td>\n",
              "      <td>28</td>\n",
              "      <td>2</td>\n",
              "      <td>1</td>\n",
              "      <td>1</td>\n",
              "      <td>0.0</td>\n",
              "      <td>174.0</td>\n",
              "      <td>59-2554</td>\n",
              "      <td>0.500000</td>\n",
              "      <td>0.310531</td>\n",
              "      <td>0.000000</td>\n",
              "      <td>0.310531</td>\n",
              "      <td>0.500000</td>\n",
              "      <td>0.500000</td>\n",
              "      <td>0.000000</td>\n",
              "      <td>0.500000</td>\n",
              "      <td>0.500000</td>\n",
              "    </tr>\n",
              "    <tr>\n",
              "      <th>3</th>\n",
              "      <td>59</td>\n",
              "      <td>2555</td>\n",
              "      <td>0</td>\n",
              "      <td>0.0</td>\n",
              "      <td>0.0</td>\n",
              "      <td>0.0</td>\n",
              "      <td>2017.0</td>\n",
              "      <td>1.0</td>\n",
              "      <td>0.0</td>\n",
              "      <td>1</td>\n",
              "      <td>56</td>\n",
              "      <td>13</td>\n",
              "      <td>28</td>\n",
              "      <td>2</td>\n",
              "      <td>1</td>\n",
              "      <td>1</td>\n",
              "      <td>0.0</td>\n",
              "      <td>174.0</td>\n",
              "      <td>59-2555</td>\n",
              "      <td>0.333333</td>\n",
              "      <td>0.310531</td>\n",
              "      <td>0.310531</td>\n",
              "      <td>0.310531</td>\n",
              "      <td>0.333333</td>\n",
              "      <td>0.333333</td>\n",
              "      <td>0.000000</td>\n",
              "      <td>0.333333</td>\n",
              "      <td>0.333333</td>\n",
              "    </tr>\n",
              "    <tr>\n",
              "      <th>4</th>\n",
              "      <td>59</td>\n",
              "      <td>2564</td>\n",
              "      <td>0</td>\n",
              "      <td>0.0</td>\n",
              "      <td>0.0</td>\n",
              "      <td>0.0</td>\n",
              "      <td>2017.0</td>\n",
              "      <td>4.0</td>\n",
              "      <td>0.0</td>\n",
              "      <td>1</td>\n",
              "      <td>59</td>\n",
              "      <td>13</td>\n",
              "      <td>28</td>\n",
              "      <td>2</td>\n",
              "      <td>1</td>\n",
              "      <td>1</td>\n",
              "      <td>0.0</td>\n",
              "      <td>174.0</td>\n",
              "      <td>59-2564</td>\n",
              "      <td>0.250000</td>\n",
              "      <td>0.310531</td>\n",
              "      <td>0.310531</td>\n",
              "      <td>0.310531</td>\n",
              "      <td>0.250000</td>\n",
              "      <td>0.250000</td>\n",
              "      <td>0.000000</td>\n",
              "      <td>0.250000</td>\n",
              "      <td>0.250000</td>\n",
              "    </tr>\n",
              "  </tbody>\n",
              "</table>\n",
              "</div>"
            ],
            "text/plain": [
              "   shop_id  item_id  date_block_num  target  num_monthly_sales  average_price  \\\n",
              "0       59    22154               0     1.0                1.0          999.0   \n",
              "1       59     2552               0     0.0                0.0            0.0   \n",
              "2       59     2554               0     0.0                0.0            0.0   \n",
              "3       59     2555               0     0.0                0.0            0.0   \n",
              "4       59     2564               0     0.0                0.0            0.0   \n",
              "\n",
              "   target_shop  target_item  blocks_since_first  is_new  item_category_id  \\\n",
              "0       2017.0         16.0                 0.0       1                37   \n",
              "1       2017.0          0.0                 0.0       1                58   \n",
              "2       2017.0          1.0                 0.0       1                58   \n",
              "3       2017.0          1.0                 0.0       1                56   \n",
              "4       2017.0          4.0                 0.0       1                59   \n",
              "\n",
              "   general_category_labelencoded  shop_city_labelencoded  \\\n",
              "0                             11                      28   \n",
              "1                             13                      28   \n",
              "2                             13                      28   \n",
              "3                             13                      28   \n",
              "4                             13                      28   \n",
              "\n",
              "   location_category_labelencoded  month  year  target_shop_city_item  \\\n",
              "0                               2      1     1                    1.0   \n",
              "1                               2      1     1                    0.0   \n",
              "2                               2      1     1                    0.0   \n",
              "3                               2      1     1                    0.0   \n",
              "4                               2      1     1                    0.0   \n",
              "\n",
              "   target_general_category_shop shop_id-item_id  shop_id_target_exp_mean_enc  \\\n",
              "0                         559.0        59-22154                     0.310531   \n",
              "1                         174.0         59-2552                     1.000000   \n",
              "2                         174.0         59-2554                     0.500000   \n",
              "3                         174.0         59-2555                     0.333333   \n",
              "4                         174.0         59-2564                     0.250000   \n",
              "\n",
              "   item_id_target_exp_mean_enc  item_category_id_target_exp_mean_enc  \\\n",
              "0                     0.310531                              0.310531   \n",
              "1                     0.310531                              0.310531   \n",
              "2                     0.310531                              0.000000   \n",
              "3                     0.310531                              0.310531   \n",
              "4                     0.310531                              0.310531   \n",
              "\n",
              "   shop_id-item_id_target_exp_mean_enc  \\\n",
              "0                             0.310531   \n",
              "1                             0.310531   \n",
              "2                             0.310531   \n",
              "3                             0.310531   \n",
              "4                             0.310531   \n",
              "\n",
              "   shop_city_labelencoded_target_exp_mean_enc  \\\n",
              "0                                    0.310531   \n",
              "1                                    1.000000   \n",
              "2                                    0.500000   \n",
              "3                                    0.333333   \n",
              "4                                    0.250000   \n",
              "\n",
              "   location_category_labelencoded_target_exp_mean_enc  \\\n",
              "0                                           0.310531    \n",
              "1                                           1.000000    \n",
              "2                                           0.500000    \n",
              "3                                           0.333333    \n",
              "4                                           0.250000    \n",
              "\n",
              "   general_category_labelencoded_target_exp_mean_enc  \\\n",
              "0                                           0.310531   \n",
              "1                                           0.310531   \n",
              "2                                           0.000000   \n",
              "3                                           0.000000   \n",
              "4                                           0.000000   \n",
              "\n",
              "   month_target_exp_mean_enc  year_target_exp_mean_enc  \n",
              "0                   0.310531                  0.310531  \n",
              "1                   1.000000                  1.000000  \n",
              "2                   0.500000                  0.500000  \n",
              "3                   0.333333                  0.333333  \n",
              "4                   0.250000                  0.250000  "
            ]
          },
          "metadata": {
            "tags": []
          },
          "execution_count": 243
        }
      ]
    },
    {
      "cell_type": "code",
      "metadata": {
        "colab": {
          "base_uri": "https://localhost:8080/",
          "height": 117,
          "referenced_widgets": [
            "279c65938f9d4a27b767a75561b10e67",
            "88dce12fa1944f26bb36a3e985754bcb",
            "2668584813594730a74bb47ab26fd3f5",
            "5c447e1e8c0446a084a100e1f3e712f0",
            "87e1482bcaf34a5483a275143a8694cf",
            "cfe8c28f39e047759ea224d95686b8c6",
            "b281fb66c7a3431293769c0a8d2eab2e",
            "921d6b638e5643bbb5024a552bf64ce3"
          ]
        },
        "id": "XvyaPTZmUJYB",
        "outputId": "51a71176-aa03-43ac-f34e-381cc39484e7"
      },
      "source": [
        "index_cols_2 = ['shop_id', 'item_id', 'item_category_id' , 'date_block_num']\n",
        "# we are going to create lags on the following columns\n",
        "feats_to_lag = ['target','num_monthly_sales','average_price','target_shop','target_item','target_shop_city_item','target_general_category_shop']\n",
        "# let's set different months shift ranges we want to introduce \n",
        "shift_range = [1, 2, 3]\n",
        "\n",
        "for month_shift in tqdm_notebook(shift_range):\n",
        "    train_shift = all_data[index_cols_2 + feats_to_lag].copy()\n",
        "    \n",
        "    train_shift['date_block_num'] = train_shift['date_block_num'] + month_shift\n",
        "    \n",
        "    foo = lambda x: '{}_lag_{}'.format(x, month_shift) if x in feats_to_lag else x\n",
        "    train_shift = train_shift.rename(columns=foo)\n",
        "\n",
        "    all_data = pd.merge(all_data, train_shift, on=index_cols_2, how='left').fillna(0)\n",
        "\n",
        "del train_shift\n",
        "   \n",
        "\n",
        "# Don't use old data from date_block_num < 3\n",
        "all_data = all_data[all_data['date_block_num'] >= 3] \n",
        "\n",
        "\n",
        "gc.collect();"
      ],
      "execution_count": 244,
      "outputs": [
        {
          "output_type": "stream",
          "text": [
            "/usr/local/lib/python3.7/dist-packages/ipykernel_launcher.py:7: TqdmDeprecationWarning: This function will be removed in tqdm==5.0.0\n",
            "Please use `tqdm.notebook.tqdm` instead of `tqdm.tqdm_notebook`\n",
            "  import sys\n"
          ],
          "name": "stderr"
        },
        {
          "output_type": "display_data",
          "data": {
            "application/vnd.jupyter.widget-view+json": {
              "model_id": "279c65938f9d4a27b767a75561b10e67",
              "version_minor": 0,
              "version_major": 2
            },
            "text/plain": [
              "HBox(children=(FloatProgress(value=0.0, max=3.0), HTML(value='')))"
            ]
          },
          "metadata": {
            "tags": []
          }
        },
        {
          "output_type": "stream",
          "text": [
            "\n"
          ],
          "name": "stdout"
        }
      ]
    },
    {
      "cell_type": "code",
      "metadata": {
        "colab": {
          "base_uri": "https://localhost:8080/",
          "height": 241
        },
        "id": "n1mc9s_6nsF3",
        "outputId": "589a1c4d-30b0-4204-8e25-6205e88129bf"
      },
      "source": [
        "all_data.head()"
      ],
      "execution_count": 245,
      "outputs": [
        {
          "output_type": "execute_result",
          "data": {
            "text/html": [
              "<div>\n",
              "<style scoped>\n",
              "    .dataframe tbody tr th:only-of-type {\n",
              "        vertical-align: middle;\n",
              "    }\n",
              "\n",
              "    .dataframe tbody tr th {\n",
              "        vertical-align: top;\n",
              "    }\n",
              "\n",
              "    .dataframe thead th {\n",
              "        text-align: right;\n",
              "    }\n",
              "</style>\n",
              "<table border=\"1\" class=\"dataframe\">\n",
              "  <thead>\n",
              "    <tr style=\"text-align: right;\">\n",
              "      <th></th>\n",
              "      <th>shop_id</th>\n",
              "      <th>item_id</th>\n",
              "      <th>date_block_num</th>\n",
              "      <th>target</th>\n",
              "      <th>num_monthly_sales</th>\n",
              "      <th>average_price</th>\n",
              "      <th>target_shop</th>\n",
              "      <th>target_item</th>\n",
              "      <th>blocks_since_first</th>\n",
              "      <th>is_new</th>\n",
              "      <th>item_category_id</th>\n",
              "      <th>general_category_labelencoded</th>\n",
              "      <th>shop_city_labelencoded</th>\n",
              "      <th>location_category_labelencoded</th>\n",
              "      <th>month</th>\n",
              "      <th>year</th>\n",
              "      <th>target_shop_city_item</th>\n",
              "      <th>target_general_category_shop</th>\n",
              "      <th>shop_id-item_id</th>\n",
              "      <th>shop_id_target_exp_mean_enc</th>\n",
              "      <th>item_id_target_exp_mean_enc</th>\n",
              "      <th>item_category_id_target_exp_mean_enc</th>\n",
              "      <th>shop_id-item_id_target_exp_mean_enc</th>\n",
              "      <th>shop_city_labelencoded_target_exp_mean_enc</th>\n",
              "      <th>location_category_labelencoded_target_exp_mean_enc</th>\n",
              "      <th>general_category_labelencoded_target_exp_mean_enc</th>\n",
              "      <th>month_target_exp_mean_enc</th>\n",
              "      <th>year_target_exp_mean_enc</th>\n",
              "      <th>target_lag_1</th>\n",
              "      <th>num_monthly_sales_lag_1</th>\n",
              "      <th>average_price_lag_1</th>\n",
              "      <th>target_shop_lag_1</th>\n",
              "      <th>target_item_lag_1</th>\n",
              "      <th>target_shop_city_item_lag_1</th>\n",
              "      <th>target_general_category_shop_lag_1</th>\n",
              "      <th>target_lag_2</th>\n",
              "      <th>num_monthly_sales_lag_2</th>\n",
              "      <th>average_price_lag_2</th>\n",
              "      <th>target_shop_lag_2</th>\n",
              "      <th>target_item_lag_2</th>\n",
              "      <th>target_shop_city_item_lag_2</th>\n",
              "      <th>target_general_category_shop_lag_2</th>\n",
              "      <th>target_lag_3</th>\n",
              "      <th>num_monthly_sales_lag_3</th>\n",
              "      <th>average_price_lag_3</th>\n",
              "      <th>target_shop_lag_3</th>\n",
              "      <th>target_item_lag_3</th>\n",
              "      <th>target_shop_city_item_lag_3</th>\n",
              "      <th>target_general_category_shop_lag_3</th>\n",
              "    </tr>\n",
              "  </thead>\n",
              "  <tbody>\n",
              "    <tr>\n",
              "      <th>784711</th>\n",
              "      <td>25</td>\n",
              "      <td>8092</td>\n",
              "      <td>3</td>\n",
              "      <td>3.0</td>\n",
              "      <td>3.0</td>\n",
              "      <td>149.0</td>\n",
              "      <td>7867.0</td>\n",
              "      <td>20.0</td>\n",
              "      <td>3.0</td>\n",
              "      <td>0</td>\n",
              "      <td>40</td>\n",
              "      <td>11</td>\n",
              "      <td>12</td>\n",
              "      <td>0</td>\n",
              "      <td>4</td>\n",
              "      <td>1</td>\n",
              "      <td>6.0</td>\n",
              "      <td>2790.0</td>\n",
              "      <td>25-8092</td>\n",
              "      <td>1.029819</td>\n",
              "      <td>0.854369</td>\n",
              "      <td>0.282266</td>\n",
              "      <td>1.666667</td>\n",
              "      <td>0.598345</td>\n",
              "      <td>0.397575</td>\n",
              "      <td>0.264814</td>\n",
              "      <td>0.310531</td>\n",
              "      <td>0.358151</td>\n",
              "      <td>1.0</td>\n",
              "      <td>1.0</td>\n",
              "      <td>149.0</td>\n",
              "      <td>9732.0</td>\n",
              "      <td>24.0</td>\n",
              "      <td>7.0</td>\n",
              "      <td>3220.0</td>\n",
              "      <td>0.0</td>\n",
              "      <td>0.0</td>\n",
              "      <td>0.0</td>\n",
              "      <td>7934.0</td>\n",
              "      <td>18.0</td>\n",
              "      <td>5.0</td>\n",
              "      <td>2683.0</td>\n",
              "      <td>4.0</td>\n",
              "      <td>4.0</td>\n",
              "      <td>149.0</td>\n",
              "      <td>8215.0</td>\n",
              "      <td>46.0</td>\n",
              "      <td>15.0</td>\n",
              "      <td>3007.0</td>\n",
              "    </tr>\n",
              "    <tr>\n",
              "      <th>784712</th>\n",
              "      <td>25</td>\n",
              "      <td>7850</td>\n",
              "      <td>3</td>\n",
              "      <td>3.0</td>\n",
              "      <td>3.0</td>\n",
              "      <td>199.0</td>\n",
              "      <td>7867.0</td>\n",
              "      <td>59.0</td>\n",
              "      <td>3.0</td>\n",
              "      <td>0</td>\n",
              "      <td>30</td>\n",
              "      <td>8</td>\n",
              "      <td>12</td>\n",
              "      <td>0</td>\n",
              "      <td>4</td>\n",
              "      <td>1</td>\n",
              "      <td>15.0</td>\n",
              "      <td>984.0</td>\n",
              "      <td>25-7850</td>\n",
              "      <td>1.029905</td>\n",
              "      <td>2.029126</td>\n",
              "      <td>1.233800</td>\n",
              "      <td>4.000000</td>\n",
              "      <td>0.598360</td>\n",
              "      <td>0.397588</td>\n",
              "      <td>1.303467</td>\n",
              "      <td>3.000000</td>\n",
              "      <td>0.358154</td>\n",
              "      <td>5.0</td>\n",
              "      <td>4.0</td>\n",
              "      <td>199.0</td>\n",
              "      <td>9732.0</td>\n",
              "      <td>72.0</td>\n",
              "      <td>26.0</td>\n",
              "      <td>1245.0</td>\n",
              "      <td>1.0</td>\n",
              "      <td>1.0</td>\n",
              "      <td>199.0</td>\n",
              "      <td>7934.0</td>\n",
              "      <td>39.0</td>\n",
              "      <td>9.0</td>\n",
              "      <td>985.0</td>\n",
              "      <td>6.0</td>\n",
              "      <td>5.0</td>\n",
              "      <td>199.0</td>\n",
              "      <td>8215.0</td>\n",
              "      <td>98.0</td>\n",
              "      <td>16.0</td>\n",
              "      <td>1073.0</td>\n",
              "    </tr>\n",
              "    <tr>\n",
              "      <th>784713</th>\n",
              "      <td>25</td>\n",
              "      <td>8051</td>\n",
              "      <td>3</td>\n",
              "      <td>3.0</td>\n",
              "      <td>2.0</td>\n",
              "      <td>30.0</td>\n",
              "      <td>7867.0</td>\n",
              "      <td>5.0</td>\n",
              "      <td>3.0</td>\n",
              "      <td>0</td>\n",
              "      <td>66</td>\n",
              "      <td>14</td>\n",
              "      <td>12</td>\n",
              "      <td>0</td>\n",
              "      <td>4</td>\n",
              "      <td>1</td>\n",
              "      <td>3.0</td>\n",
              "      <td>1032.0</td>\n",
              "      <td>25-8051</td>\n",
              "      <td>1.029991</td>\n",
              "      <td>0.058252</td>\n",
              "      <td>0.205279</td>\n",
              "      <td>0.000000</td>\n",
              "      <td>0.598375</td>\n",
              "      <td>0.397602</td>\n",
              "      <td>0.315142</td>\n",
              "      <td>3.000000</td>\n",
              "      <td>0.358158</td>\n",
              "      <td>0.0</td>\n",
              "      <td>0.0</td>\n",
              "      <td>0.0</td>\n",
              "      <td>9732.0</td>\n",
              "      <td>1.0</td>\n",
              "      <td>0.0</td>\n",
              "      <td>1030.0</td>\n",
              "      <td>0.0</td>\n",
              "      <td>0.0</td>\n",
              "      <td>0.0</td>\n",
              "      <td>7934.0</td>\n",
              "      <td>2.0</td>\n",
              "      <td>1.0</td>\n",
              "      <td>935.0</td>\n",
              "      <td>0.0</td>\n",
              "      <td>0.0</td>\n",
              "      <td>0.0</td>\n",
              "      <td>8215.0</td>\n",
              "      <td>3.0</td>\n",
              "      <td>3.0</td>\n",
              "      <td>874.0</td>\n",
              "    </tr>\n",
              "    <tr>\n",
              "      <th>784714</th>\n",
              "      <td>25</td>\n",
              "      <td>8088</td>\n",
              "      <td>3</td>\n",
              "      <td>1.0</td>\n",
              "      <td>1.0</td>\n",
              "      <td>199.0</td>\n",
              "      <td>7867.0</td>\n",
              "      <td>2.0</td>\n",
              "      <td>3.0</td>\n",
              "      <td>0</td>\n",
              "      <td>55</td>\n",
              "      <td>13</td>\n",
              "      <td>12</td>\n",
              "      <td>0</td>\n",
              "      <td>4</td>\n",
              "      <td>1</td>\n",
              "      <td>1.0</td>\n",
              "      <td>1130.0</td>\n",
              "      <td>25-8088</td>\n",
              "      <td>1.030077</td>\n",
              "      <td>0.067961</td>\n",
              "      <td>0.208362</td>\n",
              "      <td>0.666667</td>\n",
              "      <td>0.598390</td>\n",
              "      <td>0.397616</td>\n",
              "      <td>0.168631</td>\n",
              "      <td>3.000000</td>\n",
              "      <td>0.358161</td>\n",
              "      <td>1.0</td>\n",
              "      <td>1.0</td>\n",
              "      <td>199.0</td>\n",
              "      <td>9732.0</td>\n",
              "      <td>4.0</td>\n",
              "      <td>2.0</td>\n",
              "      <td>1137.0</td>\n",
              "      <td>1.0</td>\n",
              "      <td>1.0</td>\n",
              "      <td>199.0</td>\n",
              "      <td>7934.0</td>\n",
              "      <td>1.0</td>\n",
              "      <td>1.0</td>\n",
              "      <td>1135.0</td>\n",
              "      <td>0.0</td>\n",
              "      <td>0.0</td>\n",
              "      <td>0.0</td>\n",
              "      <td>8215.0</td>\n",
              "      <td>2.0</td>\n",
              "      <td>0.0</td>\n",
              "      <td>1097.0</td>\n",
              "    </tr>\n",
              "    <tr>\n",
              "      <th>784715</th>\n",
              "      <td>25</td>\n",
              "      <td>8089</td>\n",
              "      <td>3</td>\n",
              "      <td>1.0</td>\n",
              "      <td>1.0</td>\n",
              "      <td>199.0</td>\n",
              "      <td>7867.0</td>\n",
              "      <td>14.0</td>\n",
              "      <td>3.0</td>\n",
              "      <td>0</td>\n",
              "      <td>55</td>\n",
              "      <td>13</td>\n",
              "      <td>12</td>\n",
              "      <td>0</td>\n",
              "      <td>4</td>\n",
              "      <td>1</td>\n",
              "      <td>2.0</td>\n",
              "      <td>1130.0</td>\n",
              "      <td>25-8089</td>\n",
              "      <td>1.030076</td>\n",
              "      <td>0.281553</td>\n",
              "      <td>0.208368</td>\n",
              "      <td>0.333333</td>\n",
              "      <td>0.598392</td>\n",
              "      <td>0.397619</td>\n",
              "      <td>0.168635</td>\n",
              "      <td>2.500000</td>\n",
              "      <td>0.358162</td>\n",
              "      <td>0.0</td>\n",
              "      <td>0.0</td>\n",
              "      <td>0.0</td>\n",
              "      <td>9732.0</td>\n",
              "      <td>13.0</td>\n",
              "      <td>4.0</td>\n",
              "      <td>1137.0</td>\n",
              "      <td>1.0</td>\n",
              "      <td>1.0</td>\n",
              "      <td>199.0</td>\n",
              "      <td>7934.0</td>\n",
              "      <td>10.0</td>\n",
              "      <td>2.0</td>\n",
              "      <td>1135.0</td>\n",
              "      <td>0.0</td>\n",
              "      <td>0.0</td>\n",
              "      <td>0.0</td>\n",
              "      <td>8215.0</td>\n",
              "      <td>6.0</td>\n",
              "      <td>0.0</td>\n",
              "      <td>1097.0</td>\n",
              "    </tr>\n",
              "  </tbody>\n",
              "</table>\n",
              "</div>"
            ],
            "text/plain": [
              "        shop_id  item_id  date_block_num  target  num_monthly_sales  \\\n",
              "784711       25     8092               3     3.0                3.0   \n",
              "784712       25     7850               3     3.0                3.0   \n",
              "784713       25     8051               3     3.0                2.0   \n",
              "784714       25     8088               3     1.0                1.0   \n",
              "784715       25     8089               3     1.0                1.0   \n",
              "\n",
              "        average_price  target_shop  target_item  blocks_since_first  is_new  \\\n",
              "784711          149.0       7867.0         20.0                 3.0       0   \n",
              "784712          199.0       7867.0         59.0                 3.0       0   \n",
              "784713           30.0       7867.0          5.0                 3.0       0   \n",
              "784714          199.0       7867.0          2.0                 3.0       0   \n",
              "784715          199.0       7867.0         14.0                 3.0       0   \n",
              "\n",
              "        item_category_id  general_category_labelencoded  \\\n",
              "784711                40                             11   \n",
              "784712                30                              8   \n",
              "784713                66                             14   \n",
              "784714                55                             13   \n",
              "784715                55                             13   \n",
              "\n",
              "        shop_city_labelencoded  location_category_labelencoded  month  year  \\\n",
              "784711                      12                               0      4     1   \n",
              "784712                      12                               0      4     1   \n",
              "784713                      12                               0      4     1   \n",
              "784714                      12                               0      4     1   \n",
              "784715                      12                               0      4     1   \n",
              "\n",
              "        target_shop_city_item  target_general_category_shop shop_id-item_id  \\\n",
              "784711                    6.0                        2790.0         25-8092   \n",
              "784712                   15.0                         984.0         25-7850   \n",
              "784713                    3.0                        1032.0         25-8051   \n",
              "784714                    1.0                        1130.0         25-8088   \n",
              "784715                    2.0                        1130.0         25-8089   \n",
              "\n",
              "        shop_id_target_exp_mean_enc  item_id_target_exp_mean_enc  \\\n",
              "784711                     1.029819                     0.854369   \n",
              "784712                     1.029905                     2.029126   \n",
              "784713                     1.029991                     0.058252   \n",
              "784714                     1.030077                     0.067961   \n",
              "784715                     1.030076                     0.281553   \n",
              "\n",
              "        item_category_id_target_exp_mean_enc  \\\n",
              "784711                              0.282266   \n",
              "784712                              1.233800   \n",
              "784713                              0.205279   \n",
              "784714                              0.208362   \n",
              "784715                              0.208368   \n",
              "\n",
              "        shop_id-item_id_target_exp_mean_enc  \\\n",
              "784711                             1.666667   \n",
              "784712                             4.000000   \n",
              "784713                             0.000000   \n",
              "784714                             0.666667   \n",
              "784715                             0.333333   \n",
              "\n",
              "        shop_city_labelencoded_target_exp_mean_enc  \\\n",
              "784711                                    0.598345   \n",
              "784712                                    0.598360   \n",
              "784713                                    0.598375   \n",
              "784714                                    0.598390   \n",
              "784715                                    0.598392   \n",
              "\n",
              "        location_category_labelencoded_target_exp_mean_enc  \\\n",
              "784711                                           0.397575    \n",
              "784712                                           0.397588    \n",
              "784713                                           0.397602    \n",
              "784714                                           0.397616    \n",
              "784715                                           0.397619    \n",
              "\n",
              "        general_category_labelencoded_target_exp_mean_enc  \\\n",
              "784711                                           0.264814   \n",
              "784712                                           1.303467   \n",
              "784713                                           0.315142   \n",
              "784714                                           0.168631   \n",
              "784715                                           0.168635   \n",
              "\n",
              "        month_target_exp_mean_enc  year_target_exp_mean_enc  target_lag_1  \\\n",
              "784711                   0.310531                  0.358151           1.0   \n",
              "784712                   3.000000                  0.358154           5.0   \n",
              "784713                   3.000000                  0.358158           0.0   \n",
              "784714                   3.000000                  0.358161           1.0   \n",
              "784715                   2.500000                  0.358162           0.0   \n",
              "\n",
              "        num_monthly_sales_lag_1  average_price_lag_1  target_shop_lag_1  \\\n",
              "784711                      1.0                149.0             9732.0   \n",
              "784712                      4.0                199.0             9732.0   \n",
              "784713                      0.0                  0.0             9732.0   \n",
              "784714                      1.0                199.0             9732.0   \n",
              "784715                      0.0                  0.0             9732.0   \n",
              "\n",
              "        target_item_lag_1  target_shop_city_item_lag_1  \\\n",
              "784711               24.0                          7.0   \n",
              "784712               72.0                         26.0   \n",
              "784713                1.0                          0.0   \n",
              "784714                4.0                          2.0   \n",
              "784715               13.0                          4.0   \n",
              "\n",
              "        target_general_category_shop_lag_1  target_lag_2  \\\n",
              "784711                              3220.0           0.0   \n",
              "784712                              1245.0           1.0   \n",
              "784713                              1030.0           0.0   \n",
              "784714                              1137.0           1.0   \n",
              "784715                              1137.0           1.0   \n",
              "\n",
              "        num_monthly_sales_lag_2  average_price_lag_2  target_shop_lag_2  \\\n",
              "784711                      0.0                  0.0             7934.0   \n",
              "784712                      1.0                199.0             7934.0   \n",
              "784713                      0.0                  0.0             7934.0   \n",
              "784714                      1.0                199.0             7934.0   \n",
              "784715                      1.0                199.0             7934.0   \n",
              "\n",
              "        target_item_lag_2  target_shop_city_item_lag_2  \\\n",
              "784711               18.0                          5.0   \n",
              "784712               39.0                          9.0   \n",
              "784713                2.0                          1.0   \n",
              "784714                1.0                          1.0   \n",
              "784715               10.0                          2.0   \n",
              "\n",
              "        target_general_category_shop_lag_2  target_lag_3  \\\n",
              "784711                              2683.0           4.0   \n",
              "784712                               985.0           6.0   \n",
              "784713                               935.0           0.0   \n",
              "784714                              1135.0           0.0   \n",
              "784715                              1135.0           0.0   \n",
              "\n",
              "        num_monthly_sales_lag_3  average_price_lag_3  target_shop_lag_3  \\\n",
              "784711                      4.0                149.0             8215.0   \n",
              "784712                      5.0                199.0             8215.0   \n",
              "784713                      0.0                  0.0             8215.0   \n",
              "784714                      0.0                  0.0             8215.0   \n",
              "784715                      0.0                  0.0             8215.0   \n",
              "\n",
              "        target_item_lag_3  target_shop_city_item_lag_3  \\\n",
              "784711               46.0                         15.0   \n",
              "784712               98.0                         16.0   \n",
              "784713                3.0                          3.0   \n",
              "784714                2.0                          0.0   \n",
              "784715                6.0                          0.0   \n",
              "\n",
              "        target_general_category_shop_lag_3  \n",
              "784711                              3007.0  \n",
              "784712                              1073.0  \n",
              "784713                               874.0  \n",
              "784714                              1097.0  \n",
              "784715                              1097.0  "
            ]
          },
          "metadata": {
            "tags": []
          },
          "execution_count": 245
        }
      ]
    },
    {
      "cell_type": "markdown",
      "metadata": {
        "id": "usv_kiY_nbdL"
      },
      "source": [
        "### lagged features interaction"
      ]
    },
    {
      "cell_type": "code",
      "metadata": {
        "id": "6mp-VcNTn2LI"
      },
      "source": [
        "# difference between target_lag_1 and target_lag_2\n",
        "all_data['diff_target_lag_1_lag_2'] = all_data['target_lag_1']-all_data['target_lag_2']\n",
        "\n",
        "# increase between target_lag_1 and target_lag_2\n",
        "all_data['inc_target_lag_1_lag_2'] = (all_data['target_lag_1']-all_data['target_lag_2'])/all_data['target_lag_2']\n",
        "all_data['inc_target_lag_1_lag_2'] = all_data['inc_target_lag_1_lag_2'].replace([np.inf], np.nan).fillna(0)\n",
        "\n",
        "# target_lag_mean\n",
        "all_data['target_lag_average'] = all_data[['target_lag_1','target_lag_2','target_lag_3']].mean(axis=1)"
      ],
      "execution_count": 246,
      "outputs": []
    },
    {
      "cell_type": "markdown",
      "metadata": {
        "id": "BZqel5I8UJYC"
      },
      "source": [
        "## feature extraction (after processing feature extraction from text vectorization there is a lack of RAM while training models)\n",
        "I will just let the code here even if I didn't use it"
      ]
    },
    {
      "cell_type": "markdown",
      "metadata": {
        "id": "YfjRWlIFUJYC"
      },
      "source": [
        "now that we have created lagged features from target, target_shop and target_item we can vectorize text from item name, category name and shop name that can be very valuable for our purpose"
      ]
    },
    {
      "cell_type": "code",
      "metadata": {
        "id": "HkT_hG77UJYC"
      },
      "source": [
        "# Installing nltk package in the current Jupyter kernel\n",
        "#import sys\n",
        "#!{sys.executable} -m pip install nltk"
      ],
      "execution_count": null,
      "outputs": []
    },
    {
      "cell_type": "code",
      "metadata": {
        "id": "7xAiY-a1xqZj"
      },
      "source": [
        "# installing pymystem3 v3.0 (had some troubles with latest version, please take a look at https://github.com/nlpub/pymystem3/issues/28)\n",
        "#!wget http://download.cdn.yandex.net/mystem/mystem-3.0-linux3.1-64bit.tar.gz\n",
        "#!tar -xvf mystem-3.0-linux3.1-64bit.tar.gz\n",
        "#!cp mystem /bin"
      ],
      "execution_count": null,
      "outputs": []
    },
    {
      "cell_type": "code",
      "metadata": {
        "id": "WCpU2objzJNu"
      },
      "source": [
        "#import nltk\n",
        "#from pymystem3 import Mystem\n",
        "#from nltk.corpus import stopwords \n",
        "#nltk.download('stopwords')\n",
        "\n",
        "\n",
        "#mystem = Mystem() \n",
        "#russian_stopwords = stopwords.words(\"russian\")\n",
        "#from string import punctuation\n",
        "\n",
        "#Preprocess function\n",
        "#def my_tokenizer(text):\n",
        "    #tokens = mystem.lemmatize(text.lower())\n",
        "    #tokens = [token for token in tokens if token not in russian_stopwords\\\n",
        "              #and token != \" \" \\\n",
        "              #and token.strip() not in punctuation]\n",
        "    \n",
        "    #return tokens"
      ],
      "execution_count": null,
      "outputs": []
    },
    {
      "cell_type": "code",
      "metadata": {
        "collapsed": true,
        "id": "U8Hb8BbkUJYD"
      },
      "source": [
        "#vectorizer = TfidfVectorizer(max_features = 10 , tokenizer=my_tokenizer)"
      ],
      "execution_count": null,
      "outputs": []
    },
    {
      "cell_type": "code",
      "metadata": {
        "collapsed": true,
        "id": "z_ma4dZnUJYD"
      },
      "source": [
        "#####tokenizing item_name#####\n",
        "#X = vectorizer.fit_transform(items['item_name'])\n",
        "# transforming X to a DataFrame\n",
        "#X_df = pd.DataFrame(X.toarray())\n",
        "#X_df['item_id']=items['item_id']\n",
        "# now we can merge X_df and all_data on item_id\n",
        "#all_data = pd.merge(all_data,X_df,on='item_id',how='left')\n",
        "#all_data = downcast_dtypes(all_data)\n",
        "\n",
        "#del X,X_df\n",
        "#gc.collect();"
      ],
      "execution_count": null,
      "outputs": []
    },
    {
      "cell_type": "code",
      "metadata": {
        "collapsed": true,
        "id": "bkgeKlJ6UJYE"
      },
      "source": [
        "#####tokenizing shop_name#####\n",
        "#X = vectorizer.fit_transform(shops['shop_name'])\n",
        "# transforming X to a DataFrame\n",
        "#X_df = pd.DataFrame(X.toarray())\n",
        "#X_df['shop_id']=shops['shop_id']\n",
        "# now we can merge X_df and all_data on shop_id\n",
        "#all_data = pd.merge(all_data,X_df,on='shop_id',how='left')\n",
        "#all_data = downcast_dtypes(all_data)\n",
        "\n",
        "#del X,X_df\n",
        "#gc.collect();"
      ],
      "execution_count": null,
      "outputs": []
    },
    {
      "cell_type": "code",
      "metadata": {
        "collapsed": true,
        "id": "FWOFRhLbUJYE"
      },
      "source": [
        "#####tokenizing item_category_name#####\n",
        "#X = vectorizer.fit_transform(item_cats['item_category_name'])\n",
        "# transforming X to a DataFrame\n",
        "#X_df = pd.DataFrame(X.toarray())\n",
        "#X_df['item_category_id']=item_cats['item_category_id']\n",
        "# now we can merge X_df and all_data on item_category_id\n",
        "#all_data = pd.merge(all_data,X_df,on='item_category_id',how='left')\n",
        "#all_data = downcast_dtypes(all_data)\n",
        "\n",
        "#del X,X_df\n",
        "#gc.collect();"
      ],
      "execution_count": null,
      "outputs": []
    },
    {
      "cell_type": "code",
      "metadata": {
        "collapsed": true,
        "id": "nH0V7DLwUJYE",
        "colab": {
          "base_uri": "https://localhost:8080/"
        },
        "outputId": "93df9884-5719-4b05-f441-2ab0b11a8167"
      },
      "source": [
        "all_data = downcast_dtypes(all_data)\n",
        "print('data shape: ',all_data.shape)\n",
        "all_data.isna().sum()"
      ],
      "execution_count": null,
      "outputs": [
        {
          "output_type": "stream",
          "text": [
            "data shape:  (9988310, 50)\n"
          ],
          "name": "stdout"
        },
        {
          "output_type": "execute_result",
          "data": {
            "text/plain": [
              "shop_id                                               0\n",
              "item_id                                               0\n",
              "date_block_num                                        0\n",
              "target                                                0\n",
              "num_monthly_sales                                     0\n",
              "average_price                                         0\n",
              "target_shop                                           0\n",
              "target_item                                           0\n",
              "item_category_id                                      0\n",
              "general_category_labelencoded                         0\n",
              "shop_city_labelencoded                                0\n",
              "location_category_labelencoded                        0\n",
              "month                                                 0\n",
              "year                                                  0\n",
              "target_shop_city_item                                 0\n",
              "target_general_category_shop                          0\n",
              "shop_id-item_id                                       0\n",
              "shop_id_target_exp_mean_enc                           0\n",
              "item_id_target_exp_mean_enc                           0\n",
              "item_category_id_target_exp_mean_enc                  0\n",
              "shop_id-item_id_target_exp_mean_enc                   0\n",
              "shop_city_labelencoded_target_exp_mean_enc            0\n",
              "location_category_labelencoded_target_exp_mean_enc    0\n",
              "general_category_labelencoded_target_exp_mean_enc     0\n",
              "month_target_exp_mean_enc                             0\n",
              "year_target_exp_mean_enc                              0\n",
              "target_lag_1                                          0\n",
              "num_monthly_sales_lag_1                               0\n",
              "average_price_lag_1                                   0\n",
              "target_shop_lag_1                                     0\n",
              "target_item_lag_1                                     0\n",
              "target_shop_city_item_lag_1                           0\n",
              "target_general_category_shop_lag_1                    0\n",
              "target_lag_2                                          0\n",
              "num_monthly_sales_lag_2                               0\n",
              "average_price_lag_2                                   0\n",
              "target_shop_lag_2                                     0\n",
              "target_item_lag_2                                     0\n",
              "target_shop_city_item_lag_2                           0\n",
              "target_general_category_shop_lag_2                    0\n",
              "target_lag_3                                          0\n",
              "num_monthly_sales_lag_3                               0\n",
              "average_price_lag_3                                   0\n",
              "target_shop_lag_3                                     0\n",
              "target_item_lag_3                                     0\n",
              "target_shop_city_item_lag_3                           0\n",
              "target_general_category_shop_lag_3                    0\n",
              "diff_target_lag_1_lag_2                               0\n",
              "inc_target_lag_1_lag_2                                0\n",
              "target_lag_average                                    0\n",
              "dtype: int64"
            ]
          },
          "metadata": {
            "tags": []
          },
          "execution_count": 69
        }
      ]
    },
    {
      "cell_type": "markdown",
      "metadata": {
        "id": "pkB8BJTchkch"
      },
      "source": [
        "first we need  to set our train, validation and test sets. For train set we take all the recordings corresponding to months 0 to 32\n",
        "for validation set we take all the recordings from month 33\n",
        "and for test set we take all the recordings from month 34"
      ]
    },
    {
      "cell_type": "code",
      "metadata": {
        "id": "CSz5SbV7qQM5"
      },
      "source": [
        "# save data in order to reload it if needed\n",
        "all_data.to_pickle('all_data.pkl')"
      ],
      "execution_count": null,
      "outputs": []
    },
    {
      "cell_type": "code",
      "metadata": {
        "colab": {
          "base_uri": "https://localhost:8080/"
        },
        "id": "nFJK0gPX_jx1",
        "outputId": "7cacccab-d53e-41c8-890f-103db8ca217d"
      },
      "source": [
        "# features to drop\n",
        "feats_to_drop = feats_to_lag + ['shop_id-item_id']\n",
        "feats_to_drop"
      ],
      "execution_count": 247,
      "outputs": [
        {
          "output_type": "execute_result",
          "data": {
            "text/plain": [
              "['target',\n",
              " 'num_monthly_sales',\n",
              " 'average_price',\n",
              " 'target_shop',\n",
              " 'target_item',\n",
              " 'target_shop_city_item',\n",
              " 'target_general_category_shop',\n",
              " 'shop_id-item_id']"
            ]
          },
          "metadata": {
            "tags": []
          },
          "execution_count": 247
        }
      ]
    },
    {
      "cell_type": "code",
      "metadata": {
        "colab": {
          "base_uri": "https://localhost:8080/"
        },
        "id": "164qxV_dhtG5",
        "outputId": "2b04e591-0b50-43d9-bf44-e5dffb4d9e5b"
      },
      "source": [
        "# train set\n",
        "X_train = all_data[all_data['date_block_num']<33].drop(feats_to_drop,axis=1)\n",
        "y_train = all_data[all_data['date_block_num']<33]['target']\n",
        "print('X_train shape: ',X_train.shape)\n",
        "print('y_train shape: ',y_train.shape)"
      ],
      "execution_count": 248,
      "outputs": [
        {
          "output_type": "stream",
          "text": [
            "X_train shape:  (7578516, 44)\n",
            "y_train shape:  (7578516,)\n"
          ],
          "name": "stdout"
        }
      ]
    },
    {
      "cell_type": "code",
      "metadata": {
        "colab": {
          "base_uri": "https://localhost:8080/"
        },
        "id": "aUBRXC7WwYXN",
        "outputId": "e24b703b-24f2-47b6-affa-554dc61c4136"
      },
      "source": [
        "# validation set\n",
        "X_val = all_data[all_data['date_block_num']==33].drop(feats_to_drop,axis=1)\n",
        "y_val = all_data[all_data['date_block_num']==33]['target']\n",
        "print('X_val shape: ',X_val.shape)\n",
        "print('y_val shape: ',y_val.shape)"
      ],
      "execution_count": 249,
      "outputs": [
        {
          "output_type": "stream",
          "text": [
            "X_val shape:  (221802, 44)\n",
            "y_val shape:  (221802,)\n"
          ],
          "name": "stdout"
        }
      ]
    },
    {
      "cell_type": "code",
      "metadata": {
        "colab": {
          "base_uri": "https://localhost:8080/"
        },
        "id": "Ulcu75c2Ql2g",
        "outputId": "63c2507c-1b7e-46e2-b935-ce5583c4ddb3"
      },
      "source": [
        "# test set\n",
        "X_test = all_data[all_data['date_block_num']==34].drop(feats_to_drop,axis=1)\n",
        "print('X_test shape: ',X_test.shape)"
      ],
      "execution_count": 250,
      "outputs": [
        {
          "output_type": "stream",
          "text": [
            "X_test shape:  (214200, 44)\n"
          ],
          "name": "stdout"
        }
      ]
    },
    {
      "cell_type": "code",
      "metadata": {
        "colab": {
          "base_uri": "https://localhost:8080/"
        },
        "id": "wNTT73RXCkyJ",
        "outputId": "4fd87118-50d5-41b4-a32e-4e2f2cef9d92"
      },
      "source": [
        "del all_data\n",
        "gc.collect()"
      ],
      "execution_count": 251,
      "outputs": [
        {
          "output_type": "execute_result",
          "data": {
            "text/plain": [
              "466"
            ]
          },
          "metadata": {
            "tags": []
          },
          "execution_count": 251
        }
      ]
    },
    {
      "cell_type": "markdown",
      "metadata": {
        "id": "5M7QwIMYUJYH"
      },
      "source": [
        "# Ensembling"
      ]
    },
    {
      "cell_type": "code",
      "metadata": {
        "id": "q5osTLnK8TGy"
      },
      "source": [
        "from xgboost import XGBRegressor\n",
        "from xgboost import plot_importance\n",
        "\n",
        "def plot_features(booster , features):\n",
        "    fig , ax = plt.subplots(1,1,figsize = (16,10))\n",
        "    return plot_importance(booster = booster , ax = ax)\n",
        "\n",
        "import time"
      ],
      "execution_count": 252,
      "outputs": []
    },
    {
      "cell_type": "code",
      "metadata": {
        "colab": {
          "base_uri": "https://localhost:8080/"
        },
        "id": "pAUO3kzU776l",
        "outputId": "e89747c9-1e33-4dc9-a765-88a43f4a09ca"
      },
      "source": [
        "#implementing xgboost ~\n",
        "\n",
        "ts = time.time()\n",
        "\n",
        "model = XGBRegressor(\n",
        "    max_depth=8,\n",
        "    n_estimators=200,\n",
        "    min_child_weight=300, \n",
        "    colsample_bytree=0.75, \n",
        "    subsample=0.75, \n",
        "    eta=0.3,    \n",
        "    random_state=42,\n",
        "    n_jobs=-1)\n",
        "\n",
        "model.fit(\n",
        "    X_train, \n",
        "    y_train, \n",
        "    eval_metric=\"rmse\", \n",
        "    eval_set=[(X_train, y_train), (X_val, y_val)], \n",
        "    verbose=True, \n",
        "    early_stopping_rounds = 10)\n",
        "\n",
        "time.time() - ts"
      ],
      "execution_count": 253,
      "outputs": [
        {
          "output_type": "stream",
          "text": [
            "[21:17:48] WARNING: /workspace/src/objective/regression_obj.cu:152: reg:linear is now deprecated in favor of reg:squarederror.\n",
            "[21:17:48] WARNING: /workspace/src/learner.cc:686: Tree method is automatically selected to be 'approx' for faster speed. To use old behavior (exact greedy algorithm on single machine), set tree_method to 'exact'.\n",
            "[0]\tvalidation_0-rmse:1.1903\tvalidation_1-rmse:1.0563\n",
            "Multiple eval metrics have been passed: 'validation_1-rmse' will be used for early stopping.\n",
            "\n",
            "Will train until validation_1-rmse hasn't improved in 10 rounds.\n",
            "[1]\tvalidation_0-rmse:1.14404\tvalidation_1-rmse:1.01791\n",
            "[2]\tvalidation_0-rmse:1.10487\tvalidation_1-rmse:0.986307\n",
            "[3]\tvalidation_0-rmse:1.06905\tvalidation_1-rmse:0.955958\n",
            "[4]\tvalidation_0-rmse:1.02687\tvalidation_1-rmse:0.918536\n",
            "[5]\tvalidation_0-rmse:0.990963\tvalidation_1-rmse:0.886711\n",
            "[6]\tvalidation_0-rmse:0.960883\tvalidation_1-rmse:0.859632\n",
            "[7]\tvalidation_0-rmse:0.935202\tvalidation_1-rmse:0.840324\n",
            "[8]\tvalidation_0-rmse:0.913448\tvalidation_1-rmse:0.819861\n",
            "[9]\tvalidation_0-rmse:0.894972\tvalidation_1-rmse:0.806138\n",
            "[10]\tvalidation_0-rmse:0.879496\tvalidation_1-rmse:0.792248\n",
            "[11]\tvalidation_0-rmse:0.866031\tvalidation_1-rmse:0.781219\n",
            "[12]\tvalidation_0-rmse:0.857577\tvalidation_1-rmse:0.775668\n",
            "[13]\tvalidation_0-rmse:0.850178\tvalidation_1-rmse:0.770736\n",
            "[14]\tvalidation_0-rmse:0.841022\tvalidation_1-rmse:0.762069\n",
            "[15]\tvalidation_0-rmse:0.833197\tvalidation_1-rmse:0.755349\n",
            "[16]\tvalidation_0-rmse:0.826402\tvalidation_1-rmse:0.750473\n",
            "[17]\tvalidation_0-rmse:0.820294\tvalidation_1-rmse:0.745467\n",
            "[18]\tvalidation_0-rmse:0.81499\tvalidation_1-rmse:0.740711\n",
            "[19]\tvalidation_0-rmse:0.809888\tvalidation_1-rmse:0.735964\n",
            "[20]\tvalidation_0-rmse:0.805264\tvalidation_1-rmse:0.732433\n",
            "[21]\tvalidation_0-rmse:0.801687\tvalidation_1-rmse:0.730237\n",
            "[22]\tvalidation_0-rmse:0.798495\tvalidation_1-rmse:0.728031\n",
            "[23]\tvalidation_0-rmse:0.79583\tvalidation_1-rmse:0.726486\n",
            "[24]\tvalidation_0-rmse:0.793648\tvalidation_1-rmse:0.725177\n",
            "[25]\tvalidation_0-rmse:0.790899\tvalidation_1-rmse:0.723266\n",
            "[26]\tvalidation_0-rmse:0.788866\tvalidation_1-rmse:0.721943\n",
            "[27]\tvalidation_0-rmse:0.787196\tvalidation_1-rmse:0.72113\n",
            "[28]\tvalidation_0-rmse:0.785479\tvalidation_1-rmse:0.720044\n",
            "[29]\tvalidation_0-rmse:0.784011\tvalidation_1-rmse:0.718742\n",
            "[30]\tvalidation_0-rmse:0.782419\tvalidation_1-rmse:0.717961\n",
            "[31]\tvalidation_0-rmse:0.780212\tvalidation_1-rmse:0.716705\n",
            "[32]\tvalidation_0-rmse:0.778886\tvalidation_1-rmse:0.7159\n",
            "[33]\tvalidation_0-rmse:0.777872\tvalidation_1-rmse:0.715411\n",
            "[34]\tvalidation_0-rmse:0.777087\tvalidation_1-rmse:0.714841\n",
            "[35]\tvalidation_0-rmse:0.775488\tvalidation_1-rmse:0.712855\n",
            "[36]\tvalidation_0-rmse:0.774703\tvalidation_1-rmse:0.712518\n",
            "[37]\tvalidation_0-rmse:0.77357\tvalidation_1-rmse:0.712416\n",
            "[38]\tvalidation_0-rmse:0.772662\tvalidation_1-rmse:0.711749\n",
            "[39]\tvalidation_0-rmse:0.771865\tvalidation_1-rmse:0.711351\n",
            "[40]\tvalidation_0-rmse:0.771277\tvalidation_1-rmse:0.711025\n",
            "[41]\tvalidation_0-rmse:0.77075\tvalidation_1-rmse:0.710763\n",
            "[42]\tvalidation_0-rmse:0.770376\tvalidation_1-rmse:0.710679\n",
            "[43]\tvalidation_0-rmse:0.769628\tvalidation_1-rmse:0.709704\n",
            "[44]\tvalidation_0-rmse:0.769331\tvalidation_1-rmse:0.709406\n",
            "[45]\tvalidation_0-rmse:0.768625\tvalidation_1-rmse:0.709142\n",
            "[46]\tvalidation_0-rmse:0.767938\tvalidation_1-rmse:0.708629\n",
            "[47]\tvalidation_0-rmse:0.766821\tvalidation_1-rmse:0.708054\n",
            "[48]\tvalidation_0-rmse:0.766487\tvalidation_1-rmse:0.708047\n",
            "[49]\tvalidation_0-rmse:0.766319\tvalidation_1-rmse:0.707912\n",
            "[50]\tvalidation_0-rmse:0.766112\tvalidation_1-rmse:0.707862\n",
            "[51]\tvalidation_0-rmse:0.76561\tvalidation_1-rmse:0.707757\n",
            "[52]\tvalidation_0-rmse:0.765261\tvalidation_1-rmse:0.707575\n",
            "[53]\tvalidation_0-rmse:0.764941\tvalidation_1-rmse:0.707346\n",
            "[54]\tvalidation_0-rmse:0.764721\tvalidation_1-rmse:0.707168\n",
            "[55]\tvalidation_0-rmse:0.764488\tvalidation_1-rmse:0.707117\n",
            "[56]\tvalidation_0-rmse:0.764284\tvalidation_1-rmse:0.707119\n",
            "[57]\tvalidation_0-rmse:0.76363\tvalidation_1-rmse:0.706678\n",
            "[58]\tvalidation_0-rmse:0.763439\tvalidation_1-rmse:0.706568\n",
            "[59]\tvalidation_0-rmse:0.762982\tvalidation_1-rmse:0.706345\n",
            "[60]\tvalidation_0-rmse:0.762655\tvalidation_1-rmse:0.706182\n",
            "[61]\tvalidation_0-rmse:0.761904\tvalidation_1-rmse:0.705555\n",
            "[62]\tvalidation_0-rmse:0.761629\tvalidation_1-rmse:0.705346\n",
            "[63]\tvalidation_0-rmse:0.761374\tvalidation_1-rmse:0.705193\n",
            "[64]\tvalidation_0-rmse:0.761128\tvalidation_1-rmse:0.704991\n",
            "[65]\tvalidation_0-rmse:0.760685\tvalidation_1-rmse:0.70467\n",
            "[66]\tvalidation_0-rmse:0.760507\tvalidation_1-rmse:0.704582\n",
            "[67]\tvalidation_0-rmse:0.760151\tvalidation_1-rmse:0.704544\n",
            "[68]\tvalidation_0-rmse:0.759665\tvalidation_1-rmse:0.704373\n",
            "[69]\tvalidation_0-rmse:0.759094\tvalidation_1-rmse:0.704153\n",
            "[70]\tvalidation_0-rmse:0.758783\tvalidation_1-rmse:0.70403\n",
            "[71]\tvalidation_0-rmse:0.758554\tvalidation_1-rmse:0.704031\n",
            "[72]\tvalidation_0-rmse:0.758314\tvalidation_1-rmse:0.703961\n",
            "[73]\tvalidation_0-rmse:0.75798\tvalidation_1-rmse:0.703797\n",
            "[74]\tvalidation_0-rmse:0.757762\tvalidation_1-rmse:0.703725\n",
            "[75]\tvalidation_0-rmse:0.757691\tvalidation_1-rmse:0.7037\n",
            "[76]\tvalidation_0-rmse:0.757367\tvalidation_1-rmse:0.703539\n",
            "[77]\tvalidation_0-rmse:0.757147\tvalidation_1-rmse:0.703298\n",
            "[78]\tvalidation_0-rmse:0.756667\tvalidation_1-rmse:0.703634\n",
            "[79]\tvalidation_0-rmse:0.756458\tvalidation_1-rmse:0.703659\n",
            "[80]\tvalidation_0-rmse:0.756354\tvalidation_1-rmse:0.7035\n",
            "[81]\tvalidation_0-rmse:0.756194\tvalidation_1-rmse:0.703563\n",
            "[82]\tvalidation_0-rmse:0.756044\tvalidation_1-rmse:0.703537\n",
            "[83]\tvalidation_0-rmse:0.75566\tvalidation_1-rmse:0.702849\n",
            "[84]\tvalidation_0-rmse:0.755459\tvalidation_1-rmse:0.702777\n",
            "[85]\tvalidation_0-rmse:0.755249\tvalidation_1-rmse:0.70284\n",
            "[86]\tvalidation_0-rmse:0.755079\tvalidation_1-rmse:0.702799\n",
            "[87]\tvalidation_0-rmse:0.754941\tvalidation_1-rmse:0.702737\n",
            "[88]\tvalidation_0-rmse:0.754812\tvalidation_1-rmse:0.702726\n",
            "[89]\tvalidation_0-rmse:0.754644\tvalidation_1-rmse:0.702683\n",
            "[90]\tvalidation_0-rmse:0.754507\tvalidation_1-rmse:0.702843\n",
            "[91]\tvalidation_0-rmse:0.754309\tvalidation_1-rmse:0.702856\n",
            "[92]\tvalidation_0-rmse:0.75391\tvalidation_1-rmse:0.703039\n",
            "[93]\tvalidation_0-rmse:0.753717\tvalidation_1-rmse:0.702998\n",
            "[94]\tvalidation_0-rmse:0.753574\tvalidation_1-rmse:0.702965\n",
            "[95]\tvalidation_0-rmse:0.753258\tvalidation_1-rmse:0.703046\n",
            "[96]\tvalidation_0-rmse:0.753041\tvalidation_1-rmse:0.703116\n",
            "[97]\tvalidation_0-rmse:0.752997\tvalidation_1-rmse:0.703096\n",
            "[98]\tvalidation_0-rmse:0.752585\tvalidation_1-rmse:0.703\n",
            "[99]\tvalidation_0-rmse:0.752266\tvalidation_1-rmse:0.702717\n",
            "Stopping. Best iteration:\n",
            "[89]\tvalidation_0-rmse:0.754644\tvalidation_1-rmse:0.702683\n",
            "\n"
          ],
          "name": "stdout"
        },
        {
          "output_type": "execute_result",
          "data": {
            "text/plain": [
              "2380.432209253311"
            ]
          },
          "metadata": {
            "tags": []
          },
          "execution_count": 253
        }
      ]
    },
    {
      "cell_type": "code",
      "metadata": {
        "id": "lvZqyAdLm7nJ"
      },
      "source": [
        "# submission file~\n",
        "\n",
        "XGB_pred = model.predict(X_test).clip(0,20)\n",
        "\n",
        "submission = pd.DataFrame({\"ID\": test_ID, \"item_cnt_month\": XGB_pred})\n",
        "submission.to_csv('submission_v1.4.1.csv', index=False)"
      ],
      "execution_count": 254,
      "outputs": []
    },
    {
      "cell_type": "code",
      "metadata": {
        "colab": {
          "base_uri": "https://localhost:8080/",
          "height": 625
        },
        "id": "KLfghGoQRsfd",
        "outputId": "fe5c8a9c-0eaf-4eed-a1ad-106e9fc57b8a"
      },
      "source": [
        "# feature importance\n",
        "plot_features(model , X_train.columns)"
      ],
      "execution_count": 255,
      "outputs": [
        {
          "output_type": "execute_result",
          "data": {
            "text/plain": [
              "<matplotlib.axes._subplots.AxesSubplot at 0x7f96ad8676d0>"
            ]
          },
          "metadata": {
            "tags": []
          },
          "execution_count": 255
        },
        {
          "output_type": "display_data",
          "data": {
            "image/png": "[encoded data removed]",
            "text/plain": [
              "<Figure size 1152x720 with 1 Axes>"
            ]
          },
          "metadata": {
            "tags": [],
            "needs_background": "light"
          }
        }
      ]
    },
    {
      "cell_type": "markdown",
      "metadata": {
        "id": "rdL4qXrfD_AS"
      },
      "source": [
        ""
      ]
    }
  ]
}