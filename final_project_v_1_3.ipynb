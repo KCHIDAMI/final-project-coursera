{
  "nbformat": 4,
  "nbformat_minor": 0,
  "metadata": {
    "colab": {
      "name": "final_project v.1.3.ipynb",
      "provenance": [],
      "collapsed_sections": [
        "9mxu6DXTUJYG",
        "BM3fbpxUUJYH",
        "HP9BBMCIUJYI"
      ],
      "machine_shape": "hm"
    },
    "kernelspec": {
      "display_name": "Python 3",
      "language": "python",
      "name": "python3"
    },
    "language_info": {
      "codemirror_mode": {
        "name": "ipython",
        "version": 3
      },
      "file_extension": ".py",
      "mimetype": "text/x-python",
      "name": "python",
      "nbconvert_exporter": "python",
      "pygments_lexer": "ipython3",
      "version": "3.6.2"
    },
    "widgets": {
      "application/vnd.jupyter.widget-state+json": {
        "ba91a4d796124a57a3730e43bd9ddb55": {
          "model_module": "@jupyter-widgets/controls",
          "model_name": "HBoxModel",
          "state": {
            "_view_name": "HBoxView",
            "_dom_classes": [],
            "_model_name": "HBoxModel",
            "_view_module": "@jupyter-widgets/controls",
            "_model_module_version": "1.5.0",
            "_view_count": null,
            "_view_module_version": "1.5.0",
            "box_style": "",
            "layout": "IPY_MODEL_4f37a5ff0d044460bad0e330ac33c23b",
            "_model_module": "@jupyter-widgets/controls",
            "children": [
              "IPY_MODEL_bb1f08849d004d7db30f36a59e144005",
              "IPY_MODEL_ec5df8b5da7845f7b7584b3f18e1aa80"
            ]
          }
        },
        "4f37a5ff0d044460bad0e330ac33c23b": {
          "model_module": "@jupyter-widgets/base",
          "model_name": "LayoutModel",
          "state": {
            "_view_name": "LayoutView",
            "grid_template_rows": null,
            "right": null,
            "justify_content": null,
            "_view_module": "@jupyter-widgets/base",
            "overflow": null,
            "_model_module_version": "1.2.0",
            "_view_count": null,
            "flex_flow": null,
            "width": null,
            "min_width": null,
            "border": null,
            "align_items": null,
            "bottom": null,
            "_model_module": "@jupyter-widgets/base",
            "top": null,
            "grid_column": null,
            "overflow_y": null,
            "overflow_x": null,
            "grid_auto_flow": null,
            "grid_area": null,
            "grid_template_columns": null,
            "flex": null,
            "_model_name": "LayoutModel",
            "justify_items": null,
            "grid_row": null,
            "max_height": null,
            "align_content": null,
            "visibility": null,
            "align_self": null,
            "height": null,
            "min_height": null,
            "padding": null,
            "grid_auto_rows": null,
            "grid_gap": null,
            "max_width": null,
            "order": null,
            "_view_module_version": "1.2.0",
            "grid_template_areas": null,
            "object_position": null,
            "object_fit": null,
            "grid_auto_columns": null,
            "margin": null,
            "display": null,
            "left": null
          }
        },
        "bb1f08849d004d7db30f36a59e144005": {
          "model_module": "@jupyter-widgets/controls",
          "model_name": "FloatProgressModel",
          "state": {
            "_view_name": "ProgressView",
            "style": "IPY_MODEL_85fd12009b1b4845aa2594b6f653e8b4",
            "_dom_classes": [],
            "description": "100%",
            "_model_name": "FloatProgressModel",
            "bar_style": "success",
            "max": 362,
            "_view_module": "@jupyter-widgets/controls",
            "_model_module_version": "1.5.0",
            "value": 362,
            "_view_count": null,
            "_view_module_version": "1.5.0",
            "orientation": "horizontal",
            "min": 0,
            "description_tooltip": null,
            "_model_module": "@jupyter-widgets/controls",
            "layout": "IPY_MODEL_27827bde47b04b7e8046f99134714a7a"
          }
        },
        "ec5df8b5da7845f7b7584b3f18e1aa80": {
          "model_module": "@jupyter-widgets/controls",
          "model_name": "HTMLModel",
          "state": {
            "_view_name": "HTMLView",
            "style": "IPY_MODEL_a445bfa719564b6e9eaf85e5552b595b",
            "_dom_classes": [],
            "description": "",
            "_model_name": "HTMLModel",
            "placeholder": "​",
            "_view_module": "@jupyter-widgets/controls",
            "_model_module_version": "1.5.0",
            "value": " 362/362 [00:27&lt;00:00, 13.37it/s]",
            "_view_count": null,
            "_view_module_version": "1.5.0",
            "description_tooltip": null,
            "_model_module": "@jupyter-widgets/controls",
            "layout": "IPY_MODEL_6aa6299e9428415eba6a1e17e9303e6a"
          }
        },
        "85fd12009b1b4845aa2594b6f653e8b4": {
          "model_module": "@jupyter-widgets/controls",
          "model_name": "ProgressStyleModel",
          "state": {
            "_view_name": "StyleView",
            "_model_name": "ProgressStyleModel",
            "description_width": "initial",
            "_view_module": "@jupyter-widgets/base",
            "_model_module_version": "1.5.0",
            "_view_count": null,
            "_view_module_version": "1.2.0",
            "bar_color": null,
            "_model_module": "@jupyter-widgets/controls"
          }
        },
        "27827bde47b04b7e8046f99134714a7a": {
          "model_module": "@jupyter-widgets/base",
          "model_name": "LayoutModel",
          "state": {
            "_view_name": "LayoutView",
            "grid_template_rows": null,
            "right": null,
            "justify_content": null,
            "_view_module": "@jupyter-widgets/base",
            "overflow": null,
            "_model_module_version": "1.2.0",
            "_view_count": null,
            "flex_flow": null,
            "width": null,
            "min_width": null,
            "border": null,
            "align_items": null,
            "bottom": null,
            "_model_module": "@jupyter-widgets/base",
            "top": null,
            "grid_column": null,
            "overflow_y": null,
            "overflow_x": null,
            "grid_auto_flow": null,
            "grid_area": null,
            "grid_template_columns": null,
            "flex": null,
            "_model_name": "LayoutModel",
            "justify_items": null,
            "grid_row": null,
            "max_height": null,
            "align_content": null,
            "visibility": null,
            "align_self": null,
            "height": null,
            "min_height": null,
            "padding": null,
            "grid_auto_rows": null,
            "grid_gap": null,
            "max_width": null,
            "order": null,
            "_view_module_version": "1.2.0",
            "grid_template_areas": null,
            "object_position": null,
            "object_fit": null,
            "grid_auto_columns": null,
            "margin": null,
            "display": null,
            "left": null
          }
        },
        "a445bfa719564b6e9eaf85e5552b595b": {
          "model_module": "@jupyter-widgets/controls",
          "model_name": "DescriptionStyleModel",
          "state": {
            "_view_name": "StyleView",
            "_model_name": "DescriptionStyleModel",
            "description_width": "",
            "_view_module": "@jupyter-widgets/base",
            "_model_module_version": "1.5.0",
            "_view_count": null,
            "_view_module_version": "1.2.0",
            "_model_module": "@jupyter-widgets/controls"
          }
        },
        "6aa6299e9428415eba6a1e17e9303e6a": {
          "model_module": "@jupyter-widgets/base",
          "model_name": "LayoutModel",
          "state": {
            "_view_name": "LayoutView",
            "grid_template_rows": null,
            "right": null,
            "justify_content": null,
            "_view_module": "@jupyter-widgets/base",
            "overflow": null,
            "_model_module_version": "1.2.0",
            "_view_count": null,
            "flex_flow": null,
            "width": null,
            "min_width": null,
            "border": null,
            "align_items": null,
            "bottom": null,
            "_model_module": "@jupyter-widgets/base",
            "top": null,
            "grid_column": null,
            "overflow_y": null,
            "overflow_x": null,
            "grid_auto_flow": null,
            "grid_area": null,
            "grid_template_columns": null,
            "flex": null,
            "_model_name": "LayoutModel",
            "justify_items": null,
            "grid_row": null,
            "max_height": null,
            "align_content": null,
            "visibility": null,
            "align_self": null,
            "height": null,
            "min_height": null,
            "padding": null,
            "grid_auto_rows": null,
            "grid_gap": null,
            "max_width": null,
            "order": null,
            "_view_module_version": "1.2.0",
            "grid_template_areas": null,
            "object_position": null,
            "object_fit": null,
            "grid_auto_columns": null,
            "margin": null,
            "display": null,
            "left": null
          }
        },
        "314d1929f40345e8aaa47a97fcb7d8df": {
          "model_module": "@jupyter-widgets/controls",
          "model_name": "HBoxModel",
          "state": {
            "_view_name": "HBoxView",
            "_dom_classes": [],
            "_model_name": "HBoxModel",
            "_view_module": "@jupyter-widgets/controls",
            "_model_module_version": "1.5.0",
            "_view_count": null,
            "_view_module_version": "1.5.0",
            "box_style": "",
            "layout": "IPY_MODEL_9b50aa2d0baa4a4ca8c9664cdb3ef6d1",
            "_model_module": "@jupyter-widgets/controls",
            "children": [
              "IPY_MODEL_e54940e0154f45ca832ecfde3684aa3d",
              "IPY_MODEL_49b5fe9aa02a4cf09299fbc0ff871fc1"
            ]
          }
        },
        "9b50aa2d0baa4a4ca8c9664cdb3ef6d1": {
          "model_module": "@jupyter-widgets/base",
          "model_name": "LayoutModel",
          "state": {
            "_view_name": "LayoutView",
            "grid_template_rows": null,
            "right": null,
            "justify_content": null,
            "_view_module": "@jupyter-widgets/base",
            "overflow": null,
            "_model_module_version": "1.2.0",
            "_view_count": null,
            "flex_flow": null,
            "width": null,
            "min_width": null,
            "border": null,
            "align_items": null,
            "bottom": null,
            "_model_module": "@jupyter-widgets/base",
            "top": null,
            "grid_column": null,
            "overflow_y": null,
            "overflow_x": null,
            "grid_auto_flow": null,
            "grid_area": null,
            "grid_template_columns": null,
            "flex": null,
            "_model_name": "LayoutModel",
            "justify_items": null,
            "grid_row": null,
            "max_height": null,
            "align_content": null,
            "visibility": null,
            "align_self": null,
            "height": null,
            "min_height": null,
            "padding": null,
            "grid_auto_rows": null,
            "grid_gap": null,
            "max_width": null,
            "order": null,
            "_view_module_version": "1.2.0",
            "grid_template_areas": null,
            "object_position": null,
            "object_fit": null,
            "grid_auto_columns": null,
            "margin": null,
            "display": null,
            "left": null
          }
        },
        "e54940e0154f45ca832ecfde3684aa3d": {
          "model_module": "@jupyter-widgets/controls",
          "model_name": "FloatProgressModel",
          "state": {
            "_view_name": "ProgressView",
            "style": "IPY_MODEL_83f00ccec9784c4987e5b8249bbc51d3",
            "_dom_classes": [],
            "description": "100%",
            "_model_name": "FloatProgressModel",
            "bar_style": "success",
            "max": 6,
            "_view_module": "@jupyter-widgets/controls",
            "_model_module_version": "1.5.0",
            "value": 6,
            "_view_count": null,
            "_view_module_version": "1.5.0",
            "orientation": "horizontal",
            "min": 0,
            "description_tooltip": null,
            "_model_module": "@jupyter-widgets/controls",
            "layout": "IPY_MODEL_fce708deff3546bc9bf8bb38dee7a85f"
          }
        },
        "49b5fe9aa02a4cf09299fbc0ff871fc1": {
          "model_module": "@jupyter-widgets/controls",
          "model_name": "HTMLModel",
          "state": {
            "_view_name": "HTMLView",
            "style": "IPY_MODEL_dd9ecb0b546041d38b29ed249540b718",
            "_dom_classes": [],
            "description": "",
            "_model_name": "HTMLModel",
            "placeholder": "​",
            "_view_module": "@jupyter-widgets/controls",
            "_model_module_version": "1.5.0",
            "value": " 6/6 [01:09&lt;00:00, 11.51s/it]",
            "_view_count": null,
            "_view_module_version": "1.5.0",
            "description_tooltip": null,
            "_model_module": "@jupyter-widgets/controls",
            "layout": "IPY_MODEL_5d1bda37a26644e2afcde5b8a2470e91"
          }
        },
        "83f00ccec9784c4987e5b8249bbc51d3": {
          "model_module": "@jupyter-widgets/controls",
          "model_name": "ProgressStyleModel",
          "state": {
            "_view_name": "StyleView",
            "_model_name": "ProgressStyleModel",
            "description_width": "initial",
            "_view_module": "@jupyter-widgets/base",
            "_model_module_version": "1.5.0",
            "_view_count": null,
            "_view_module_version": "1.2.0",
            "bar_color": null,
            "_model_module": "@jupyter-widgets/controls"
          }
        },
        "fce708deff3546bc9bf8bb38dee7a85f": {
          "model_module": "@jupyter-widgets/base",
          "model_name": "LayoutModel",
          "state": {
            "_view_name": "LayoutView",
            "grid_template_rows": null,
            "right": null,
            "justify_content": null,
            "_view_module": "@jupyter-widgets/base",
            "overflow": null,
            "_model_module_version": "1.2.0",
            "_view_count": null,
            "flex_flow": null,
            "width": null,
            "min_width": null,
            "border": null,
            "align_items": null,
            "bottom": null,
            "_model_module": "@jupyter-widgets/base",
            "top": null,
            "grid_column": null,
            "overflow_y": null,
            "overflow_x": null,
            "grid_auto_flow": null,
            "grid_area": null,
            "grid_template_columns": null,
            "flex": null,
            "_model_name": "LayoutModel",
            "justify_items": null,
            "grid_row": null,
            "max_height": null,
            "align_content": null,
            "visibility": null,
            "align_self": null,
            "height": null,
            "min_height": null,
            "padding": null,
            "grid_auto_rows": null,
            "grid_gap": null,
            "max_width": null,
            "order": null,
            "_view_module_version": "1.2.0",
            "grid_template_areas": null,
            "object_position": null,
            "object_fit": null,
            "grid_auto_columns": null,
            "margin": null,
            "display": null,
            "left": null
          }
        },
        "dd9ecb0b546041d38b29ed249540b718": {
          "model_module": "@jupyter-widgets/controls",
          "model_name": "DescriptionStyleModel",
          "state": {
            "_view_name": "StyleView",
            "_model_name": "DescriptionStyleModel",
            "description_width": "",
            "_view_module": "@jupyter-widgets/base",
            "_model_module_version": "1.5.0",
            "_view_count": null,
            "_view_module_version": "1.2.0",
            "_model_module": "@jupyter-widgets/controls"
          }
        },
        "5d1bda37a26644e2afcde5b8a2470e91": {
          "model_module": "@jupyter-widgets/base",
          "model_name": "LayoutModel",
          "state": {
            "_view_name": "LayoutView",
            "grid_template_rows": null,
            "right": null,
            "justify_content": null,
            "_view_module": "@jupyter-widgets/base",
            "overflow": null,
            "_model_module_version": "1.2.0",
            "_view_count": null,
            "flex_flow": null,
            "width": null,
            "min_width": null,
            "border": null,
            "align_items": null,
            "bottom": null,
            "_model_module": "@jupyter-widgets/base",
            "top": null,
            "grid_column": null,
            "overflow_y": null,
            "overflow_x": null,
            "grid_auto_flow": null,
            "grid_area": null,
            "grid_template_columns": null,
            "flex": null,
            "_model_name": "LayoutModel",
            "justify_items": null,
            "grid_row": null,
            "max_height": null,
            "align_content": null,
            "visibility": null,
            "align_self": null,
            "height": null,
            "min_height": null,
            "padding": null,
            "grid_auto_rows": null,
            "grid_gap": null,
            "max_width": null,
            "order": null,
            "_view_module_version": "1.2.0",
            "grid_template_areas": null,
            "object_position": null,
            "object_fit": null,
            "grid_auto_columns": null,
            "margin": null,
            "display": null,
            "left": null
          }
        }
      }
    },
    "accelerator": "GPU"
  },
  "cells": [
    {
      "cell_type": "markdown",
      "metadata": {
        "id": "t-SfaNStUJXo"
      },
      "source": [
        "#final project#"
      ]
    },
    {
      "cell_type": "markdown",
      "metadata": {
        "id": "JAQGiETFUJXs"
      },
      "source": [
        "# Load libraries and change dataframe display"
      ]
    },
    {
      "cell_type": "code",
      "metadata": {
        "collapsed": true,
        "id": "nVEiqdxbUJXt"
      },
      "source": [
        "# loading the required libraries\n",
        "\n",
        "import numpy as np\n",
        "import pandas as pd \n",
        "import scipy.sparse\n",
        "import gc\n",
        "import matplotlib.pyplot as plt\n",
        "import seaborn as sns\n",
        "%matplotlib inline\n",
        "import jellyfish\n",
        "from tqdm import tqdm_notebook\n",
        "from itertools import product\n",
        "from sklearn.feature_extraction.text import TfidfVectorizer\n",
        "\n",
        "import lightgbm as lgb\n",
        "from sklearn.linear_model import LinearRegression\n",
        "from sklearn.metrics import mean_squared_error\n",
        "\n",
        "\n",
        "\n",
        "# Downcast dtypes from 64 to 32 bit to save memory\n",
        "# by creating a downcast function\n",
        "\n",
        "def downcast_dtypes(df):\n",
        "    '''\n",
        "        Changes column types in the dataframe: \n",
        "                \n",
        "                `float64` type to `float32`\n",
        "                `int64`   type to `int32`\n",
        "    '''\n",
        "    \n",
        "    # Select columns to downcast\n",
        "    float_cols = [c for c in df if df[c].dtype == \"float64\"]\n",
        "    int_cols =   [c for c in df if df[c].dtype == \"int64\"]\n",
        "    \n",
        "    # Downcast\n",
        "    df[float_cols] = df[float_cols].astype(np.float32)\n",
        "    df[int_cols]   = df[int_cols].astype(np.int32)\n",
        "    \n",
        "    return df\n",
        "\n",
        "\n",
        "\n",
        "# setting the dataframes display\n",
        "\n",
        "pd.set_option('display.max_rows', 600)\n",
        "pd.set_option('display.max_columns', 50)"
      ],
      "execution_count": 1,
      "outputs": []
    },
    {
      "cell_type": "code",
      "metadata": {
        "colab": {
          "base_uri": "https://localhost:8080/"
        },
        "id": "bwIUZHCY1yZ7",
        "outputId": "f21292e2-388c-4a0d-b2bb-8f25ba2d945b"
      },
      "source": [
        "# installing py-translate for text translation(here, from russian to english)\n",
        "!pip install py-translate"
      ],
      "execution_count": 2,
      "outputs": [
        {
          "output_type": "stream",
          "text": [
            "Requirement already satisfied: py-translate in /usr/local/lib/python3.7/dist-packages (1.0.3)\n"
          ],
          "name": "stdout"
        }
      ]
    },
    {
      "cell_type": "markdown",
      "metadata": {
        "id": "O-KTjuRSUJXv"
      },
      "source": [
        "# Load data subset"
      ]
    },
    {
      "cell_type": "code",
      "metadata": {
        "collapsed": true,
        "id": "pLIQ_VK0UJXv"
      },
      "source": [
        "sales = pd.read_csv(\"sales_train.csv\",parse_dates=['date'])\n",
        "item_cats = pd.read_csv('item_categories.csv')\n",
        "items = pd.read_csv('items.csv')\n",
        "#sample_submission = pd.read_csv('sample_submission.csv')\n",
        "shops = pd.read_csv('shops.csv')\n",
        "test = pd.read_csv('test.csv')"
      ],
      "execution_count": 3,
      "outputs": []
    },
    {
      "cell_type": "markdown",
      "metadata": {
        "id": "ASuEEg4yUJXw"
      },
      "source": [
        "## EDA"
      ]
    },
    {
      "cell_type": "code",
      "metadata": {
        "colab": {
          "base_uri": "https://localhost:8080/",
          "height": 340
        },
        "id": "WNfn8zb_UJXw",
        "outputId": "2f6b6e38-c739-4f77-9e8f-766cb40fd8f5"
      },
      "source": [
        "# checking sales shape\n",
        "print(f'sales dataframe shape: {sales.shape}')\n",
        "\n",
        "# looking for missing values\n",
        "print(sales.isna().sum())\n",
        "\n",
        "sales.head()"
      ],
      "execution_count": 4,
      "outputs": [
        {
          "output_type": "stream",
          "text": [
            "sales dataframe shape: (2935849, 6)\n",
            "date              0\n",
            "date_block_num    0\n",
            "shop_id           0\n",
            "item_id           0\n",
            "item_price        0\n",
            "item_cnt_day      0\n",
            "dtype: int64\n"
          ],
          "name": "stdout"
        },
        {
          "output_type": "execute_result",
          "data": {
            "text/html": [
              "<div>\n",
              "<style scoped>\n",
              "    .dataframe tbody tr th:only-of-type {\n",
              "        vertical-align: middle;\n",
              "    }\n",
              "\n",
              "    .dataframe tbody tr th {\n",
              "        vertical-align: top;\n",
              "    }\n",
              "\n",
              "    .dataframe thead th {\n",
              "        text-align: right;\n",
              "    }\n",
              "</style>\n",
              "<table border=\"1\" class=\"dataframe\">\n",
              "  <thead>\n",
              "    <tr style=\"text-align: right;\">\n",
              "      <th></th>\n",
              "      <th>date</th>\n",
              "      <th>date_block_num</th>\n",
              "      <th>shop_id</th>\n",
              "      <th>item_id</th>\n",
              "      <th>item_price</th>\n",
              "      <th>item_cnt_day</th>\n",
              "    </tr>\n",
              "  </thead>\n",
              "  <tbody>\n",
              "    <tr>\n",
              "      <th>0</th>\n",
              "      <td>2013-02-01</td>\n",
              "      <td>0</td>\n",
              "      <td>59</td>\n",
              "      <td>22154</td>\n",
              "      <td>999.00</td>\n",
              "      <td>1.0</td>\n",
              "    </tr>\n",
              "    <tr>\n",
              "      <th>1</th>\n",
              "      <td>2013-03-01</td>\n",
              "      <td>0</td>\n",
              "      <td>25</td>\n",
              "      <td>2552</td>\n",
              "      <td>899.00</td>\n",
              "      <td>1.0</td>\n",
              "    </tr>\n",
              "    <tr>\n",
              "      <th>2</th>\n",
              "      <td>2013-05-01</td>\n",
              "      <td>0</td>\n",
              "      <td>25</td>\n",
              "      <td>2552</td>\n",
              "      <td>899.00</td>\n",
              "      <td>-1.0</td>\n",
              "    </tr>\n",
              "    <tr>\n",
              "      <th>3</th>\n",
              "      <td>2013-06-01</td>\n",
              "      <td>0</td>\n",
              "      <td>25</td>\n",
              "      <td>2554</td>\n",
              "      <td>1709.05</td>\n",
              "      <td>1.0</td>\n",
              "    </tr>\n",
              "    <tr>\n",
              "      <th>4</th>\n",
              "      <td>2013-01-15</td>\n",
              "      <td>0</td>\n",
              "      <td>25</td>\n",
              "      <td>2555</td>\n",
              "      <td>1099.00</td>\n",
              "      <td>1.0</td>\n",
              "    </tr>\n",
              "  </tbody>\n",
              "</table>\n",
              "</div>"
            ],
            "text/plain": [
              "        date  date_block_num  shop_id  item_id  item_price  item_cnt_day\n",
              "0 2013-02-01               0       59    22154      999.00           1.0\n",
              "1 2013-03-01               0       25     2552      899.00           1.0\n",
              "2 2013-05-01               0       25     2552      899.00          -1.0\n",
              "3 2013-06-01               0       25     2554     1709.05           1.0\n",
              "4 2013-01-15               0       25     2555     1099.00           1.0"
            ]
          },
          "metadata": {
            "tags": []
          },
          "execution_count": 4
        }
      ]
    },
    {
      "cell_type": "code",
      "metadata": {
        "colab": {
          "base_uri": "https://localhost:8080/",
          "height": 297
        },
        "id": "vVr-By8ZQqhR",
        "outputId": "b24e1d24-5e55-4422-fdf2-b8018ef716fe"
      },
      "source": [
        "sales.describe()"
      ],
      "execution_count": 5,
      "outputs": [
        {
          "output_type": "execute_result",
          "data": {
            "text/html": [
              "<div>\n",
              "<style scoped>\n",
              "    .dataframe tbody tr th:only-of-type {\n",
              "        vertical-align: middle;\n",
              "    }\n",
              "\n",
              "    .dataframe tbody tr th {\n",
              "        vertical-align: top;\n",
              "    }\n",
              "\n",
              "    .dataframe thead th {\n",
              "        text-align: right;\n",
              "    }\n",
              "</style>\n",
              "<table border=\"1\" class=\"dataframe\">\n",
              "  <thead>\n",
              "    <tr style=\"text-align: right;\">\n",
              "      <th></th>\n",
              "      <th>date_block_num</th>\n",
              "      <th>shop_id</th>\n",
              "      <th>item_id</th>\n",
              "      <th>item_price</th>\n",
              "      <th>item_cnt_day</th>\n",
              "    </tr>\n",
              "  </thead>\n",
              "  <tbody>\n",
              "    <tr>\n",
              "      <th>count</th>\n",
              "      <td>2.935849e+06</td>\n",
              "      <td>2.935849e+06</td>\n",
              "      <td>2.935849e+06</td>\n",
              "      <td>2.935849e+06</td>\n",
              "      <td>2.935849e+06</td>\n",
              "    </tr>\n",
              "    <tr>\n",
              "      <th>mean</th>\n",
              "      <td>1.456991e+01</td>\n",
              "      <td>3.300173e+01</td>\n",
              "      <td>1.019723e+04</td>\n",
              "      <td>8.908532e+02</td>\n",
              "      <td>1.242641e+00</td>\n",
              "    </tr>\n",
              "    <tr>\n",
              "      <th>std</th>\n",
              "      <td>9.422988e+00</td>\n",
              "      <td>1.622697e+01</td>\n",
              "      <td>6.324297e+03</td>\n",
              "      <td>1.729800e+03</td>\n",
              "      <td>2.618834e+00</td>\n",
              "    </tr>\n",
              "    <tr>\n",
              "      <th>min</th>\n",
              "      <td>0.000000e+00</td>\n",
              "      <td>0.000000e+00</td>\n",
              "      <td>0.000000e+00</td>\n",
              "      <td>-1.000000e+00</td>\n",
              "      <td>-2.200000e+01</td>\n",
              "    </tr>\n",
              "    <tr>\n",
              "      <th>25%</th>\n",
              "      <td>7.000000e+00</td>\n",
              "      <td>2.200000e+01</td>\n",
              "      <td>4.476000e+03</td>\n",
              "      <td>2.490000e+02</td>\n",
              "      <td>1.000000e+00</td>\n",
              "    </tr>\n",
              "    <tr>\n",
              "      <th>50%</th>\n",
              "      <td>1.400000e+01</td>\n",
              "      <td>3.100000e+01</td>\n",
              "      <td>9.343000e+03</td>\n",
              "      <td>3.990000e+02</td>\n",
              "      <td>1.000000e+00</td>\n",
              "    </tr>\n",
              "    <tr>\n",
              "      <th>75%</th>\n",
              "      <td>2.300000e+01</td>\n",
              "      <td>4.700000e+01</td>\n",
              "      <td>1.568400e+04</td>\n",
              "      <td>9.990000e+02</td>\n",
              "      <td>1.000000e+00</td>\n",
              "    </tr>\n",
              "    <tr>\n",
              "      <th>max</th>\n",
              "      <td>3.300000e+01</td>\n",
              "      <td>5.900000e+01</td>\n",
              "      <td>2.216900e+04</td>\n",
              "      <td>3.079800e+05</td>\n",
              "      <td>2.169000e+03</td>\n",
              "    </tr>\n",
              "  </tbody>\n",
              "</table>\n",
              "</div>"
            ],
            "text/plain": [
              "       date_block_num       shop_id       item_id    item_price  item_cnt_day\n",
              "count    2.935849e+06  2.935849e+06  2.935849e+06  2.935849e+06  2.935849e+06\n",
              "mean     1.456991e+01  3.300173e+01  1.019723e+04  8.908532e+02  1.242641e+00\n",
              "std      9.422988e+00  1.622697e+01  6.324297e+03  1.729800e+03  2.618834e+00\n",
              "min      0.000000e+00  0.000000e+00  0.000000e+00 -1.000000e+00 -2.200000e+01\n",
              "25%      7.000000e+00  2.200000e+01  4.476000e+03  2.490000e+02  1.000000e+00\n",
              "50%      1.400000e+01  3.100000e+01  9.343000e+03  3.990000e+02  1.000000e+00\n",
              "75%      2.300000e+01  4.700000e+01  1.568400e+04  9.990000e+02  1.000000e+00\n",
              "max      3.300000e+01  5.900000e+01  2.216900e+04  3.079800e+05  2.169000e+03"
            ]
          },
          "metadata": {
            "tags": []
          },
          "execution_count": 5
        }
      ]
    },
    {
      "cell_type": "markdown",
      "metadata": {
        "id": "s1sS5IRxoWZj"
      },
      "source": [
        "remarks from those statistics :\n",
        "- there is an outlier for item_price\n",
        "- there is a negative item_price\n",
        "- there is an outlier for item_cnt_day"
      ]
    },
    {
      "cell_type": "markdown",
      "metadata": {
        "id": "iBV6w38tqd7U"
      },
      "source": [
        "item_price outlier:\n",
        "- the item_price max seems to be way far from the mean let's check the corresponding item and its prices over that period to see if it's not a typing error"
      ]
    },
    {
      "cell_type": "code",
      "metadata": {
        "colab": {
          "base_uri": "https://localhost:8080/",
          "height": 80
        },
        "id": "oO9E3u7mq2R1",
        "outputId": "3d0bcbd3-e01e-458c-aa78-cf6c71b05dbf"
      },
      "source": [
        "sales[sales['item_price']==sales['item_price'].max()]"
      ],
      "execution_count": 6,
      "outputs": [
        {
          "output_type": "execute_result",
          "data": {
            "text/html": [
              "<div>\n",
              "<style scoped>\n",
              "    .dataframe tbody tr th:only-of-type {\n",
              "        vertical-align: middle;\n",
              "    }\n",
              "\n",
              "    .dataframe tbody tr th {\n",
              "        vertical-align: top;\n",
              "    }\n",
              "\n",
              "    .dataframe thead th {\n",
              "        text-align: right;\n",
              "    }\n",
              "</style>\n",
              "<table border=\"1\" class=\"dataframe\">\n",
              "  <thead>\n",
              "    <tr style=\"text-align: right;\">\n",
              "      <th></th>\n",
              "      <th>date</th>\n",
              "      <th>date_block_num</th>\n",
              "      <th>shop_id</th>\n",
              "      <th>item_id</th>\n",
              "      <th>item_price</th>\n",
              "      <th>item_cnt_day</th>\n",
              "    </tr>\n",
              "  </thead>\n",
              "  <tbody>\n",
              "    <tr>\n",
              "      <th>1163158</th>\n",
              "      <td>2013-12-13</td>\n",
              "      <td>11</td>\n",
              "      <td>12</td>\n",
              "      <td>6066</td>\n",
              "      <td>307980.0</td>\n",
              "      <td>1.0</td>\n",
              "    </tr>\n",
              "  </tbody>\n",
              "</table>\n",
              "</div>"
            ],
            "text/plain": [
              "              date  date_block_num  shop_id  item_id  item_price  item_cnt_day\n",
              "1163158 2013-12-13              11       12     6066    307980.0           1.0"
            ]
          },
          "metadata": {
            "tags": []
          },
          "execution_count": 6
        }
      ]
    },
    {
      "cell_type": "code",
      "metadata": {
        "colab": {
          "base_uri": "https://localhost:8080/",
          "height": 80
        },
        "id": "pIeLvattrNry",
        "outputId": "71baeb10-f4e6-4604-d193-da623ee17431"
      },
      "source": [
        "# let's check if there is another record for this item\n",
        "sales[sales['item_id']==6066]"
      ],
      "execution_count": 7,
      "outputs": [
        {
          "output_type": "execute_result",
          "data": {
            "text/html": [
              "<div>\n",
              "<style scoped>\n",
              "    .dataframe tbody tr th:only-of-type {\n",
              "        vertical-align: middle;\n",
              "    }\n",
              "\n",
              "    .dataframe tbody tr th {\n",
              "        vertical-align: top;\n",
              "    }\n",
              "\n",
              "    .dataframe thead th {\n",
              "        text-align: right;\n",
              "    }\n",
              "</style>\n",
              "<table border=\"1\" class=\"dataframe\">\n",
              "  <thead>\n",
              "    <tr style=\"text-align: right;\">\n",
              "      <th></th>\n",
              "      <th>date</th>\n",
              "      <th>date_block_num</th>\n",
              "      <th>shop_id</th>\n",
              "      <th>item_id</th>\n",
              "      <th>item_price</th>\n",
              "      <th>item_cnt_day</th>\n",
              "    </tr>\n",
              "  </thead>\n",
              "  <tbody>\n",
              "    <tr>\n",
              "      <th>1163158</th>\n",
              "      <td>2013-12-13</td>\n",
              "      <td>11</td>\n",
              "      <td>12</td>\n",
              "      <td>6066</td>\n",
              "      <td>307980.0</td>\n",
              "      <td>1.0</td>\n",
              "    </tr>\n",
              "  </tbody>\n",
              "</table>\n",
              "</div>"
            ],
            "text/plain": [
              "              date  date_block_num  shop_id  item_id  item_price  item_cnt_day\n",
              "1163158 2013-12-13              11       12     6066    307980.0           1.0"
            ]
          },
          "metadata": {
            "tags": []
          },
          "execution_count": 7
        }
      ]
    },
    {
      "cell_type": "markdown",
      "metadata": {
        "id": "bTBmDWpTrZ7j"
      },
      "source": [
        "this is the only record for this item"
      ]
    },
    {
      "cell_type": "code",
      "metadata": {
        "colab": {
          "base_uri": "https://localhost:8080/",
          "height": 80
        },
        "id": "8EYCIz82rYyo",
        "outputId": "bf83a8c5-5b22-4791-cfbe-f90165c29710"
      },
      "source": [
        "# checking for the corresponding item_name \n",
        "items[items['item_id']==6066]"
      ],
      "execution_count": 8,
      "outputs": [
        {
          "output_type": "execute_result",
          "data": {
            "text/html": [
              "<div>\n",
              "<style scoped>\n",
              "    .dataframe tbody tr th:only-of-type {\n",
              "        vertical-align: middle;\n",
              "    }\n",
              "\n",
              "    .dataframe tbody tr th {\n",
              "        vertical-align: top;\n",
              "    }\n",
              "\n",
              "    .dataframe thead th {\n",
              "        text-align: right;\n",
              "    }\n",
              "</style>\n",
              "<table border=\"1\" class=\"dataframe\">\n",
              "  <thead>\n",
              "    <tr style=\"text-align: right;\">\n",
              "      <th></th>\n",
              "      <th>item_name</th>\n",
              "      <th>item_id</th>\n",
              "      <th>item_category_id</th>\n",
              "    </tr>\n",
              "  </thead>\n",
              "  <tbody>\n",
              "    <tr>\n",
              "      <th>6066</th>\n",
              "      <td>Radmin 3  - 522 лиц.</td>\n",
              "      <td>6066</td>\n",
              "      <td>75</td>\n",
              "    </tr>\n",
              "  </tbody>\n",
              "</table>\n",
              "</div>"
            ],
            "text/plain": [
              "                 item_name  item_id  item_category_id\n",
              "6066  Radmin 3  - 522 лиц.     6066                75"
            ]
          },
          "metadata": {
            "tags": []
          },
          "execution_count": 8
        }
      ]
    },
    {
      "cell_type": "markdown",
      "metadata": {
        "id": "JfwmQQOlW1u3"
      },
      "source": [
        "according to google translate лиц means persons, so maybe it's the total amount paid by 522 customers for this item but in the other hand the item_cnt_day is 1, so it's better to drop this item especially since this item is not in test dataframe"
      ]
    },
    {
      "cell_type": "code",
      "metadata": {
        "colab": {
          "base_uri": "https://localhost:8080/",
          "height": 49
        },
        "id": "rC_7sAkIXs6Z",
        "outputId": "e903e4a7-d2e3-4025-9be7-ef0c43051470"
      },
      "source": [
        "# checking that item_id equal to 6066 is not in the test data\n",
        "test[test['item_id']==6066]"
      ],
      "execution_count": 9,
      "outputs": [
        {
          "output_type": "execute_result",
          "data": {
            "text/html": [
              "<div>\n",
              "<style scoped>\n",
              "    .dataframe tbody tr th:only-of-type {\n",
              "        vertical-align: middle;\n",
              "    }\n",
              "\n",
              "    .dataframe tbody tr th {\n",
              "        vertical-align: top;\n",
              "    }\n",
              "\n",
              "    .dataframe thead th {\n",
              "        text-align: right;\n",
              "    }\n",
              "</style>\n",
              "<table border=\"1\" class=\"dataframe\">\n",
              "  <thead>\n",
              "    <tr style=\"text-align: right;\">\n",
              "      <th></th>\n",
              "      <th>ID</th>\n",
              "      <th>shop_id</th>\n",
              "      <th>item_id</th>\n",
              "    </tr>\n",
              "  </thead>\n",
              "  <tbody>\n",
              "  </tbody>\n",
              "</table>\n",
              "</div>"
            ],
            "text/plain": [
              "Empty DataFrame\n",
              "Columns: [ID, shop_id, item_id]\n",
              "Index: []"
            ]
          },
          "metadata": {
            "tags": []
          },
          "execution_count": 9
        }
      ]
    },
    {
      "cell_type": "code",
      "metadata": {
        "id": "WGV2IjhLZTn3"
      },
      "source": [
        "# dropping the row with item_id equal to 6066\n",
        "sales.drop(sales[sales['item_id']==6066].index,inplace=True)"
      ],
      "execution_count": 10,
      "outputs": []
    },
    {
      "cell_type": "markdown",
      "metadata": {
        "id": "vViZc5hTQxzs"
      },
      "source": [
        "negative item_price:\n",
        "- we have also an item_price equal to -1, let's check for all item_price<0"
      ]
    },
    {
      "cell_type": "code",
      "metadata": {
        "colab": {
          "base_uri": "https://localhost:8080/",
          "height": 80
        },
        "id": "6DKKLBosQXVI",
        "outputId": "fe12ded4-1fb5-4773-f681-8a4104d89d9c"
      },
      "source": [
        "sales[sales['item_price']<0]"
      ],
      "execution_count": 11,
      "outputs": [
        {
          "output_type": "execute_result",
          "data": {
            "text/html": [
              "<div>\n",
              "<style scoped>\n",
              "    .dataframe tbody tr th:only-of-type {\n",
              "        vertical-align: middle;\n",
              "    }\n",
              "\n",
              "    .dataframe tbody tr th {\n",
              "        vertical-align: top;\n",
              "    }\n",
              "\n",
              "    .dataframe thead th {\n",
              "        text-align: right;\n",
              "    }\n",
              "</style>\n",
              "<table border=\"1\" class=\"dataframe\">\n",
              "  <thead>\n",
              "    <tr style=\"text-align: right;\">\n",
              "      <th></th>\n",
              "      <th>date</th>\n",
              "      <th>date_block_num</th>\n",
              "      <th>shop_id</th>\n",
              "      <th>item_id</th>\n",
              "      <th>item_price</th>\n",
              "      <th>item_cnt_day</th>\n",
              "    </tr>\n",
              "  </thead>\n",
              "  <tbody>\n",
              "    <tr>\n",
              "      <th>484683</th>\n",
              "      <td>2013-05-15</td>\n",
              "      <td>4</td>\n",
              "      <td>32</td>\n",
              "      <td>2973</td>\n",
              "      <td>-1.0</td>\n",
              "      <td>1.0</td>\n",
              "    </tr>\n",
              "  </tbody>\n",
              "</table>\n",
              "</div>"
            ],
            "text/plain": [
              "             date  date_block_num  shop_id  item_id  item_price  item_cnt_day\n",
              "484683 2013-05-15               4       32     2973        -1.0           1.0"
            ]
          },
          "metadata": {
            "tags": []
          },
          "execution_count": 11
        }
      ]
    },
    {
      "cell_type": "code",
      "metadata": {
        "colab": {
          "base_uri": "https://localhost:8080/",
          "height": 142
        },
        "id": "_B0S-eGRRDes",
        "outputId": "fa6f116e-a741-43d1-8381-2a6dbbc4b7a6"
      },
      "source": [
        "# let's see if we don't have another record with the corresponding item to check for the right price (for the same period and same shop)\n",
        "sales[(sales['item_id']==2973) & (sales['shop_id']==32) & (sales['date_block_num']==4)]"
      ],
      "execution_count": 12,
      "outputs": [
        {
          "output_type": "execute_result",
          "data": {
            "text/html": [
              "<div>\n",
              "<style scoped>\n",
              "    .dataframe tbody tr th:only-of-type {\n",
              "        vertical-align: middle;\n",
              "    }\n",
              "\n",
              "    .dataframe tbody tr th {\n",
              "        vertical-align: top;\n",
              "    }\n",
              "\n",
              "    .dataframe thead th {\n",
              "        text-align: right;\n",
              "    }\n",
              "</style>\n",
              "<table border=\"1\" class=\"dataframe\">\n",
              "  <thead>\n",
              "    <tr style=\"text-align: right;\">\n",
              "      <th></th>\n",
              "      <th>date</th>\n",
              "      <th>date_block_num</th>\n",
              "      <th>shop_id</th>\n",
              "      <th>item_id</th>\n",
              "      <th>item_price</th>\n",
              "      <th>item_cnt_day</th>\n",
              "    </tr>\n",
              "  </thead>\n",
              "  <tbody>\n",
              "    <tr>\n",
              "      <th>484682</th>\n",
              "      <td>2013-05-23</td>\n",
              "      <td>4</td>\n",
              "      <td>32</td>\n",
              "      <td>2973</td>\n",
              "      <td>1249.0</td>\n",
              "      <td>1.0</td>\n",
              "    </tr>\n",
              "    <tr>\n",
              "      <th>484683</th>\n",
              "      <td>2013-05-15</td>\n",
              "      <td>4</td>\n",
              "      <td>32</td>\n",
              "      <td>2973</td>\n",
              "      <td>-1.0</td>\n",
              "      <td>1.0</td>\n",
              "    </tr>\n",
              "    <tr>\n",
              "      <th>484684</th>\n",
              "      <td>2013-06-05</td>\n",
              "      <td>4</td>\n",
              "      <td>32</td>\n",
              "      <td>2973</td>\n",
              "      <td>2499.0</td>\n",
              "      <td>1.0</td>\n",
              "    </tr>\n",
              "  </tbody>\n",
              "</table>\n",
              "</div>"
            ],
            "text/plain": [
              "             date  date_block_num  shop_id  item_id  item_price  item_cnt_day\n",
              "484682 2013-05-23               4       32     2973      1249.0           1.0\n",
              "484683 2013-05-15               4       32     2973        -1.0           1.0\n",
              "484684 2013-06-05               4       32     2973      2499.0           1.0"
            ]
          },
          "metadata": {
            "tags": []
          },
          "execution_count": 12
        }
      ]
    },
    {
      "cell_type": "markdown",
      "metadata": {
        "id": "rkuPs8puSS35"
      },
      "source": [
        "hard to say if it's 1249 or 2499 which is by the way the double, we are going to fill this value with the item_price mean"
      ]
    },
    {
      "cell_type": "code",
      "metadata": {
        "id": "Y7sJ1qyOSz4D"
      },
      "source": [
        "sales.iloc[484683,4] = sales[(sales['item_id']==2973) & (sales['shop_id']==32) & (sales['date_block_num']==4)]['item_price'].mean()"
      ],
      "execution_count": 13,
      "outputs": []
    },
    {
      "cell_type": "markdown",
      "metadata": {
        "id": "rpzSl3h6pfE6"
      },
      "source": [
        "item_cnt_day outlier:\n",
        "- let's check for item_cnt_day maximum and see what is the corresponding item"
      ]
    },
    {
      "cell_type": "code",
      "metadata": {
        "colab": {
          "base_uri": "https://localhost:8080/",
          "height": 80
        },
        "id": "Bc8mdX6rpeJK",
        "outputId": "9d8d3783-eeb4-411e-a1d4-76478d068897"
      },
      "source": [
        "sales[sales['item_cnt_day']==sales['item_cnt_day'].max()]"
      ],
      "execution_count": 14,
      "outputs": [
        {
          "output_type": "execute_result",
          "data": {
            "text/html": [
              "<div>\n",
              "<style scoped>\n",
              "    .dataframe tbody tr th:only-of-type {\n",
              "        vertical-align: middle;\n",
              "    }\n",
              "\n",
              "    .dataframe tbody tr th {\n",
              "        vertical-align: top;\n",
              "    }\n",
              "\n",
              "    .dataframe thead th {\n",
              "        text-align: right;\n",
              "    }\n",
              "</style>\n",
              "<table border=\"1\" class=\"dataframe\">\n",
              "  <thead>\n",
              "    <tr style=\"text-align: right;\">\n",
              "      <th></th>\n",
              "      <th>date</th>\n",
              "      <th>date_block_num</th>\n",
              "      <th>shop_id</th>\n",
              "      <th>item_id</th>\n",
              "      <th>item_price</th>\n",
              "      <th>item_cnt_day</th>\n",
              "    </tr>\n",
              "  </thead>\n",
              "  <tbody>\n",
              "    <tr>\n",
              "      <th>2909818</th>\n",
              "      <td>2015-10-28</td>\n",
              "      <td>33</td>\n",
              "      <td>12</td>\n",
              "      <td>11373</td>\n",
              "      <td>0.908714</td>\n",
              "      <td>2169.0</td>\n",
              "    </tr>\n",
              "  </tbody>\n",
              "</table>\n",
              "</div>"
            ],
            "text/plain": [
              "              date  date_block_num  shop_id  item_id  item_price  item_cnt_day\n",
              "2909818 2015-10-28              33       12    11373    0.908714        2169.0"
            ]
          },
          "metadata": {
            "tags": []
          },
          "execution_count": 14
        }
      ]
    },
    {
      "cell_type": "code",
      "metadata": {
        "colab": {
          "base_uri": "https://localhost:8080/"
        },
        "id": "oqZZzzzEp8fQ",
        "outputId": "2fac6b6a-f2bc-45f6-d37e-a3238d7a44b2"
      },
      "source": [
        "# now we can check the item_cnt_day for all the records with the same item_id\n",
        "sales[sales['item_id']==11373]['item_cnt_day'].describe()"
      ],
      "execution_count": 15,
      "outputs": [
        {
          "output_type": "execute_result",
          "data": {
            "text/plain": [
              "count     464.000000\n",
              "mean       14.144397\n",
              "std       104.604937\n",
              "min         1.000000\n",
              "25%         2.000000\n",
              "50%         4.000000\n",
              "75%         8.000000\n",
              "max      2169.000000\n",
              "Name: item_cnt_day, dtype: float64"
            ]
          },
          "metadata": {
            "tags": []
          },
          "execution_count": 15
        }
      ]
    },
    {
      "cell_type": "markdown",
      "metadata": {
        "id": "HRUPHvbVq9gV"
      },
      "source": [
        "mean is 14 and median is 4 so 2169 doesn't seem to be a correct recording so we are going to drop this row"
      ]
    },
    {
      "cell_type": "code",
      "metadata": {
        "id": "bHFJLKlJrSSI"
      },
      "source": [
        "# dropping the rows with item_cnt_day equal to 2169 \n",
        "sales.drop(sales[sales['item_cnt_day']==sales['item_cnt_day'].max()].index,inplace=True)"
      ],
      "execution_count": 16,
      "outputs": []
    },
    {
      "cell_type": "code",
      "metadata": {
        "colab": {
          "base_uri": "https://localhost:8080/",
          "height": 235
        },
        "id": "Mnfd4x-xiNAm",
        "outputId": "9414202b-6687-4b7b-bb43-ebb88bb6ea3c"
      },
      "source": [
        "# now that we took care of all the ouliers and incorrect values, let's check for duplicate rows in our sales dataframe\n",
        "sales[sales.duplicated()==True]"
      ],
      "execution_count": 17,
      "outputs": [
        {
          "output_type": "execute_result",
          "data": {
            "text/html": [
              "<div>\n",
              "<style scoped>\n",
              "    .dataframe tbody tr th:only-of-type {\n",
              "        vertical-align: middle;\n",
              "    }\n",
              "\n",
              "    .dataframe tbody tr th {\n",
              "        vertical-align: top;\n",
              "    }\n",
              "\n",
              "    .dataframe thead th {\n",
              "        text-align: right;\n",
              "    }\n",
              "</style>\n",
              "<table border=\"1\" class=\"dataframe\">\n",
              "  <thead>\n",
              "    <tr style=\"text-align: right;\">\n",
              "      <th></th>\n",
              "      <th>date</th>\n",
              "      <th>date_block_num</th>\n",
              "      <th>shop_id</th>\n",
              "      <th>item_id</th>\n",
              "      <th>item_price</th>\n",
              "      <th>item_cnt_day</th>\n",
              "    </tr>\n",
              "  </thead>\n",
              "  <tbody>\n",
              "    <tr>\n",
              "      <th>76962</th>\n",
              "      <td>2013-05-01</td>\n",
              "      <td>0</td>\n",
              "      <td>54</td>\n",
              "      <td>20130</td>\n",
              "      <td>149.0</td>\n",
              "      <td>1.0</td>\n",
              "    </tr>\n",
              "    <tr>\n",
              "      <th>1435367</th>\n",
              "      <td>2014-02-23</td>\n",
              "      <td>13</td>\n",
              "      <td>50</td>\n",
              "      <td>3423</td>\n",
              "      <td>999.0</td>\n",
              "      <td>1.0</td>\n",
              "    </tr>\n",
              "    <tr>\n",
              "      <th>1496766</th>\n",
              "      <td>2014-03-23</td>\n",
              "      <td>14</td>\n",
              "      <td>21</td>\n",
              "      <td>3423</td>\n",
              "      <td>999.0</td>\n",
              "      <td>1.0</td>\n",
              "    </tr>\n",
              "    <tr>\n",
              "      <th>1671873</th>\n",
              "      <td>2014-01-05</td>\n",
              "      <td>16</td>\n",
              "      <td>50</td>\n",
              "      <td>3423</td>\n",
              "      <td>999.0</td>\n",
              "      <td>1.0</td>\n",
              "    </tr>\n",
              "    <tr>\n",
              "      <th>1866340</th>\n",
              "      <td>2014-12-07</td>\n",
              "      <td>18</td>\n",
              "      <td>25</td>\n",
              "      <td>3423</td>\n",
              "      <td>999.0</td>\n",
              "      <td>1.0</td>\n",
              "    </tr>\n",
              "    <tr>\n",
              "      <th>2198566</th>\n",
              "      <td>2014-12-31</td>\n",
              "      <td>23</td>\n",
              "      <td>42</td>\n",
              "      <td>21619</td>\n",
              "      <td>499.0</td>\n",
              "      <td>1.0</td>\n",
              "    </tr>\n",
              "  </tbody>\n",
              "</table>\n",
              "</div>"
            ],
            "text/plain": [
              "              date  date_block_num  shop_id  item_id  item_price  item_cnt_day\n",
              "76962   2013-05-01               0       54    20130       149.0           1.0\n",
              "1435367 2014-02-23              13       50     3423       999.0           1.0\n",
              "1496766 2014-03-23              14       21     3423       999.0           1.0\n",
              "1671873 2014-01-05              16       50     3423       999.0           1.0\n",
              "1866340 2014-12-07              18       25     3423       999.0           1.0\n",
              "2198566 2014-12-31              23       42    21619       499.0           1.0"
            ]
          },
          "metadata": {
            "tags": []
          },
          "execution_count": 17
        }
      ]
    },
    {
      "cell_type": "markdown",
      "metadata": {
        "id": "7Im_WOXUirWk"
      },
      "source": [
        "it seems we have duplicated recordings because for the same shop, same item and same day. If we had more than one sale we would have item_cnt_day > 1 instead of many recordings. so we need to drop these rows"
      ]
    },
    {
      "cell_type": "code",
      "metadata": {
        "id": "itf-oR__jLWb"
      },
      "source": [
        "# dropping the duplicated rows\n",
        "sales.drop_duplicates(inplace=True)"
      ],
      "execution_count": 18,
      "outputs": []
    },
    {
      "cell_type": "markdown",
      "metadata": {
        "id": "pbtHRk_68DgD"
      },
      "source": [
        "## Feature extraction from text"
      ]
    },
    {
      "cell_type": "markdown",
      "metadata": {
        "id": "bfEC4del0nbp"
      },
      "source": [
        "### shops table"
      ]
    },
    {
      "cell_type": "code",
      "metadata": {
        "colab": {
          "base_uri": "https://localhost:8080/",
          "height": 272
        },
        "id": "5btr_rHOUJXy",
        "outputId": "4bac05a3-a68e-4569-ed2f-ca7ff44d584f"
      },
      "source": [
        "# checking shops shape\n",
        "print(f'shops dataframe shape: {shops.shape}')\n",
        "\n",
        "# looking for missing values\n",
        "print(shops.isna().sum())\n",
        "\n",
        "shops.head()"
      ],
      "execution_count": 19,
      "outputs": [
        {
          "output_type": "stream",
          "text": [
            "shops dataframe shape: (60, 2)\n",
            "shop_name    0\n",
            "shop_id      0\n",
            "dtype: int64\n"
          ],
          "name": "stdout"
        },
        {
          "output_type": "execute_result",
          "data": {
            "text/html": [
              "<div>\n",
              "<style scoped>\n",
              "    .dataframe tbody tr th:only-of-type {\n",
              "        vertical-align: middle;\n",
              "    }\n",
              "\n",
              "    .dataframe tbody tr th {\n",
              "        vertical-align: top;\n",
              "    }\n",
              "\n",
              "    .dataframe thead th {\n",
              "        text-align: right;\n",
              "    }\n",
              "</style>\n",
              "<table border=\"1\" class=\"dataframe\">\n",
              "  <thead>\n",
              "    <tr style=\"text-align: right;\">\n",
              "      <th></th>\n",
              "      <th>shop_name</th>\n",
              "      <th>shop_id</th>\n",
              "    </tr>\n",
              "  </thead>\n",
              "  <tbody>\n",
              "    <tr>\n",
              "      <th>0</th>\n",
              "      <td>!Якутск Орджоникидзе, 56 фран</td>\n",
              "      <td>0</td>\n",
              "    </tr>\n",
              "    <tr>\n",
              "      <th>1</th>\n",
              "      <td>!Якутск ТЦ \"Центральный\" фран</td>\n",
              "      <td>1</td>\n",
              "    </tr>\n",
              "    <tr>\n",
              "      <th>2</th>\n",
              "      <td>Адыгея ТЦ \"Мега\"</td>\n",
              "      <td>2</td>\n",
              "    </tr>\n",
              "    <tr>\n",
              "      <th>3</th>\n",
              "      <td>Балашиха ТРК \"Октябрь-Киномир\"</td>\n",
              "      <td>3</td>\n",
              "    </tr>\n",
              "    <tr>\n",
              "      <th>4</th>\n",
              "      <td>Волжский ТЦ \"Волга Молл\"</td>\n",
              "      <td>4</td>\n",
              "    </tr>\n",
              "  </tbody>\n",
              "</table>\n",
              "</div>"
            ],
            "text/plain": [
              "                        shop_name  shop_id\n",
              "0   !Якутск Орджоникидзе, 56 фран        0\n",
              "1   !Якутск ТЦ \"Центральный\" фран        1\n",
              "2                Адыгея ТЦ \"Мега\"        2\n",
              "3  Балашиха ТРК \"Октябрь-Киномир\"        3\n",
              "4        Волжский ТЦ \"Волга Молл\"        4"
            ]
          },
          "metadata": {
            "tags": []
          },
          "execution_count": 19
        }
      ]
    },
    {
      "cell_type": "code",
      "metadata": {
        "colab": {
          "base_uri": "https://localhost:8080/",
          "height": 49
        },
        "id": "dVstmYpjAwUN",
        "outputId": "9691f874-7f24-4ab7-c461-c3157b78e9bb"
      },
      "source": [
        "# checking that we don't have duplicated shop_name\n",
        "# first we need to remove uppercases\n",
        "shops['shop_name'] = shops['shop_name'].apply(lambda x:x.lower())\n",
        "shops[shops.duplicated(subset='shop_name')==True]"
      ],
      "execution_count": 20,
      "outputs": [
        {
          "output_type": "execute_result",
          "data": {
            "text/html": [
              "<div>\n",
              "<style scoped>\n",
              "    .dataframe tbody tr th:only-of-type {\n",
              "        vertical-align: middle;\n",
              "    }\n",
              "\n",
              "    .dataframe tbody tr th {\n",
              "        vertical-align: top;\n",
              "    }\n",
              "\n",
              "    .dataframe thead th {\n",
              "        text-align: right;\n",
              "    }\n",
              "</style>\n",
              "<table border=\"1\" class=\"dataframe\">\n",
              "  <thead>\n",
              "    <tr style=\"text-align: right;\">\n",
              "      <th></th>\n",
              "      <th>shop_name</th>\n",
              "      <th>shop_id</th>\n",
              "    </tr>\n",
              "  </thead>\n",
              "  <tbody>\n",
              "  </tbody>\n",
              "</table>\n",
              "</div>"
            ],
            "text/plain": [
              "Empty DataFrame\n",
              "Columns: [shop_name, shop_id]\n",
              "Index: []"
            ]
          },
          "metadata": {
            "tags": []
          },
          "execution_count": 20
        }
      ]
    },
    {
      "cell_type": "markdown",
      "metadata": {
        "id": "qrJCiQfU2CJu"
      },
      "source": [
        "no duplicates"
      ]
    },
    {
      "cell_type": "code",
      "metadata": {
        "colab": {
          "base_uri": "https://localhost:8080/",
          "height": 357
        },
        "id": "2tKPk3ZQ1tqH",
        "outputId": "63dbbc05-3383-4ae2-b655-1fbc39485966"
      },
      "source": [
        "# now let's translate some random shop names to understand to structure because a lot of names seem to start with the same word\n",
        "from translate import translator\n",
        "translator('ru','en','Волжский ТЦ \"Волга Молл\"')[0][0][0] "
      ],
      "execution_count": 21,
      "outputs": [
        {
          "output_type": "error",
          "ename": "HTTPError",
          "evalue": "ignored",
          "traceback": [
            "\u001b[0;31m---------------------------------------------------------------------------\u001b[0m",
            "\u001b[0;31mHTTPError\u001b[0m                                 Traceback (most recent call last)",
            "\u001b[0;32m<ipython-input-21-2855826ce1db>\u001b[0m in \u001b[0;36m<module>\u001b[0;34m()\u001b[0m\n\u001b[1;32m      1\u001b[0m \u001b[0;31m# now let's translate some random shop names to understand to structure because a lot of names seem to start with the same word\u001b[0m\u001b[0;34m\u001b[0m\u001b[0;34m\u001b[0m\u001b[0;34m\u001b[0m\u001b[0m\n\u001b[1;32m      2\u001b[0m \u001b[0;32mfrom\u001b[0m \u001b[0mtranslate\u001b[0m \u001b[0;32mimport\u001b[0m \u001b[0mtranslator\u001b[0m\u001b[0;34m\u001b[0m\u001b[0;34m\u001b[0m\u001b[0m\n\u001b[0;32m----> 3\u001b[0;31m \u001b[0mtranslator\u001b[0m\u001b[0;34m(\u001b[0m\u001b[0;34m'ru'\u001b[0m\u001b[0;34m,\u001b[0m\u001b[0;34m'en'\u001b[0m\u001b[0;34m,\u001b[0m\u001b[0;34m'Волжский ТЦ \"Волга Молл\"'\u001b[0m\u001b[0;34m)\u001b[0m\u001b[0;34m[\u001b[0m\u001b[0;36m0\u001b[0m\u001b[0;34m]\u001b[0m\u001b[0;34m[\u001b[0m\u001b[0;36m0\u001b[0m\u001b[0;34m]\u001b[0m\u001b[0;34m[\u001b[0m\u001b[0;36m0\u001b[0m\u001b[0;34m]\u001b[0m\u001b[0;34m\u001b[0m\u001b[0;34m\u001b[0m\u001b[0m\n\u001b[0m",
            "\u001b[0;32m/usr/local/lib/python3.7/dist-packages/translate/translator.py\u001b[0m in \u001b[0;36mconnection\u001b[0;34m(*args, **kwargs)\u001b[0m\n\u001b[1;32m     49\u001b[0m \u001b[0;34m\u001b[0m\u001b[0m\n\u001b[1;32m     50\u001b[0m         \u001b[0;32mif\u001b[0m \u001b[0mresponse\u001b[0m\u001b[0;34m.\u001b[0m\u001b[0mstatus_code\u001b[0m \u001b[0;34m!=\u001b[0m \u001b[0mrequests\u001b[0m\u001b[0;34m.\u001b[0m\u001b[0mcodes\u001b[0m\u001b[0;34m.\u001b[0m\u001b[0mok\u001b[0m\u001b[0;34m:\u001b[0m\u001b[0;34m\u001b[0m\u001b[0;34m\u001b[0m\u001b[0m\n\u001b[0;32m---> 51\u001b[0;31m             \u001b[0mresponse\u001b[0m\u001b[0;34m.\u001b[0m\u001b[0mraise_for_status\u001b[0m\u001b[0;34m(\u001b[0m\u001b[0;34m)\u001b[0m\u001b[0;34m\u001b[0m\u001b[0;34m\u001b[0m\u001b[0m\n\u001b[0m\u001b[1;32m     52\u001b[0m \u001b[0;34m\u001b[0m\u001b[0m\n\u001b[1;32m     53\u001b[0m         \u001b[0mcleanup\u001b[0m \u001b[0;34m=\u001b[0m \u001b[0mre\u001b[0m\u001b[0;34m.\u001b[0m\u001b[0msubn\u001b[0m\u001b[0;34m(\u001b[0m\u001b[0;34mr',(?=,)'\u001b[0m\u001b[0;34m,\u001b[0m \u001b[0;34m''\u001b[0m\u001b[0;34m,\u001b[0m \u001b[0mresponse\u001b[0m\u001b[0;34m.\u001b[0m\u001b[0mcontent\u001b[0m\u001b[0;34m.\u001b[0m\u001b[0mdecode\u001b[0m\u001b[0;34m(\u001b[0m\u001b[0;34m'utf-8'\u001b[0m\u001b[0;34m)\u001b[0m\u001b[0;34m)\u001b[0m\u001b[0;34m[\u001b[0m\u001b[0;36m0\u001b[0m\u001b[0;34m]\u001b[0m\u001b[0;34m\u001b[0m\u001b[0;34m\u001b[0m\u001b[0m\n",
            "\u001b[0;32m/usr/local/lib/python3.7/dist-packages/requests/models.py\u001b[0m in \u001b[0;36mraise_for_status\u001b[0;34m(self)\u001b[0m\n\u001b[1;32m    939\u001b[0m \u001b[0;34m\u001b[0m\u001b[0m\n\u001b[1;32m    940\u001b[0m         \u001b[0;32mif\u001b[0m \u001b[0mhttp_error_msg\u001b[0m\u001b[0;34m:\u001b[0m\u001b[0;34m\u001b[0m\u001b[0;34m\u001b[0m\u001b[0m\n\u001b[0;32m--> 941\u001b[0;31m             \u001b[0;32mraise\u001b[0m \u001b[0mHTTPError\u001b[0m\u001b[0;34m(\u001b[0m\u001b[0mhttp_error_msg\u001b[0m\u001b[0;34m,\u001b[0m \u001b[0mresponse\u001b[0m\u001b[0;34m=\u001b[0m\u001b[0mself\u001b[0m\u001b[0;34m)\u001b[0m\u001b[0;34m\u001b[0m\u001b[0;34m\u001b[0m\u001b[0m\n\u001b[0m\u001b[1;32m    942\u001b[0m \u001b[0;34m\u001b[0m\u001b[0m\n\u001b[1;32m    943\u001b[0m     \u001b[0;32mdef\u001b[0m \u001b[0mclose\u001b[0m\u001b[0;34m(\u001b[0m\u001b[0mself\u001b[0m\u001b[0;34m)\u001b[0m\u001b[0;34m:\u001b[0m\u001b[0;34m\u001b[0m\u001b[0;34m\u001b[0m\u001b[0m\n",
            "\u001b[0;31mHTTPError\u001b[0m: 429 Client Error: Too Many Requests for url: https://translate.google.com/translate_a/single?client=a&ie=utf-8&oe=utf-8&dt=t&sl=ru&tl=en&q=%D0%92%D0%BE%D0%BB%D0%B6%D1%81%D0%BA%D0%B8%D0%B9+%D0%A2%D0%A6+%22%D0%92%D0%BE%D0%BB%D0%B3%D0%B0+%D0%9C%D0%BE%D0%BB%D0%BB%22"
          ]
        }
      ]
    },
    {
      "cell_type": "markdown",
      "metadata": {
        "id": "dxUNmzdy4Aj4"
      },
      "source": [
        "we can notice that the shop name begins with the city location Volzhsky and then the shop category (here it's a shopping center)\n",
        "let's check other shop_name"
      ]
    },
    {
      "cell_type": "code",
      "metadata": {
        "colab": {
          "base_uri": "https://localhost:8080/",
          "height": 343
        },
        "id": "PI0HDzQK4VRW",
        "outputId": "652993bd-553d-4efd-93e9-a48eb5a2202d"
      },
      "source": [
        "translator('ru','en','!Якутск Орджоникидзе, 56 фран')[0][0][0] "
      ],
      "execution_count": 385,
      "outputs": [
        {
          "output_type": "error",
          "ename": "HTTPError",
          "evalue": "ignored",
          "traceback": [
            "\u001b[0;31m---------------------------------------------------------------------------\u001b[0m",
            "\u001b[0;31mHTTPError\u001b[0m                                 Traceback (most recent call last)",
            "\u001b[0;32m<ipython-input-385-fdcad0596f09>\u001b[0m in \u001b[0;36m<module>\u001b[0;34m()\u001b[0m\n\u001b[0;32m----> 1\u001b[0;31m \u001b[0mtranslator\u001b[0m\u001b[0;34m(\u001b[0m\u001b[0;34m'ru'\u001b[0m\u001b[0;34m,\u001b[0m\u001b[0;34m'en'\u001b[0m\u001b[0;34m,\u001b[0m\u001b[0;34m'!Якутск Орджоникидзе, 56 фран'\u001b[0m\u001b[0;34m)\u001b[0m\u001b[0;34m[\u001b[0m\u001b[0;36m0\u001b[0m\u001b[0;34m]\u001b[0m\u001b[0;34m[\u001b[0m\u001b[0;36m0\u001b[0m\u001b[0;34m]\u001b[0m\u001b[0;34m[\u001b[0m\u001b[0;36m0\u001b[0m\u001b[0;34m]\u001b[0m\u001b[0;34m\u001b[0m\u001b[0;34m\u001b[0m\u001b[0m\n\u001b[0m",
            "\u001b[0;32m/usr/local/lib/python3.7/dist-packages/translate/translator.py\u001b[0m in \u001b[0;36mconnection\u001b[0;34m(*args, **kwargs)\u001b[0m\n\u001b[1;32m     49\u001b[0m \u001b[0;34m\u001b[0m\u001b[0m\n\u001b[1;32m     50\u001b[0m         \u001b[0;32mif\u001b[0m \u001b[0mresponse\u001b[0m\u001b[0;34m.\u001b[0m\u001b[0mstatus_code\u001b[0m \u001b[0;34m!=\u001b[0m \u001b[0mrequests\u001b[0m\u001b[0;34m.\u001b[0m\u001b[0mcodes\u001b[0m\u001b[0;34m.\u001b[0m\u001b[0mok\u001b[0m\u001b[0;34m:\u001b[0m\u001b[0;34m\u001b[0m\u001b[0;34m\u001b[0m\u001b[0m\n\u001b[0;32m---> 51\u001b[0;31m             \u001b[0mresponse\u001b[0m\u001b[0;34m.\u001b[0m\u001b[0mraise_for_status\u001b[0m\u001b[0;34m(\u001b[0m\u001b[0;34m)\u001b[0m\u001b[0;34m\u001b[0m\u001b[0;34m\u001b[0m\u001b[0m\n\u001b[0m\u001b[1;32m     52\u001b[0m \u001b[0;34m\u001b[0m\u001b[0m\n\u001b[1;32m     53\u001b[0m         \u001b[0mcleanup\u001b[0m \u001b[0;34m=\u001b[0m \u001b[0mre\u001b[0m\u001b[0;34m.\u001b[0m\u001b[0msubn\u001b[0m\u001b[0;34m(\u001b[0m\u001b[0;34mr',(?=,)'\u001b[0m\u001b[0;34m,\u001b[0m \u001b[0;34m''\u001b[0m\u001b[0;34m,\u001b[0m \u001b[0mresponse\u001b[0m\u001b[0;34m.\u001b[0m\u001b[0mcontent\u001b[0m\u001b[0;34m.\u001b[0m\u001b[0mdecode\u001b[0m\u001b[0;34m(\u001b[0m\u001b[0;34m'utf-8'\u001b[0m\u001b[0;34m)\u001b[0m\u001b[0;34m)\u001b[0m\u001b[0;34m[\u001b[0m\u001b[0;36m0\u001b[0m\u001b[0;34m]\u001b[0m\u001b[0;34m\u001b[0m\u001b[0;34m\u001b[0m\u001b[0m\n",
            "\u001b[0;32m/usr/local/lib/python3.7/dist-packages/requests/models.py\u001b[0m in \u001b[0;36mraise_for_status\u001b[0;34m(self)\u001b[0m\n\u001b[1;32m    939\u001b[0m \u001b[0;34m\u001b[0m\u001b[0m\n\u001b[1;32m    940\u001b[0m         \u001b[0;32mif\u001b[0m \u001b[0mhttp_error_msg\u001b[0m\u001b[0;34m:\u001b[0m\u001b[0;34m\u001b[0m\u001b[0;34m\u001b[0m\u001b[0m\n\u001b[0;32m--> 941\u001b[0;31m             \u001b[0;32mraise\u001b[0m \u001b[0mHTTPError\u001b[0m\u001b[0;34m(\u001b[0m\u001b[0mhttp_error_msg\u001b[0m\u001b[0;34m,\u001b[0m \u001b[0mresponse\u001b[0m\u001b[0;34m=\u001b[0m\u001b[0mself\u001b[0m\u001b[0;34m)\u001b[0m\u001b[0;34m\u001b[0m\u001b[0;34m\u001b[0m\u001b[0m\n\u001b[0m\u001b[1;32m    942\u001b[0m \u001b[0;34m\u001b[0m\u001b[0m\n\u001b[1;32m    943\u001b[0m     \u001b[0;32mdef\u001b[0m \u001b[0mclose\u001b[0m\u001b[0;34m(\u001b[0m\u001b[0mself\u001b[0m\u001b[0;34m)\u001b[0m\u001b[0;34m:\u001b[0m\u001b[0;34m\u001b[0m\u001b[0;34m\u001b[0m\u001b[0m\n",
            "\u001b[0;31mHTTPError\u001b[0m: 429 Client Error: Too Many Requests for url: https://translate.google.com/translate_a/single?client=a&ie=utf-8&oe=utf-8&dt=t&sl=ru&tl=en&q=%21%D0%AF%D0%BA%D1%83%D1%82%D1%81%D0%BA+%D0%9E%D1%80%D0%B4%D0%B6%D0%BE%D0%BD%D0%B8%D0%BA%D0%B8%D0%B4%D0%B7%D0%B5%2C+56+%D1%84%D1%80%D0%B0%D0%BD"
          ]
        }
      ]
    },
    {
      "cell_type": "markdown",
      "metadata": {
        "id": "1st-M3d940On"
      },
      "source": [
        "here the city is Yakutsk but there isn't a shop category"
      ]
    },
    {
      "cell_type": "code",
      "metadata": {
        "colab": {
          "base_uri": "https://localhost:8080/",
          "height": 35
        },
        "id": "Ezf4_AKu4xNa",
        "outputId": "1447dd3a-2802-4a8e-e3d7-f7cd169abbc9"
      },
      "source": [
        "translator('ru','en','калуга трц \"xxi век\"')[0][0][0]\t"
      ],
      "execution_count": 25,
      "outputs": [
        {
          "output_type": "execute_result",
          "data": {
            "application/vnd.google.colaboratory.intrinsic+json": {
              "type": "string"
            },
            "text/plain": [
              "'Kaluga TPC \"XXI Century\"'"
            ]
          },
          "metadata": {
            "tags": []
          },
          "execution_count": 25
        }
      ]
    },
    {
      "cell_type": "markdown",
      "metadata": {
        "id": "TdbOzUHyVkmS"
      },
      "source": [
        "same here, city then no shop category then shop name"
      ]
    },
    {
      "cell_type": "code",
      "metadata": {
        "id": "vM0emGac5fOT"
      },
      "source": [
        "#let's extract the city from shop_name\n",
        "shops['shop_city'] = shops['shop_name'].apply(lambda x: x.split(' ')[0])"
      ],
      "execution_count": 21,
      "outputs": []
    },
    {
      "cell_type": "code",
      "metadata": {
        "colab": {
          "base_uri": "https://localhost:8080/",
          "height": 374
        },
        "id": "klKzH1fQ6vGr",
        "outputId": "acbf1de0-199b-46bd-9bf1-870cbf86e34b"
      },
      "source": [
        "# checking unique values for shop_city and then translating all the city names in english just to be sure it's a city\n",
        "print('number of unique cities extracted from shops table: ',shops['shop_city'].nunique())\n",
        "unique_shops = shops['shop_city'].unique()\n",
        "city_translation = {}\n",
        "for city in unique_shops:\n",
        "  city_translation[city]=translator('ru','en',city)[0][0][0]\t\n"
      ],
      "execution_count": 260,
      "outputs": [
        {
          "output_type": "stream",
          "text": [
            "number of unique cities extracted from shops table:  32\n"
          ],
          "name": "stdout"
        },
        {
          "output_type": "error",
          "ename": "HTTPError",
          "evalue": "ignored",
          "traceback": [
            "\u001b[0;31m---------------------------------------------------------------------------\u001b[0m",
            "\u001b[0;31mHTTPError\u001b[0m                                 Traceback (most recent call last)",
            "\u001b[0;32m<ipython-input-260-21319b412445>\u001b[0m in \u001b[0;36m<module>\u001b[0;34m()\u001b[0m\n\u001b[1;32m      4\u001b[0m \u001b[0mcity_translation\u001b[0m \u001b[0;34m=\u001b[0m \u001b[0;34m{\u001b[0m\u001b[0;34m}\u001b[0m\u001b[0;34m\u001b[0m\u001b[0;34m\u001b[0m\u001b[0m\n\u001b[1;32m      5\u001b[0m \u001b[0;32mfor\u001b[0m \u001b[0mcity\u001b[0m \u001b[0;32min\u001b[0m \u001b[0munique_shops\u001b[0m\u001b[0;34m:\u001b[0m\u001b[0;34m\u001b[0m\u001b[0;34m\u001b[0m\u001b[0m\n\u001b[0;32m----> 6\u001b[0;31m   \u001b[0mcity_translation\u001b[0m\u001b[0;34m[\u001b[0m\u001b[0mcity\u001b[0m\u001b[0;34m]\u001b[0m\u001b[0;34m=\u001b[0m\u001b[0mtranslator\u001b[0m\u001b[0;34m(\u001b[0m\u001b[0;34m'ru'\u001b[0m\u001b[0;34m,\u001b[0m\u001b[0;34m'en'\u001b[0m\u001b[0;34m,\u001b[0m\u001b[0mcity\u001b[0m\u001b[0;34m)\u001b[0m\u001b[0;34m[\u001b[0m\u001b[0;36m0\u001b[0m\u001b[0;34m]\u001b[0m\u001b[0;34m[\u001b[0m\u001b[0;36m0\u001b[0m\u001b[0;34m]\u001b[0m\u001b[0;34m[\u001b[0m\u001b[0;36m0\u001b[0m\u001b[0;34m]\u001b[0m\u001b[0;34m\u001b[0m\u001b[0;34m\u001b[0m\u001b[0m\n\u001b[0m",
            "\u001b[0;32m/usr/local/lib/python3.7/dist-packages/translate/translator.py\u001b[0m in \u001b[0;36mconnection\u001b[0;34m(*args, **kwargs)\u001b[0m\n\u001b[1;32m     49\u001b[0m \u001b[0;34m\u001b[0m\u001b[0m\n\u001b[1;32m     50\u001b[0m         \u001b[0;32mif\u001b[0m \u001b[0mresponse\u001b[0m\u001b[0;34m.\u001b[0m\u001b[0mstatus_code\u001b[0m \u001b[0;34m!=\u001b[0m \u001b[0mrequests\u001b[0m\u001b[0;34m.\u001b[0m\u001b[0mcodes\u001b[0m\u001b[0;34m.\u001b[0m\u001b[0mok\u001b[0m\u001b[0;34m:\u001b[0m\u001b[0;34m\u001b[0m\u001b[0;34m\u001b[0m\u001b[0m\n\u001b[0;32m---> 51\u001b[0;31m             \u001b[0mresponse\u001b[0m\u001b[0;34m.\u001b[0m\u001b[0mraise_for_status\u001b[0m\u001b[0;34m(\u001b[0m\u001b[0;34m)\u001b[0m\u001b[0;34m\u001b[0m\u001b[0;34m\u001b[0m\u001b[0m\n\u001b[0m\u001b[1;32m     52\u001b[0m \u001b[0;34m\u001b[0m\u001b[0m\n\u001b[1;32m     53\u001b[0m         \u001b[0mcleanup\u001b[0m \u001b[0;34m=\u001b[0m \u001b[0mre\u001b[0m\u001b[0;34m.\u001b[0m\u001b[0msubn\u001b[0m\u001b[0;34m(\u001b[0m\u001b[0;34mr',(?=,)'\u001b[0m\u001b[0;34m,\u001b[0m \u001b[0;34m''\u001b[0m\u001b[0;34m,\u001b[0m \u001b[0mresponse\u001b[0m\u001b[0;34m.\u001b[0m\u001b[0mcontent\u001b[0m\u001b[0;34m.\u001b[0m\u001b[0mdecode\u001b[0m\u001b[0;34m(\u001b[0m\u001b[0;34m'utf-8'\u001b[0m\u001b[0;34m)\u001b[0m\u001b[0;34m)\u001b[0m\u001b[0;34m[\u001b[0m\u001b[0;36m0\u001b[0m\u001b[0;34m]\u001b[0m\u001b[0;34m\u001b[0m\u001b[0;34m\u001b[0m\u001b[0m\n",
            "\u001b[0;32m/usr/local/lib/python3.7/dist-packages/requests/models.py\u001b[0m in \u001b[0;36mraise_for_status\u001b[0;34m(self)\u001b[0m\n\u001b[1;32m    939\u001b[0m \u001b[0;34m\u001b[0m\u001b[0m\n\u001b[1;32m    940\u001b[0m         \u001b[0;32mif\u001b[0m \u001b[0mhttp_error_msg\u001b[0m\u001b[0;34m:\u001b[0m\u001b[0;34m\u001b[0m\u001b[0;34m\u001b[0m\u001b[0m\n\u001b[0;32m--> 941\u001b[0;31m             \u001b[0;32mraise\u001b[0m \u001b[0mHTTPError\u001b[0m\u001b[0;34m(\u001b[0m\u001b[0mhttp_error_msg\u001b[0m\u001b[0;34m,\u001b[0m \u001b[0mresponse\u001b[0m\u001b[0;34m=\u001b[0m\u001b[0mself\u001b[0m\u001b[0;34m)\u001b[0m\u001b[0;34m\u001b[0m\u001b[0;34m\u001b[0m\u001b[0m\n\u001b[0m\u001b[1;32m    942\u001b[0m \u001b[0;34m\u001b[0m\u001b[0m\n\u001b[1;32m    943\u001b[0m     \u001b[0;32mdef\u001b[0m \u001b[0mclose\u001b[0m\u001b[0;34m(\u001b[0m\u001b[0mself\u001b[0m\u001b[0;34m)\u001b[0m\u001b[0;34m:\u001b[0m\u001b[0;34m\u001b[0m\u001b[0;34m\u001b[0m\u001b[0m\n",
            "\u001b[0;31mHTTPError\u001b[0m: 429 Client Error: Too Many Requests for url: https://translate.google.com/translate_a/single?client=a&ie=utf-8&oe=utf-8&dt=t&sl=ru&tl=en&q=%21%D1%8F%D0%BA%D1%83%D1%82%D1%81%D0%BA"
          ]
        }
      ]
    },
    {
      "cell_type": "code",
      "metadata": {
        "colab": {
          "base_uri": "https://localhost:8080/"
        },
        "id": "d1zDhEM0-uA8",
        "outputId": "bde6200a-4082-4e2c-f9e1-9fdf3dd4d45a"
      },
      "source": [
        "city_translation"
      ],
      "execution_count": 45,
      "outputs": [
        {
          "output_type": "execute_result",
          "data": {
            "text/plain": [
              "{'no_city': 'no_city',\n",
              " 'адыгея': 'Adygea',\n",
              " 'балашиха': 'Balashikha',\n",
              " 'волжский': 'Volzhsky',\n",
              " 'вологда': 'Vologda',\n",
              " 'воронеж': 'Voronezh',\n",
              " 'жуковский': 'Zhukovsky',\n",
              " 'казань': 'Kazan.',\n",
              " 'калуга': 'Kaluga',\n",
              " 'коломна': 'Kolomna',\n",
              " 'красноярск': 'Krasnoyarsk',\n",
              " 'курск': 'Kursk',\n",
              " 'москва': 'Moscow',\n",
              " 'мытищи': 'Mytishchi.',\n",
              " 'н.новгород': 'N.Novgorod',\n",
              " 'новосибирск': 'Novosibirsk',\n",
              " 'омск': 'Omsk',\n",
              " 'ростовнадону': 'Rostovnadon',\n",
              " 'самара': 'Samara',\n",
              " 'сергиев': 'Sergiev',\n",
              " 'спб': 'St. Petersburg',\n",
              " 'сургут': 'Surgut',\n",
              " 'томск': 'Tomsk',\n",
              " 'тюмень': 'Tyumen.',\n",
              " 'уфа': 'Ufa',\n",
              " 'химки': 'Khimki',\n",
              " 'чехов': 'Chekhov',\n",
              " 'якутск': 'Yakutsk',\n",
              " 'ярославль': 'Yaroslavl'}"
            ]
          },
          "metadata": {
            "tags": []
          },
          "execution_count": 45
        }
      ]
    },
    {
      "cell_type": "markdown",
      "metadata": {
        "id": "ErRVgQzj_J9T"
      },
      "source": [
        "remarks : \n",
        "- ! Yakutsk has to be replaced by Yakutsk\n",
        "- Exit has to be dropped\n",
        "- Online store has to be dropped but we can create a shop category including shopping mall that can be useful\n",
        "- Digital has to be the same shop category as Online store\n"
      ]
    },
    {
      "cell_type": "code",
      "metadata": {
        "id": "ATaDyoUuLlSq"
      },
      "source": [
        "# correcting shop_city column\n",
        "shops['shop_city'].replace({'!якутск':'якутск','интернет-магазин':'no_city','выездная':'no_city','цифровой':'no_city'},inplace=True)"
      ],
      "execution_count": 22,
      "outputs": []
    },
    {
      "cell_type": "code",
      "metadata": {
        "id": "mk3hvzJ6PM-l"
      },
      "source": [
        "# creating a shop_category column by extracting 'тц' : 'mall' , 'трц' : 'shopping center' ,'интернет-магазин': 'Online store' , 'цифровой': 'digital'\n",
        "# 'склад' : 'warehouse'\n",
        "# we are going to assume that mall is the same than shopping center and oneline store and digital are also the same\n",
        "shop_cats = ['тц', 'трц', 'интернет-магазин', 'цифровой', 'склад']\n",
        "category=[]\n",
        "for shop in shops['shop_name']:\n",
        "  if 'тц' in shop or 'трц' in shop:\n",
        "    category.append('тц')\n",
        "  elif 'интернет-магазин' in shop:\n",
        "    category.append('интернет-магазин')\n",
        "  elif 'цифровой' in shop:\n",
        "    category.append('цифровой')\n",
        "  elif 'склад' in shop:\n",
        "    category.append('склад')\n",
        "  else:\n",
        "    category.append('no_category')\n",
        "\n",
        "shops['shop_category']=category"
      ],
      "execution_count": 23,
      "outputs": []
    },
    {
      "cell_type": "code",
      "metadata": {
        "id": "iFYLSXEGNJq6"
      },
      "source": [
        "# removing city from shop_name\n",
        "shops['shop_name'] = shops['shop_name'].apply(lambda x: x[x.index(' ') + 1:])"
      ],
      "execution_count": 24,
      "outputs": []
    },
    {
      "cell_type": "code",
      "metadata": {
        "colab": {
          "base_uri": "https://localhost:8080/"
        },
        "id": "KYas8klfcFCX",
        "outputId": "10de2e8e-e7b3-44c2-8045-1fddf3e67c1b"
      },
      "source": [
        "# removing shop_category from shop_name\n",
        "for i in shop_cats:\n",
        "  for x in range(len(shops)):\n",
        "    if i in shops['shop_name'][x]:\n",
        "      shops['shop_name'][x] = shops['shop_name'][x].strip('тц')"
      ],
      "execution_count": 25,
      "outputs": [
        {
          "output_type": "stream",
          "text": [
            "/usr/local/lib/python3.7/dist-packages/ipykernel_launcher.py:5: SettingWithCopyWarning: \n",
            "A value is trying to be set on a copy of a slice from a DataFrame\n",
            "\n",
            "See the caveats in the documentation: https://pandas.pydata.org/pandas-docs/stable/user_guide/indexing.html#returning-a-view-versus-a-copy\n",
            "  \"\"\"\n"
          ],
          "name": "stderr"
        }
      ]
    },
    {
      "cell_type": "code",
      "metadata": {
        "colab": {
          "base_uri": "https://localhost:8080/"
        },
        "id": "WuOYwFAouOkQ",
        "outputId": "870d360b-b0f0-47d0-e16d-5fee4917d604"
      },
      "source": [
        "shops.shape"
      ],
      "execution_count": 26,
      "outputs": [
        {
          "output_type": "execute_result",
          "data": {
            "text/plain": [
              "(60, 4)"
            ]
          },
          "metadata": {
            "tags": []
          },
          "execution_count": 26
        }
      ]
    },
    {
      "cell_type": "markdown",
      "metadata": {
        "id": "q9EqC4dZop91"
      },
      "source": [
        "### items table"
      ]
    },
    {
      "cell_type": "code",
      "metadata": {
        "colab": {
          "base_uri": "https://localhost:8080/",
          "height": 289
        },
        "id": "0Lg1skWjUJXz",
        "outputId": "ea897003-3a40-4f6b-abc1-bd29471f600c"
      },
      "source": [
        "# checking items shape\n",
        "print(f'items dataframe shape: {items.shape}')\n",
        "\n",
        "# looking for missing values\n",
        "print(items.isna().sum())\n",
        "\n",
        "items.head()"
      ],
      "execution_count": 27,
      "outputs": [
        {
          "output_type": "stream",
          "text": [
            "items dataframe shape: (22170, 3)\n",
            "item_name           0\n",
            "item_id             0\n",
            "item_category_id    0\n",
            "dtype: int64\n"
          ],
          "name": "stdout"
        },
        {
          "output_type": "execute_result",
          "data": {
            "text/html": [
              "<div>\n",
              "<style scoped>\n",
              "    .dataframe tbody tr th:only-of-type {\n",
              "        vertical-align: middle;\n",
              "    }\n",
              "\n",
              "    .dataframe tbody tr th {\n",
              "        vertical-align: top;\n",
              "    }\n",
              "\n",
              "    .dataframe thead th {\n",
              "        text-align: right;\n",
              "    }\n",
              "</style>\n",
              "<table border=\"1\" class=\"dataframe\">\n",
              "  <thead>\n",
              "    <tr style=\"text-align: right;\">\n",
              "      <th></th>\n",
              "      <th>item_name</th>\n",
              "      <th>item_id</th>\n",
              "      <th>item_category_id</th>\n",
              "    </tr>\n",
              "  </thead>\n",
              "  <tbody>\n",
              "    <tr>\n",
              "      <th>0</th>\n",
              "      <td>! ВО ВЛАСТИ НАВАЖДЕНИЯ (ПЛАСТ.)         D</td>\n",
              "      <td>0</td>\n",
              "      <td>40</td>\n",
              "    </tr>\n",
              "    <tr>\n",
              "      <th>1</th>\n",
              "      <td>!ABBYY FineReader 12 Professional Edition Full...</td>\n",
              "      <td>1</td>\n",
              "      <td>76</td>\n",
              "    </tr>\n",
              "    <tr>\n",
              "      <th>2</th>\n",
              "      <td>***В ЛУЧАХ СЛАВЫ   (UNV)                    D</td>\n",
              "      <td>2</td>\n",
              "      <td>40</td>\n",
              "    </tr>\n",
              "    <tr>\n",
              "      <th>3</th>\n",
              "      <td>***ГОЛУБАЯ ВОЛНА  (Univ)                      D</td>\n",
              "      <td>3</td>\n",
              "      <td>40</td>\n",
              "    </tr>\n",
              "    <tr>\n",
              "      <th>4</th>\n",
              "      <td>***КОРОБКА (СТЕКЛО)                       D</td>\n",
              "      <td>4</td>\n",
              "      <td>40</td>\n",
              "    </tr>\n",
              "  </tbody>\n",
              "</table>\n",
              "</div>"
            ],
            "text/plain": [
              "                                           item_name  item_id  \\\n",
              "0          ! ВО ВЛАСТИ НАВАЖДЕНИЯ (ПЛАСТ.)         D        0   \n",
              "1  !ABBYY FineReader 12 Professional Edition Full...        1   \n",
              "2      ***В ЛУЧАХ СЛАВЫ   (UNV)                    D        2   \n",
              "3    ***ГОЛУБАЯ ВОЛНА  (Univ)                      D        3   \n",
              "4        ***КОРОБКА (СТЕКЛО)                       D        4   \n",
              "\n",
              "   item_category_id  \n",
              "0                40  \n",
              "1                76  \n",
              "2                40  \n",
              "3                40  \n",
              "4                40  "
            ]
          },
          "metadata": {
            "tags": []
          },
          "execution_count": 27
        }
      ]
    },
    {
      "cell_type": "code",
      "metadata": {
        "colab": {
          "base_uri": "https://localhost:8080/",
          "height": 221
        },
        "id": "oOVR6MxpBagQ",
        "outputId": "cda60feb-0781-436a-cd46-c63dd04712f2"
      },
      "source": [
        "# checking that we don't have duplicate item_name\n",
        "items['item_name'] = items['item_name'].apply(lambda x:x.lower())\n",
        "duplicated_items = items[items.duplicated(subset='item_name',keep=False)==True]\n",
        "print('number of duplicated rows: ',len(duplicated_items))\n",
        "duplicated_items.head()"
      ],
      "execution_count": 28,
      "outputs": [
        {
          "output_type": "stream",
          "text": [
            "number of duplicated rows:  118\n"
          ],
          "name": "stdout"
        },
        {
          "output_type": "execute_result",
          "data": {
            "text/html": [
              "<div>\n",
              "<style scoped>\n",
              "    .dataframe tbody tr th:only-of-type {\n",
              "        vertical-align: middle;\n",
              "    }\n",
              "\n",
              "    .dataframe tbody tr th {\n",
              "        vertical-align: top;\n",
              "    }\n",
              "\n",
              "    .dataframe thead th {\n",
              "        text-align: right;\n",
              "    }\n",
              "</style>\n",
              "<table border=\"1\" class=\"dataframe\">\n",
              "  <thead>\n",
              "    <tr style=\"text-align: right;\">\n",
              "      <th></th>\n",
              "      <th>item_name</th>\n",
              "      <th>item_id</th>\n",
              "      <th>item_category_id</th>\n",
              "    </tr>\n",
              "  </thead>\n",
              "  <tbody>\n",
              "    <tr>\n",
              "      <th>8247</th>\n",
              "      <td>алые паруса (регион)</td>\n",
              "      <td>8247</td>\n",
              "      <td>40</td>\n",
              "    </tr>\n",
              "    <tr>\n",
              "      <th>8248</th>\n",
              "      <td>алые паруса (регион)</td>\n",
              "      <td>8248</td>\n",
              "      <td>40</td>\n",
              "    </tr>\n",
              "    <tr>\n",
              "      <th>8289</th>\n",
              "      <td>английский вместе с хрюшей и… ч. 1 (регион)</td>\n",
              "      <td>8289</td>\n",
              "      <td>40</td>\n",
              "    </tr>\n",
              "    <tr>\n",
              "      <th>8290</th>\n",
              "      <td>английский вместе с хрюшей и… ч. 1 (регион)</td>\n",
              "      <td>8290</td>\n",
              "      <td>40</td>\n",
              "    </tr>\n",
              "    <tr>\n",
              "      <th>8298</th>\n",
              "      <td>андрей рублев (регион)</td>\n",
              "      <td>8298</td>\n",
              "      <td>40</td>\n",
              "    </tr>\n",
              "  </tbody>\n",
              "</table>\n",
              "</div>"
            ],
            "text/plain": [
              "                                        item_name  item_id  item_category_id\n",
              "8247                         алые паруса (регион)     8247                40\n",
              "8248                         алые паруса (регион)     8248                40\n",
              "8289  английский вместе с хрюшей и… ч. 1 (регион)     8289                40\n",
              "8290  английский вместе с хрюшей и… ч. 1 (регион)     8290                40\n",
              "8298                       андрей рублев (регион)     8298                40"
            ]
          },
          "metadata": {
            "tags": []
          },
          "execution_count": 28
        }
      ]
    },
    {
      "cell_type": "markdown",
      "metadata": {
        "id": "TqoQ0ADceCuG"
      },
      "source": [
        "we have a lot of duplicates here !\n",
        "we need to remove duplicated items"
      ]
    },
    {
      "cell_type": "code",
      "metadata": {
        "colab": {
          "base_uri": "https://localhost:8080/",
          "height": 204
        },
        "id": "ZPgClrVGe6tG",
        "outputId": "36ba0d96-5e41-44a1-e3c2-41b217a21073"
      },
      "source": [
        "# we are going to keep the first item_id for each group of duplicated item_ids in order to change them in sales and test datasets\n",
        "first_duplicated_items = duplicated_items.groupby('item_name',as_index=False).agg(first_item_id=pd.NamedAgg(column='item_id',aggfunc='first'))\n",
        "# then we merge duplicated_items with first_duplicated_items in order the to match the duplicated item_ids with the first item_id\n",
        "duplicated_items = pd.merge(duplicated_items,first_duplicated_items, how ='left' , on='item_name')\n",
        "duplicated_items.head()"
      ],
      "execution_count": 29,
      "outputs": [
        {
          "output_type": "execute_result",
          "data": {
            "text/html": [
              "<div>\n",
              "<style scoped>\n",
              "    .dataframe tbody tr th:only-of-type {\n",
              "        vertical-align: middle;\n",
              "    }\n",
              "\n",
              "    .dataframe tbody tr th {\n",
              "        vertical-align: top;\n",
              "    }\n",
              "\n",
              "    .dataframe thead th {\n",
              "        text-align: right;\n",
              "    }\n",
              "</style>\n",
              "<table border=\"1\" class=\"dataframe\">\n",
              "  <thead>\n",
              "    <tr style=\"text-align: right;\">\n",
              "      <th></th>\n",
              "      <th>item_name</th>\n",
              "      <th>item_id</th>\n",
              "      <th>item_category_id</th>\n",
              "      <th>first_item_id</th>\n",
              "    </tr>\n",
              "  </thead>\n",
              "  <tbody>\n",
              "    <tr>\n",
              "      <th>0</th>\n",
              "      <td>алые паруса (регион)</td>\n",
              "      <td>8247</td>\n",
              "      <td>40</td>\n",
              "      <td>8247</td>\n",
              "    </tr>\n",
              "    <tr>\n",
              "      <th>1</th>\n",
              "      <td>алые паруса (регион)</td>\n",
              "      <td>8248</td>\n",
              "      <td>40</td>\n",
              "      <td>8247</td>\n",
              "    </tr>\n",
              "    <tr>\n",
              "      <th>2</th>\n",
              "      <td>английский вместе с хрюшей и… ч. 1 (регион)</td>\n",
              "      <td>8289</td>\n",
              "      <td>40</td>\n",
              "      <td>8289</td>\n",
              "    </tr>\n",
              "    <tr>\n",
              "      <th>3</th>\n",
              "      <td>английский вместе с хрюшей и… ч. 1 (регион)</td>\n",
              "      <td>8290</td>\n",
              "      <td>40</td>\n",
              "      <td>8289</td>\n",
              "    </tr>\n",
              "    <tr>\n",
              "      <th>4</th>\n",
              "      <td>андрей рублев (регион)</td>\n",
              "      <td>8298</td>\n",
              "      <td>40</td>\n",
              "      <td>8298</td>\n",
              "    </tr>\n",
              "  </tbody>\n",
              "</table>\n",
              "</div>"
            ],
            "text/plain": [
              "                                     item_name  item_id  item_category_id  \\\n",
              "0                         алые паруса (регион)     8247                40   \n",
              "1                         алые паруса (регион)     8248                40   \n",
              "2  английский вместе с хрюшей и… ч. 1 (регион)     8289                40   \n",
              "3  английский вместе с хрюшей и… ч. 1 (регион)     8290                40   \n",
              "4                       андрей рублев (регион)     8298                40   \n",
              "\n",
              "   first_item_id  \n",
              "0           8247  \n",
              "1           8247  \n",
              "2           8289  \n",
              "3           8289  \n",
              "4           8298  "
            ]
          },
          "metadata": {
            "tags": []
          },
          "execution_count": 29
        }
      ]
    },
    {
      "cell_type": "code",
      "metadata": {
        "id": "kepgBLtQqvxg"
      },
      "source": [
        "# now we gonna create a dictionnary with keys equal to item_ids and values equal to first_item_ids\n",
        "# in order to replace duplicated item_ids in sales and test data with one item_id\n",
        "first_item_dict = pd.Series(duplicated_items['first_item_id'].values,duplicated_items['item_id'].values).to_dict()"
      ],
      "execution_count": 30,
      "outputs": []
    },
    {
      "cell_type": "code",
      "metadata": {
        "id": "5HQYzrpxrazj"
      },
      "source": [
        "# now we can replace duplicated item_ids in sales and test\n",
        "sales['item_id'] = sales['item_id'].replace(first_item_dict)\n",
        "test['item_id'] = test['item_id'].replace(first_item_dict)"
      ],
      "execution_count": 31,
      "outputs": []
    },
    {
      "cell_type": "code",
      "metadata": {
        "id": "PteVXcTYwein"
      },
      "source": [
        "# finally we can drop the duplicates in items dataframe\n",
        "items.drop_duplicates('item_name',inplace=True) #keep='first' is set by default"
      ],
      "execution_count": 32,
      "outputs": []
    },
    {
      "cell_type": "code",
      "metadata": {
        "colab": {
          "base_uri": "https://localhost:8080/"
        },
        "id": "UnzvXotQz3Z5",
        "outputId": "74c9bb03-72f8-4522-d56b-bd47a2b5b851"
      },
      "source": [
        "del duplicated_items, first_duplicated_items, first_item_dict\n",
        "gc.collect()"
      ],
      "execution_count": 33,
      "outputs": [
        {
          "output_type": "execute_result",
          "data": {
            "text/plain": [
              "307"
            ]
          },
          "metadata": {
            "tags": []
          },
          "execution_count": 33
        }
      ]
    },
    {
      "cell_type": "markdown",
      "metadata": {
        "id": "rKcLofTp2ySJ"
      },
      "source": [
        "### item_cats table"
      ]
    },
    {
      "cell_type": "code",
      "metadata": {
        "colab": {
          "base_uri": "https://localhost:8080/",
          "height": 272
        },
        "id": "_dF00iBcUJX1",
        "outputId": "bcf48f67-9ee8-4b0d-e61f-512c1251ee79"
      },
      "source": [
        "# checking item_cats shape\n",
        "print(f'item_cats dataframe shape: {item_cats.shape}')\n",
        "\n",
        "# looking for missing values\n",
        "print(item_cats.isna().sum())\n",
        "\n",
        "item_cats.head()"
      ],
      "execution_count": 34,
      "outputs": [
        {
          "output_type": "stream",
          "text": [
            "item_cats dataframe shape: (84, 2)\n",
            "item_category_name    0\n",
            "item_category_id      0\n",
            "dtype: int64\n"
          ],
          "name": "stdout"
        },
        {
          "output_type": "execute_result",
          "data": {
            "text/html": [
              "<div>\n",
              "<style scoped>\n",
              "    .dataframe tbody tr th:only-of-type {\n",
              "        vertical-align: middle;\n",
              "    }\n",
              "\n",
              "    .dataframe tbody tr th {\n",
              "        vertical-align: top;\n",
              "    }\n",
              "\n",
              "    .dataframe thead th {\n",
              "        text-align: right;\n",
              "    }\n",
              "</style>\n",
              "<table border=\"1\" class=\"dataframe\">\n",
              "  <thead>\n",
              "    <tr style=\"text-align: right;\">\n",
              "      <th></th>\n",
              "      <th>item_category_name</th>\n",
              "      <th>item_category_id</th>\n",
              "    </tr>\n",
              "  </thead>\n",
              "  <tbody>\n",
              "    <tr>\n",
              "      <th>0</th>\n",
              "      <td>PC - Гарнитуры/Наушники</td>\n",
              "      <td>0</td>\n",
              "    </tr>\n",
              "    <tr>\n",
              "      <th>1</th>\n",
              "      <td>Аксессуары - PS2</td>\n",
              "      <td>1</td>\n",
              "    </tr>\n",
              "    <tr>\n",
              "      <th>2</th>\n",
              "      <td>Аксессуары - PS3</td>\n",
              "      <td>2</td>\n",
              "    </tr>\n",
              "    <tr>\n",
              "      <th>3</th>\n",
              "      <td>Аксессуары - PS4</td>\n",
              "      <td>3</td>\n",
              "    </tr>\n",
              "    <tr>\n",
              "      <th>4</th>\n",
              "      <td>Аксессуары - PSP</td>\n",
              "      <td>4</td>\n",
              "    </tr>\n",
              "  </tbody>\n",
              "</table>\n",
              "</div>"
            ],
            "text/plain": [
              "        item_category_name  item_category_id\n",
              "0  PC - Гарнитуры/Наушники                 0\n",
              "1         Аксессуары - PS2                 1\n",
              "2         Аксессуары - PS3                 2\n",
              "3         Аксессуары - PS4                 3\n",
              "4         Аксессуары - PSP                 4"
            ]
          },
          "metadata": {
            "tags": []
          },
          "execution_count": 34
        }
      ]
    },
    {
      "cell_type": "code",
      "metadata": {
        "colab": {
          "base_uri": "https://localhost:8080/",
          "height": 49
        },
        "id": "jknKUoJJBlRw",
        "outputId": "ee3defb3-9b5e-4a37-a0a5-26ee5ca4e9db"
      },
      "source": [
        "# checking that we don't have duplicate item_category_name\n",
        "item_cats['item_category_name'] = item_cats['item_category_name'].apply(lambda x: x.lower())\n",
        "item_cats[item_cats.duplicated(subset='item_category_name')==True]"
      ],
      "execution_count": 35,
      "outputs": [
        {
          "output_type": "execute_result",
          "data": {
            "text/html": [
              "<div>\n",
              "<style scoped>\n",
              "    .dataframe tbody tr th:only-of-type {\n",
              "        vertical-align: middle;\n",
              "    }\n",
              "\n",
              "    .dataframe tbody tr th {\n",
              "        vertical-align: top;\n",
              "    }\n",
              "\n",
              "    .dataframe thead th {\n",
              "        text-align: right;\n",
              "    }\n",
              "</style>\n",
              "<table border=\"1\" class=\"dataframe\">\n",
              "  <thead>\n",
              "    <tr style=\"text-align: right;\">\n",
              "      <th></th>\n",
              "      <th>item_category_name</th>\n",
              "      <th>item_category_id</th>\n",
              "    </tr>\n",
              "  </thead>\n",
              "  <tbody>\n",
              "  </tbody>\n",
              "</table>\n",
              "</div>"
            ],
            "text/plain": [
              "Empty DataFrame\n",
              "Columns: [item_category_name, item_category_id]\n",
              "Index: []"
            ]
          },
          "metadata": {
            "tags": []
          },
          "execution_count": 35
        }
      ]
    },
    {
      "cell_type": "code",
      "metadata": {
        "colab": {
          "base_uri": "https://localhost:8080/",
          "height": 483
        },
        "id": "SAUNmzFecN_e",
        "outputId": "c9f1af94-4875-43cc-82a4-8624838c9fac"
      },
      "source": [
        "# number of transactions per shop in the sales dataframe\n",
        "shop_id_count = sales['shop_id'].value_counts(ascending=False)\n",
        "plt.figure(figsize=(14,8))\n",
        "sns.barplot(x=shop_id_count.index , y=shop_id_count , order=shop_id_count.index)\n",
        "plt.show()"
      ],
      "execution_count": 36,
      "outputs": [
        {
          "output_type": "display_data",
          "data": {
            "image/png": "[encoded data removed]",
            "text/plain": [
              "<Figure size 1008x576 with 1 Axes>"
            ]
          },
          "metadata": {
            "tags": [],
            "needs_background": "light"
          }
        }
      ]
    },
    {
      "cell_type": "markdown",
      "metadata": {
        "id": "y8UTFR9ZfqLg"
      },
      "source": [
        "in the sales dataframe, the number of appearance of each shop is not uniformly distributed, we have some shops that have more than 100000 appearances and other with less than 10000"
      ]
    },
    {
      "cell_type": "code",
      "metadata": {
        "colab": {
          "base_uri": "https://localhost:8080/"
        },
        "id": "97IynVoKzj0T",
        "outputId": "c0c3430b-637f-48db-f7fe-5e2b386e97f0"
      },
      "source": [
        "del shop_id_count\n",
        "gc.collect()"
      ],
      "execution_count": 486,
      "outputs": [
        {
          "output_type": "execute_result",
          "data": {
            "text/plain": [
              "581"
            ]
          },
          "metadata": {
            "tags": []
          },
          "execution_count": 486
        }
      ]
    },
    {
      "cell_type": "code",
      "metadata": {
        "colab": {
          "base_uri": "https://localhost:8080/",
          "height": 483
        },
        "id": "9Yk2IE-FfRvg",
        "outputId": "d2959397-8e1a-4b0b-e47b-fe04ed3c28f7"
      },
      "source": [
        "# number of transactions per shop in the test dataframe\n",
        "shop_id_count_test = test['shop_id'].value_counts(ascending=False)\n",
        "plt.figure(figsize=(14,8))\n",
        "sns.barplot(x=shop_id_count_test.index , y=shop_id_count_test , order=shop_id_count_test.index)\n",
        "plt.show()"
      ],
      "execution_count": 334,
      "outputs": [
        {
          "output_type": "display_data",
          "data": {
            "image/png": "[encoded data removed]",
            "text/plain": [
              "<Figure size 1008x576 with 1 Axes>"
            ]
          },
          "metadata": {
            "tags": [],
            "needs_background": "light"
          }
        }
      ]
    },
    {
      "cell_type": "markdown",
      "metadata": {
        "id": "GfORQ2ycgTyU"
      },
      "source": [
        "in the test dataframe, the number of appearance per shop is perfectly uniform. in order the keep the information from sales dataframe we will have to mean encode shop_id "
      ]
    },
    {
      "cell_type": "code",
      "metadata": {
        "colab": {
          "base_uri": "https://localhost:8080/"
        },
        "id": "-rnpDg32zbaQ",
        "outputId": "572c9f0e-4456-4472-f335-42aca38158c8"
      },
      "source": [
        "del shop_id_count_test\n",
        "gc.collect()"
      ],
      "execution_count": 484,
      "outputs": [
        {
          "output_type": "execute_result",
          "data": {
            "text/plain": [
              "370"
            ]
          },
          "metadata": {
            "tags": []
          },
          "execution_count": 484
        }
      ]
    },
    {
      "cell_type": "code",
      "metadata": {
        "colab": {
          "base_uri": "https://localhost:8080/",
          "height": 483
        },
        "id": "37vTEH0AD2J8",
        "outputId": "07ba5e42-2ec2-40b2-f804-7f3071281804"
      },
      "source": [
        "# number of transactions per item in the sales dataframe\n",
        "item_id_count = sales['item_id'].value_counts(ascending=False)\n",
        "plt.figure(figsize=(14,8))\n",
        "sns.barplot(x=item_id_count.index , y=item_id_count , order=item_id_count.index)\n",
        "plt.show()"
      ],
      "execution_count": 335,
      "outputs": [
        {
          "output_type": "display_data",
          "data": {
            "image/png": "[encoded data removed]",
            "text/plain": [
              "<Figure size 1008x576 with 1 Axes>"
            ]
          },
          "metadata": {
            "tags": [],
            "needs_background": "light"
          }
        }
      ]
    },
    {
      "cell_type": "markdown",
      "metadata": {
        "id": "sYfsSCHeHf4b"
      },
      "source": [
        "in the sales dataframe, the number of transactions per item is not uniformly distributed, we have some items that have more than 9000 transactions and other with just one"
      ]
    },
    {
      "cell_type": "code",
      "metadata": {
        "colab": {
          "base_uri": "https://localhost:8080/"
        },
        "id": "EhU6It7zzu7s",
        "outputId": "7337f016-ca9d-4639-9667-366e51e322f7"
      },
      "source": [
        "del item_id_count\n",
        "gc.collect()"
      ],
      "execution_count": 487,
      "outputs": [
        {
          "output_type": "execute_result",
          "data": {
            "text/plain": [
              "860"
            ]
          },
          "metadata": {
            "tags": []
          },
          "execution_count": 487
        }
      ]
    },
    {
      "cell_type": "code",
      "metadata": {
        "colab": {
          "base_uri": "https://localhost:8080/"
        },
        "id": "crSuBHEjFLTu",
        "outputId": "5fabd5de-b1df-4b77-8d7d-db67f31924e1"
      },
      "source": [
        "sales['item_id'].value_counts(ascending=False).head()"
      ],
      "execution_count": 336,
      "outputs": [
        {
          "output_type": "execute_result",
          "data": {
            "text/plain": [
              "20949    31340\n",
              "5822      9408\n",
              "17717     9067\n",
              "2808      7479\n",
              "4181      6853\n",
              "Name: item_id, dtype: int64"
            ]
          },
          "metadata": {
            "tags": []
          },
          "execution_count": 336
        }
      ]
    },
    {
      "cell_type": "code",
      "metadata": {
        "colab": {
          "base_uri": "https://localhost:8080/"
        },
        "id": "h_zSUIT8IqJ7",
        "outputId": "a81c90cf-c82a-43ee-db97-cb85b0eb3f88"
      },
      "source": [
        "sales['item_id'].value_counts(ascending=False).tail()"
      ],
      "execution_count": 337,
      "outputs": [
        {
          "output_type": "execute_result",
          "data": {
            "text/plain": [
              "729      1\n",
              "10973    1\n",
              "21202    1\n",
              "2775     1\n",
              "0        1\n",
              "Name: item_id, dtype: int64"
            ]
          },
          "metadata": {
            "tags": []
          },
          "execution_count": 337
        }
      ]
    },
    {
      "cell_type": "code",
      "metadata": {
        "colab": {
          "base_uri": "https://localhost:8080/",
          "height": 483
        },
        "id": "hA8jRFkaEN11",
        "outputId": "69467259-ff3a-46bd-ca45-f81a1184b345"
      },
      "source": [
        "# number of transactions per item in the test dataframe\n",
        "item_id_count_test = test['item_id'].value_counts(ascending=False)\n",
        "plt.figure(figsize=(14,8))\n",
        "sns.barplot(x=item_id_count_test.index , y=item_id_count_test , order=item_id_count_test.index)\n",
        "plt.show()"
      ],
      "execution_count": 338,
      "outputs": [
        {
          "output_type": "display_data",
          "data": {
            "image/png": "[encoded data removed]",
            "text/plain": [
              "<Figure size 1008x576 with 1 Axes>"
            ]
          },
          "metadata": {
            "tags": [],
            "needs_background": "light"
          }
        }
      ]
    },
    {
      "cell_type": "markdown",
      "metadata": {
        "id": "8dejxqSqIz5U"
      },
      "source": [
        "in the test dataframe, the number of appearance per item is perfectly uniform.\n",
        "in order the keep the information from sales dataframe we will have to mean encode item_id "
      ]
    },
    {
      "cell_type": "markdown",
      "metadata": {
        "id": "A-Ka-k-GVMAH"
      },
      "source": [
        "## Test set"
      ]
    },
    {
      "cell_type": "code",
      "metadata": {
        "colab": {
          "base_uri": "https://localhost:8080/",
          "height": 289
        },
        "id": "cjeXfN0BUJX2",
        "outputId": "e8d8b0ef-2741-4b74-eb91-51efc5e417a0"
      },
      "source": [
        "# checking test shape\n",
        "print(f'test dataframe shape: {test.shape}')\n",
        "\n",
        "# looking for missing values\n",
        "print(test.isna().sum())\n",
        "\n",
        "test.head()"
      ],
      "execution_count": 37,
      "outputs": [
        {
          "output_type": "stream",
          "text": [
            "test dataframe shape: (214200, 3)\n",
            "ID         0\n",
            "shop_id    0\n",
            "item_id    0\n",
            "dtype: int64\n"
          ],
          "name": "stdout"
        },
        {
          "output_type": "execute_result",
          "data": {
            "text/html": [
              "<div>\n",
              "<style scoped>\n",
              "    .dataframe tbody tr th:only-of-type {\n",
              "        vertical-align: middle;\n",
              "    }\n",
              "\n",
              "    .dataframe tbody tr th {\n",
              "        vertical-align: top;\n",
              "    }\n",
              "\n",
              "    .dataframe thead th {\n",
              "        text-align: right;\n",
              "    }\n",
              "</style>\n",
              "<table border=\"1\" class=\"dataframe\">\n",
              "  <thead>\n",
              "    <tr style=\"text-align: right;\">\n",
              "      <th></th>\n",
              "      <th>ID</th>\n",
              "      <th>shop_id</th>\n",
              "      <th>item_id</th>\n",
              "    </tr>\n",
              "  </thead>\n",
              "  <tbody>\n",
              "    <tr>\n",
              "      <th>0</th>\n",
              "      <td>0</td>\n",
              "      <td>5</td>\n",
              "      <td>5037</td>\n",
              "    </tr>\n",
              "    <tr>\n",
              "      <th>1</th>\n",
              "      <td>1</td>\n",
              "      <td>5</td>\n",
              "      <td>5320</td>\n",
              "    </tr>\n",
              "    <tr>\n",
              "      <th>2</th>\n",
              "      <td>2</td>\n",
              "      <td>5</td>\n",
              "      <td>5233</td>\n",
              "    </tr>\n",
              "    <tr>\n",
              "      <th>3</th>\n",
              "      <td>3</td>\n",
              "      <td>5</td>\n",
              "      <td>5232</td>\n",
              "    </tr>\n",
              "    <tr>\n",
              "      <th>4</th>\n",
              "      <td>4</td>\n",
              "      <td>5</td>\n",
              "      <td>5268</td>\n",
              "    </tr>\n",
              "  </tbody>\n",
              "</table>\n",
              "</div>"
            ],
            "text/plain": [
              "   ID  shop_id  item_id\n",
              "0   0        5     5037\n",
              "1   1        5     5320\n",
              "2   2        5     5233\n",
              "3   3        5     5232\n",
              "4   4        5     5268"
            ]
          },
          "metadata": {
            "tags": []
          },
          "execution_count": 37
        }
      ]
    },
    {
      "cell_type": "code",
      "metadata": {
        "colab": {
          "base_uri": "https://localhost:8080/"
        },
        "id": "5Cz9AjcLUJX3",
        "outputId": "1a20c1ae-1d59-4ae6-e3f4-cd0df9c6dcd3"
      },
      "source": [
        "# first we need to check that the all the shops and items that are in the test set are also included in the sales set,\n",
        "# otherwise it will be inaccurate to do predictions on shops and products that we don't have historical data\n",
        "\n",
        "shop_id_intersection = list(set(sales['shop_id']).intersection(set(test['shop_id'])))\n",
        "item_id_intersection  = list(set(sales['item_id']).intersection(set(test['item_id'])))\n",
        "# checking that all shop_id in test exist in sales\n",
        "print('intersection between sales and test for shop_id: ',len(shop_id_intersection))\n",
        "print('number of shop_id in test: ',test['shop_id'].nunique())\n",
        "\n",
        "# checking that the item_id in test exist in sales\n",
        "print('intersection between sales and test for item ',len(item_id_intersection))\n",
        "print('number of item_id in test: ',test['item_id'].nunique())"
      ],
      "execution_count": 38,
      "outputs": [
        {
          "output_type": "stream",
          "text": [
            "intersection between sales and test for shop_id:  42\n",
            "number of shop_id in test:  42\n",
            "intersection between sales and test for item  4737\n",
            "number of item_id in test:  5099\n"
          ],
          "name": "stdout"
        }
      ]
    },
    {
      "cell_type": "markdown",
      "metadata": {
        "id": "L6Iz5oUHUJX4"
      },
      "source": [
        "all the shops in test data are included in sales but some items in test data that are not in sales dataframe."
      ]
    },
    {
      "cell_type": "code",
      "metadata": {
        "collapsed": true,
        "id": "0Vw00DZYUJX5"
      },
      "source": [
        "# let's store the id of the items that are in test set and not in sales\n",
        "item_id_diff = np.setdiff1d(list(test['item_id']),item_id_intersection)"
      ],
      "execution_count": 39,
      "outputs": []
    },
    {
      "cell_type": "markdown",
      "metadata": {
        "id": "IphVkf8-cLhE"
      },
      "source": [
        "we will look for the closest item_id in sales using levenshtein distance to replace those in item_id_diff (we assume here that quite similar products name have quite the same behaviour in term of sales)"
      ]
    },
    {
      "cell_type": "code",
      "metadata": {
        "colab": {
          "base_uri": "https://localhost:8080/"
        },
        "id": "oUPCJGyJixjq",
        "outputId": "49379bb1-a999-48ff-c31e-541d5f120053"
      },
      "source": [
        "# installing jellyfish package to compute levenshtein distance\n",
        "!pip install jellyfish"
      ],
      "execution_count": 40,
      "outputs": [
        {
          "output_type": "stream",
          "text": [
            "Requirement already satisfied: jellyfish in /usr/local/lib/python3.7/dist-packages (0.8.2)\n"
          ],
          "name": "stdout"
        }
      ]
    },
    {
      "cell_type": "code",
      "metadata": {
        "colab": {
          "base_uri": "https://localhost:8080/",
          "height": 117,
          "referenced_widgets": [
            "ba91a4d796124a57a3730e43bd9ddb55",
            "4f37a5ff0d044460bad0e330ac33c23b",
            "bb1f08849d004d7db30f36a59e144005",
            "ec5df8b5da7845f7b7584b3f18e1aa80",
            "85fd12009b1b4845aa2594b6f653e8b4",
            "27827bde47b04b7e8046f99134714a7a",
            "a445bfa719564b6e9eaf85e5552b595b",
            "6aa6299e9428415eba6a1e17e9303e6a"
          ]
        },
        "id": "hwAUWWcv6MJy",
        "outputId": "2b34195b-38e8-43cf-e360-ace30af0df95"
      },
      "source": [
        "#test\n",
        "sales_item_id = sales['item_id'].unique()\n",
        "item_min_distance = []\n",
        "for item_id_1 in tqdm_notebook(item_id_diff):\n",
        "  table = []\n",
        "  index = items[items['item_id']==item_id_1].index[0]\n",
        "  # comparing item_id_1 name to 20 ones before and 20 ones after\n",
        "  for item_id_2 in items.loc[index-20:index+20,'item_id']:\n",
        "    if item_id_2 != item_id_1:\n",
        "      if item_id_2 in sales_item_id:\n",
        "        dist = jellyfish.levenshtein_distance(items[items['item_id']==item_id_1]['item_name'].values[0], items[items['item_id']==item_id_2]['item_name'].values[0])\n",
        "        table.append([item_id_1, item_id_2, dist])\n",
        "      else:\n",
        "        pass\n",
        "    else:\n",
        "      pass\n",
        "  table = pd.DataFrame(np.vstack(table), columns = ['item_id_1','item_id_2','distance'])\n",
        "  item_min_distance.append(table.loc[table.distance==table.distance.min(),:].values[0].tolist())\n",
        "item_min_distance = pd.DataFrame(item_min_distance, columns = ['item_id_1','item_id_2','distance'])"
      ],
      "execution_count": 41,
      "outputs": [
        {
          "output_type": "stream",
          "text": [
            "/usr/local/lib/python3.7/dist-packages/ipykernel_launcher.py:4: TqdmDeprecationWarning: This function will be removed in tqdm==5.0.0\n",
            "Please use `tqdm.notebook.tqdm` instead of `tqdm.tqdm_notebook`\n",
            "  after removing the cwd from sys.path.\n"
          ],
          "name": "stderr"
        },
        {
          "output_type": "display_data",
          "data": {
            "application/vnd.jupyter.widget-view+json": {
              "model_id": "ba91a4d796124a57a3730e43bd9ddb55",
              "version_minor": 0,
              "version_major": 2
            },
            "text/plain": [
              "HBox(children=(FloatProgress(value=0.0, max=362.0), HTML(value='')))"
            ]
          },
          "metadata": {
            "tags": []
          }
        },
        {
          "output_type": "stream",
          "text": [
            "\n"
          ],
          "name": "stdout"
        }
      ]
    },
    {
      "cell_type": "code",
      "metadata": {
        "colab": {
          "base_uri": "https://localhost:8080/",
          "height": 204
        },
        "id": "_EWmuAqEbYjd",
        "outputId": "38c2dd9b-a11b-48f4-e4d9-10b12b4dfd70"
      },
      "source": [
        "item_min_distance.head()"
      ],
      "execution_count": 42,
      "outputs": [
        {
          "output_type": "execute_result",
          "data": {
            "text/html": [
              "<div>\n",
              "<style scoped>\n",
              "    .dataframe tbody tr th:only-of-type {\n",
              "        vertical-align: middle;\n",
              "    }\n",
              "\n",
              "    .dataframe tbody tr th {\n",
              "        vertical-align: top;\n",
              "    }\n",
              "\n",
              "    .dataframe thead th {\n",
              "        text-align: right;\n",
              "    }\n",
              "</style>\n",
              "<table border=\"1\" class=\"dataframe\">\n",
              "  <thead>\n",
              "    <tr style=\"text-align: right;\">\n",
              "      <th></th>\n",
              "      <th>item_id_1</th>\n",
              "      <th>item_id_2</th>\n",
              "      <th>distance</th>\n",
              "    </tr>\n",
              "  </thead>\n",
              "  <tbody>\n",
              "    <tr>\n",
              "      <th>0</th>\n",
              "      <td>83</td>\n",
              "      <td>82</td>\n",
              "      <td>11</td>\n",
              "    </tr>\n",
              "    <tr>\n",
              "      <th>1</th>\n",
              "      <td>140</td>\n",
              "      <td>141</td>\n",
              "      <td>21</td>\n",
              "    </tr>\n",
              "    <tr>\n",
              "      <th>2</th>\n",
              "      <td>168</td>\n",
              "      <td>169</td>\n",
              "      <td>2</td>\n",
              "    </tr>\n",
              "    <tr>\n",
              "      <th>3</th>\n",
              "      <td>173</td>\n",
              "      <td>153</td>\n",
              "      <td>43</td>\n",
              "    </tr>\n",
              "    <tr>\n",
              "      <th>4</th>\n",
              "      <td>204</td>\n",
              "      <td>208</td>\n",
              "      <td>16</td>\n",
              "    </tr>\n",
              "  </tbody>\n",
              "</table>\n",
              "</div>"
            ],
            "text/plain": [
              "   item_id_1  item_id_2  distance\n",
              "0         83         82        11\n",
              "1        140        141        21\n",
              "2        168        169         2\n",
              "3        173        153        43\n",
              "4        204        208        16"
            ]
          },
          "metadata": {
            "tags": []
          },
          "execution_count": 42
        }
      ]
    },
    {
      "cell_type": "code",
      "metadata": {
        "id": "7UDZ3AcxV-fc"
      },
      "source": [
        "# we can now replace the item_id in test that are not in sales with the closest ones we found previously\n",
        "# first let's create a dictionnary with keys equal to item_1 and values equal to item_2\n",
        "items_dict = pd.Series(item_min_distance['item_id_2'].values,item_min_distance['item_id_1'].values).to_dict()"
      ],
      "execution_count": 43,
      "outputs": []
    },
    {
      "cell_type": "code",
      "metadata": {
        "id": "yz5C8YUxW9Re"
      },
      "source": [
        "# now we can replace the item_id in test set\n",
        "test['item_id'] = test['item_id'].replace(items_dict)"
      ],
      "execution_count": 44,
      "outputs": []
    },
    {
      "cell_type": "code",
      "metadata": {
        "colab": {
          "base_uri": "https://localhost:8080/"
        },
        "id": "KB2EPr6RzLDk",
        "outputId": "a382a373-3978-4145-d7bd-cf2644b6c60a"
      },
      "source": [
        "del items_dict\n",
        "gc.collect()"
      ],
      "execution_count": 45,
      "outputs": [
        {
          "output_type": "execute_result",
          "data": {
            "text/plain": [
              "14006"
            ]
          },
          "metadata": {
            "tags": []
          },
          "execution_count": 45
        }
      ]
    },
    {
      "cell_type": "code",
      "metadata": {
        "colab": {
          "base_uri": "https://localhost:8080/"
        },
        "id": "6CBCbQxzXQbK",
        "outputId": "795f7062-e124-48ff-f97c-4dc3edc5528f"
      },
      "source": [
        "# checking that everything has been done correctly\n",
        "item_id_intersection  = list(set(sales['item_id']).intersection(set(test['item_id'])))\n",
        "\n",
        "# checking that the item_id in test exist in sales\n",
        "print('intersection between sales and test for item ',len(item_id_intersection))\n",
        "print('number of item_id in test: ',test['item_id'].nunique())"
      ],
      "execution_count": 46,
      "outputs": [
        {
          "output_type": "stream",
          "text": [
            "intersection between sales and test for item  4935\n",
            "number of item_id in test:  4935\n"
          ],
          "name": "stdout"
        }
      ]
    },
    {
      "cell_type": "markdown",
      "metadata": {
        "id": "2DwxHyfgdD7Y"
      },
      "source": [
        "good ! all item_id in test set are included in sales set"
      ]
    },
    {
      "cell_type": "code",
      "metadata": {
        "collapsed": true,
        "id": "8Az3DC81UJX2"
      },
      "source": [
        "# for the test set we need to create a column date_block_num with value equal to 34\n",
        "# (objective is to predict sales for the 34th month)\n",
        "test['date_block_num']=34"
      ],
      "execution_count": 47,
      "outputs": []
    },
    {
      "cell_type": "markdown",
      "metadata": {
        "id": "wwsdAHlNVQkb"
      },
      "source": [
        "we also need to store the test set ID column and then drop it because we don't have a similar column in sales and we will need it to build our submission dataframe"
      ]
    },
    {
      "cell_type": "code",
      "metadata": {
        "id": "uUfSnxxEVOGB"
      },
      "source": [
        "# storing the IDs\n",
        "test_ID = test['ID']"
      ],
      "execution_count": 48,
      "outputs": []
    },
    {
      "cell_type": "code",
      "metadata": {
        "id": "qSCU3RFfVh4M"
      },
      "source": [
        "# dropping the ID column\n",
        "test.drop('ID',axis=1,inplace=True)"
      ],
      "execution_count": 49,
      "outputs": []
    },
    {
      "cell_type": "markdown",
      "metadata": {
        "id": "ppLrSbwjUJX5"
      },
      "source": [
        "# Get a feature matrix"
      ]
    },
    {
      "cell_type": "markdown",
      "metadata": {
        "id": "tN55JFDlUJX5"
      },
      "source": [
        "Since the competition task is to make a monthly prediction, we need to aggregate the data to montly level before doing any encodings. The following code-cell serves just that purpose"
      ]
    },
    {
      "cell_type": "code",
      "metadata": {
        "id": "HAqrfrMtUJX6"
      },
      "source": [
        "# Create \"grid\" with columns\n",
        "index_cols = ['shop_id', 'item_id', 'date_block_num']\n",
        "\n",
        "# For every month we create a grid from all shops/items combinations from that month\n",
        "grid = [] \n",
        "for block_num in sales['date_block_num'].unique():\n",
        "    cur_shops = sales.loc[sales['date_block_num'] == block_num, 'shop_id'].unique()\n",
        "    cur_items = sales.loc[sales['date_block_num'] == block_num, 'item_id'].unique()\n",
        "    grid.append(np.array(list(product(*[cur_shops, cur_items, [block_num]])),dtype='int32'))\n",
        "\n",
        "# Turn the grid into a dataframe\n",
        "grid = pd.DataFrame(np.vstack(grid), columns = index_cols,dtype=np.int32)\n",
        "\n",
        "# Groupby data to get shop-item-month aggregates\n",
        "gb = sales.groupby(index_cols, as_index = False).agg(target=pd.NamedAgg(column='item_cnt_day',aggfunc='sum'))\n",
        "# Join it to the grid\n",
        "all_data = pd.merge(grid, gb, how='left', on=index_cols).fillna(0)\n",
        "\n",
        "# Same as above but with shop-month aggregates\n",
        "gb = sales.groupby(['shop_id', 'date_block_num'], as_index = False).agg(target_shop=pd.NamedAgg(column='item_cnt_day',aggfunc='sum'))\n",
        "# Join it to the grid\n",
        "all_data = pd.merge(all_data, gb, how='left', on=['shop_id', 'date_block_num']).fillna(0)\n",
        "\n",
        "# Same as above but with item-month aggregates\n",
        "gb = sales.groupby(['item_id', 'date_block_num'], as_index = False).agg(target_item=pd.NamedAgg(column='item_cnt_day',aggfunc='sum'))\n",
        "# Join it to the grid\n",
        "all_data = pd.merge(all_data, gb, how='left', on=['item_id', 'date_block_num']).fillna(0)\n",
        "\n",
        "# Category for each item for sales and test datasets\n",
        "item_category_mapping = items[['item_id','item_category_id']]\n",
        "# Join it to the grid for all_data\n",
        "all_data = pd.merge(all_data, item_category_mapping, how='left', on='item_id')\n",
        "# Join it to the grid for test\n",
        "test = pd.merge(test, item_category_mapping, how='left', on='item_id')\n",
        "\n",
        "# use the downcast function to save memory\n",
        "all_data = downcast_dtypes(all_data)\n",
        "\n",
        "del sales, grid, gb \n",
        "gc.collect();"
      ],
      "execution_count": 50,
      "outputs": []
    },
    {
      "cell_type": "code",
      "metadata": {
        "colab": {
          "base_uri": "https://localhost:8080/",
          "height": 221
        },
        "id": "NeG5y-nzUJX6",
        "outputId": "52e7ced0-fc83-4e11-d66c-b10bec4dc6b6"
      },
      "source": [
        "print('all_data shape: ', all_data.shape)\n",
        "all_data.head()"
      ],
      "execution_count": 51,
      "outputs": [
        {
          "output_type": "stream",
          "text": [
            "all_data shape:  (10895954, 7)\n"
          ],
          "name": "stdout"
        },
        {
          "output_type": "execute_result",
          "data": {
            "text/html": [
              "<div>\n",
              "<style scoped>\n",
              "    .dataframe tbody tr th:only-of-type {\n",
              "        vertical-align: middle;\n",
              "    }\n",
              "\n",
              "    .dataframe tbody tr th {\n",
              "        vertical-align: top;\n",
              "    }\n",
              "\n",
              "    .dataframe thead th {\n",
              "        text-align: right;\n",
              "    }\n",
              "</style>\n",
              "<table border=\"1\" class=\"dataframe\">\n",
              "  <thead>\n",
              "    <tr style=\"text-align: right;\">\n",
              "      <th></th>\n",
              "      <th>shop_id</th>\n",
              "      <th>item_id</th>\n",
              "      <th>date_block_num</th>\n",
              "      <th>target</th>\n",
              "      <th>target_shop</th>\n",
              "      <th>target_item</th>\n",
              "      <th>item_category_id</th>\n",
              "    </tr>\n",
              "  </thead>\n",
              "  <tbody>\n",
              "    <tr>\n",
              "      <th>0</th>\n",
              "      <td>59</td>\n",
              "      <td>22154</td>\n",
              "      <td>0</td>\n",
              "      <td>1.0</td>\n",
              "      <td>2017.0</td>\n",
              "      <td>18.0</td>\n",
              "      <td>37</td>\n",
              "    </tr>\n",
              "    <tr>\n",
              "      <th>1</th>\n",
              "      <td>59</td>\n",
              "      <td>2552</td>\n",
              "      <td>0</td>\n",
              "      <td>0.0</td>\n",
              "      <td>2017.0</td>\n",
              "      <td>0.0</td>\n",
              "      <td>58</td>\n",
              "    </tr>\n",
              "    <tr>\n",
              "      <th>2</th>\n",
              "      <td>59</td>\n",
              "      <td>2554</td>\n",
              "      <td>0</td>\n",
              "      <td>0.0</td>\n",
              "      <td>2017.0</td>\n",
              "      <td>1.0</td>\n",
              "      <td>58</td>\n",
              "    </tr>\n",
              "    <tr>\n",
              "      <th>3</th>\n",
              "      <td>59</td>\n",
              "      <td>2555</td>\n",
              "      <td>0</td>\n",
              "      <td>0.0</td>\n",
              "      <td>2017.0</td>\n",
              "      <td>2.0</td>\n",
              "      <td>56</td>\n",
              "    </tr>\n",
              "    <tr>\n",
              "      <th>4</th>\n",
              "      <td>59</td>\n",
              "      <td>2564</td>\n",
              "      <td>0</td>\n",
              "      <td>0.0</td>\n",
              "      <td>2017.0</td>\n",
              "      <td>5.0</td>\n",
              "      <td>59</td>\n",
              "    </tr>\n",
              "  </tbody>\n",
              "</table>\n",
              "</div>"
            ],
            "text/plain": [
              "   shop_id  item_id  date_block_num  target  target_shop  target_item  \\\n",
              "0       59    22154               0     1.0       2017.0         18.0   \n",
              "1       59     2552               0     0.0       2017.0          0.0   \n",
              "2       59     2554               0     0.0       2017.0          1.0   \n",
              "3       59     2555               0     0.0       2017.0          2.0   \n",
              "4       59     2564               0     0.0       2017.0          5.0   \n",
              "\n",
              "   item_category_id  \n",
              "0                37  \n",
              "1                58  \n",
              "2                58  \n",
              "3                56  \n",
              "4                59  "
            ]
          },
          "metadata": {
            "tags": []
          },
          "execution_count": 51
        }
      ]
    },
    {
      "cell_type": "code",
      "metadata": {
        "id": "iEBneE6_XkTh"
      },
      "source": [
        "# now we can concatenate all_data with test set\n",
        "all_data = pd.concat([all_data,test])"
      ],
      "execution_count": 52,
      "outputs": []
    },
    {
      "cell_type": "code",
      "metadata": {
        "colab": {
          "base_uri": "https://localhost:8080/"
        },
        "id": "Wi20vHJ5oKvv",
        "outputId": "ef1c9d7a-3c7b-4906-fb84-119e1d3c01d3"
      },
      "source": [
        "# checking missing values\n",
        "all_data[all_data['date_block_num']==34].isna().sum()"
      ],
      "execution_count": 53,
      "outputs": [
        {
          "output_type": "execute_result",
          "data": {
            "text/plain": [
              "shop_id                  0\n",
              "item_id                  0\n",
              "date_block_num           0\n",
              "target              214200\n",
              "target_shop         214200\n",
              "target_item         214200\n",
              "item_category_id         0\n",
              "dtype: int64"
            ]
          },
          "metadata": {
            "tags": []
          },
          "execution_count": 53
        }
      ]
    },
    {
      "cell_type": "code",
      "metadata": {
        "id": "XFbyMIPxdHMR"
      },
      "source": [
        "# filling the missing values with 0\n",
        "all_data.fillna(0,inplace=True)"
      ],
      "execution_count": 54,
      "outputs": []
    },
    {
      "cell_type": "markdown",
      "metadata": {
        "id": "sn4Qu76DUJX8"
      },
      "source": [
        "# Feature engineering"
      ]
    },
    {
      "cell_type": "markdown",
      "metadata": {
        "id": "_FzB0rEeEfm8"
      },
      "source": [
        "first, let's create a new feature by concatenating shop_id and item_id. this feature should be valuable because it gives information about selling performances for an item in a specific shop"
      ]
    },
    {
      "cell_type": "code",
      "metadata": {
        "id": "BR_l558VEeyW"
      },
      "source": [
        "all_data['shop_id-item_id'] = all_data['shop_id'].astype(str)+'-'+all_data['item_id'].astype(str)"
      ],
      "execution_count": 55,
      "outputs": []
    },
    {
      "cell_type": "markdown",
      "metadata": {
        "id": "TtMlFDcNUJX8"
      },
      "source": [
        "## Mean encoding"
      ]
    },
    {
      "cell_type": "markdown",
      "metadata": {
        "id": "ZjugAbyQUJX8"
      },
      "source": [
        "now we are going to mean encode the categorical features shop_id, item_id, item_category and shop_id-item_id using KFold "
      ]
    },
    {
      "cell_type": "code",
      "metadata": {
        "collapsed": true,
        "id": "1dk4tB9SUJX9"
      },
      "source": [
        "# categorical features to encode\n",
        "categorical_feat = ['shop_id','item_id','item_category_id','shop_id-item_id']\n",
        "\n",
        "# target columns for encoding the categorical features\n",
        "target_cols = ['target']"
      ],
      "execution_count": 56,
      "outputs": []
    },
    {
      "cell_type": "markdown",
      "metadata": {
        "id": "dHPHXURfUJX9"
      },
      "source": [
        "### KFold scheme"
      ]
    },
    {
      "cell_type": "code",
      "metadata": {
        "collapsed": true,
        "id": "zT_M6GYAUJX9"
      },
      "source": [
        "# first we encode without regularization according to target, target_shop and target_item\n",
        "for targ in target_cols:\n",
        "    # encoding shop_id and item_id categorical features\n",
        "    for cat_feat in categorical_feat:\n",
        "        # Calculate a mapping: {item_id: target_mean}\n",
        "        mean = all_data.groupby(cat_feat)[targ].mean()\n",
        "\n",
        "        # In our non-regularized case we just *map* the computed means to the `item_id`'s\n",
        "        all_data[cat_feat+'_'+targ+'_enc'] = all_data[cat_feat].map(mean)\n",
        "\n",
        "        # Fill NaNs\n",
        "        all_data[cat_feat+'_'+targ+'_enc'].fillna(all_data[targ].mean(), inplace=True)\n",
        "        \n",
        "        all_data[cat_feat+'_'+targ+'_enc'].fillna(all_data[targ].mean(),inplace = True)"
      ],
      "execution_count": 57,
      "outputs": []
    },
    {
      "cell_type": "code",
      "metadata": {
        "colab": {
          "base_uri": "https://localhost:8080/"
        },
        "id": "34yYfNvEUJX9",
        "outputId": "cfac76d3-5d64-4ad8-9bbe-cda19950924a"
      },
      "source": [
        "# then we encode using KFold scheme\n",
        "from sklearn.model_selection import KFold\n",
        "\n",
        "# mean encoding categorical features according to target, target_shop and target_item\n",
        "for targ in target_cols:\n",
        "    # encoding shop_id and item_id categorical features\n",
        "    for cat_feat in categorical_feat:\n",
        "        y_train = all_data[targ].values # target variable\n",
        "        skf = KFold(5,shuffle = False)\n",
        "\n",
        "        for tr_ind , val_ind in skf.split(all_data):\n",
        "            x_tr , x_val = all_data.iloc[tr_ind] , all_data.iloc[val_ind]\n",
        "\n",
        "            means = x_val[cat_feat].map(x_tr.groupby(cat_feat)[targ].mean())\n",
        "            x_val[cat_feat+'_'+targ+'_enc'] = means\n",
        "            all_data.iloc[val_ind] = x_val\n",
        "            \n",
        "            del x_tr , x_val , means\n",
        "            gc.collect();\n",
        "\n",
        "        all_data[cat_feat+'_'+targ+'_enc'].fillna(all_data[targ].mean(),inplace = True)\n",
        "        \n",
        "        encoded_feature = all_data[cat_feat+'_'+targ+'_enc'].values\n",
        "        corr = np.corrcoef(all_data[targ].values, encoded_feature)[0][1]\n",
        "        print(f'correlation between {cat_feat+\"_\"+targ+\"_enc\"} and {targ}: ', corr)\n",
        "        \n",
        "del y_train , encoded_feature, corr \n",
        "gc.collect();"
      ],
      "execution_count": 58,
      "outputs": [
        {
          "output_type": "stream",
          "text": [
            "/usr/local/lib/python3.7/dist-packages/ipykernel_launcher.py:15: SettingWithCopyWarning: \n",
            "A value is trying to be set on a copy of a slice from a DataFrame.\n",
            "Try using .loc[row_indexer,col_indexer] = value instead\n",
            "\n",
            "See the caveats in the documentation: https://pandas.pydata.org/pandas-docs/stable/user_guide/indexing.html#returning-a-view-versus-a-copy\n",
            "  from ipykernel import kernelapp as app\n"
          ],
          "name": "stderr"
        },
        {
          "output_type": "stream",
          "text": [
            "correlation between shop_id_target_enc and target:  0.07074898945441549\n",
            "correlation between item_id_target_enc and target:  0.41651160872155435\n",
            "correlation between item_category_id_target_enc and target:  0.34493797694580214\n",
            "correlation between shop_id-item_id_target_enc and target:  0.5930963664392332\n"
          ],
          "name": "stdout"
        }
      ]
    },
    {
      "cell_type": "markdown",
      "metadata": {
        "id": "sNtJRVSwUJX_"
      },
      "source": [
        "### expanding mean scheme"
      ]
    },
    {
      "cell_type": "code",
      "metadata": {
        "id": "tZWbmF48UJYA",
        "colab": {
          "base_uri": "https://localhost:8080/"
        },
        "outputId": "31ab17ce-7775-4b2a-b2c2-68c6c2795c8c"
      },
      "source": [
        "# encoding according to target, target_shop and target_item\n",
        "for targ in target_cols:\n",
        "    for cat_feat in categorical_feat:\n",
        "        cumsum = all_data.groupby(cat_feat)[targ].cumsum()-all_data[targ]\n",
        "        cumcnt = all_data.groupby(cat_feat)[targ].cumcount()\n",
        "\n",
        "        all_data[cat_feat+'_'+targ+'_exp_mean_enc'] = cumsum/cumcnt\n",
        "        all_data[cat_feat+'_'+targ+'_exp_mean_enc'].fillna(all_data[targ].mean(), inplace=True)\n",
        "        \n",
        "        encoded_feature = all_data[cat_feat+'_'+targ+'_exp_mean_enc'].values\n",
        "        corr = np.corrcoef(all_data[targ].values, encoded_feature)[0][1]\n",
        "        print(f'correlation between {cat_feat+\"_\"+targ+\"_exp_mean_enc\"} and {targ}: ',corr)\n",
        "        \n",
        "del cumsum , cumcnt , encoded_feature, corr \n",
        "gc.collect();"
      ],
      "execution_count": 62,
      "outputs": [
        {
          "output_type": "stream",
          "text": [
            "correlation between shop_id_target_exp_mean_enc and target:  0.07385655814653491\n",
            "correlation between item_id_target_exp_mean_enc and target:  0.5097514852004934\n",
            "correlation between item_category_id_target_exp_mean_enc and target:  0.39172173174548036\n",
            "correlation between shop_id-item_id_target_exp_mean_enc and target:  0.586423559996283\n"
          ],
          "name": "stdout"
        }
      ]
    },
    {
      "cell_type": "markdown",
      "metadata": {
        "id": "ODbZDiVJUJYA"
      },
      "source": [
        "## Feature engineering"
      ]
    },
    {
      "cell_type": "markdown",
      "metadata": {
        "id": "icUoJxwaUJYB"
      },
      "source": [
        "After creating a grid, we can calculate some features. We will use lags from [1, 2, 3, 4, 5, 12] months ago."
      ]
    },
    {
      "cell_type": "code",
      "metadata": {
        "colab": {
          "base_uri": "https://localhost:8080/",
          "height": 117,
          "referenced_widgets": [
            "314d1929f40345e8aaa47a97fcb7d8df",
            "9b50aa2d0baa4a4ca8c9664cdb3ef6d1",
            "e54940e0154f45ca832ecfde3684aa3d",
            "49b5fe9aa02a4cf09299fbc0ff871fc1",
            "83f00ccec9784c4987e5b8249bbc51d3",
            "fce708deff3546bc9bf8bb38dee7a85f",
            "dd9ecb0b546041d38b29ed249540b718",
            "5d1bda37a26644e2afcde5b8a2470e91"
          ]
        },
        "id": "XvyaPTZmUJYB",
        "outputId": "7ca8e301-a5c1-40cc-e652-ed1dcba3dcf8"
      },
      "source": [
        "index_cols_2 = ['shop_id', 'item_id', 'item_category_id' , 'date_block_num']\n",
        "# we are going to create lags on the following columns : target, target_item, target_shop (target_cols list)\n",
        "# let's set different months shift ranges we want to introduce \n",
        "shift_range = [1, 2, 3, 4, 5, 12]\n",
        "\n",
        "for month_shift in tqdm_notebook(shift_range):\n",
        "    train_shift = all_data[index_cols_2 + target_cols].copy()\n",
        "    \n",
        "    train_shift['date_block_num'] = train_shift['date_block_num'] + month_shift\n",
        "    \n",
        "    foo = lambda x: '{}_lag_{}'.format(x, month_shift) if x in target_cols else x\n",
        "    train_shift = train_shift.rename(columns=foo)\n",
        "\n",
        "    all_data = pd.merge(all_data, train_shift, on=index_cols_2, how='left').fillna(0)\n",
        "\n",
        "del train_shift\n",
        "   \n",
        "\n",
        "# Don't use old data from year 2013\n",
        "all_data = all_data[all_data['date_block_num'] >= 12] \n",
        "\n",
        "# List of all lagged features\n",
        "#fit_cols = [col for col in all_data.columns if col[-1] in [str(item) for item in shift_range]] \n",
        "# We will drop these at fitting stage\n",
        "#to_drop_cols = list(set(list(all_data.columns)) - (set(fit_cols)|set(index_cols))) + ['date_block_num'] \n",
        "\n",
        "gc.collect();"
      ],
      "execution_count": 63,
      "outputs": [
        {
          "output_type": "stream",
          "text": [
            "/usr/local/lib/python3.7/dist-packages/ipykernel_launcher.py:6: TqdmDeprecationWarning: This function will be removed in tqdm==5.0.0\n",
            "Please use `tqdm.notebook.tqdm` instead of `tqdm.tqdm_notebook`\n",
            "  \n"
          ],
          "name": "stderr"
        },
        {
          "output_type": "display_data",
          "data": {
            "application/vnd.jupyter.widget-view+json": {
              "model_id": "314d1929f40345e8aaa47a97fcb7d8df",
              "version_minor": 0,
              "version_major": 2
            },
            "text/plain": [
              "HBox(children=(FloatProgress(value=0.0, max=6.0), HTML(value='')))"
            ]
          },
          "metadata": {
            "tags": []
          }
        },
        {
          "output_type": "stream",
          "text": [
            "\n"
          ],
          "name": "stdout"
        }
      ]
    },
    {
      "cell_type": "markdown",
      "metadata": {
        "id": "nnKD8v0wrxLj"
      },
      "source": [
        "One Hot Encoding categorical features with low cardinality\n",
        "- shop_city\n",
        "- shop category\n"
      ]
    },
    {
      "cell_type": "code",
      "metadata": {
        "id": "X3EYKYNQqkZx"
      },
      "source": [
        "shops_OH = pd.get_dummies(shops,columns = ['shop_city','shop_category'],drop_first=True)"
      ],
      "execution_count": 64,
      "outputs": []
    },
    {
      "cell_type": "code",
      "metadata": {
        "id": "9eifGsuOuqcq"
      },
      "source": [
        "# merging the one hot encoded features with all_data\n",
        "all_data = pd.merge(all_data,shops_OH, how='left' , on='shop_id').drop('shop_name',axis=1)"
      ],
      "execution_count": 65,
      "outputs": []
    },
    {
      "cell_type": "markdown",
      "metadata": {
        "id": "BZqel5I8UJYC"
      },
      "source": [
        "## feature extraction"
      ]
    },
    {
      "cell_type": "markdown",
      "metadata": {
        "id": "YfjRWlIFUJYC"
      },
      "source": [
        "now that we have created lagged features from target, target_shop and target_item we can vectorize text from item name, category name and shop name that can be very valuable for our purpose"
      ]
    },
    {
      "cell_type": "code",
      "metadata": {
        "colab": {
          "base_uri": "https://localhost:8080/"
        },
        "id": "HkT_hG77UJYC",
        "outputId": "f4cf64e8-5c6e-4470-b219-4aa96ed2b5b3"
      },
      "source": [
        "# Installing nltk package in the current Jupyter kernel\n",
        "import sys\n",
        "!{sys.executable} -m pip install nltk"
      ],
      "execution_count": 66,
      "outputs": [
        {
          "output_type": "stream",
          "text": [
            "Requirement already satisfied: nltk in /usr/local/lib/python3.7/dist-packages (3.2.5)\n",
            "Requirement already satisfied: six in /usr/local/lib/python3.7/dist-packages (from nltk) (1.15.0)\n"
          ],
          "name": "stdout"
        }
      ]
    },
    {
      "cell_type": "code",
      "metadata": {
        "colab": {
          "base_uri": "https://localhost:8080/"
        },
        "id": "7xAiY-a1xqZj",
        "outputId": "def70657-dc84-4921-9260-7ad05dc744f9"
      },
      "source": [
        "# installing pymystem3 v3.0 (had some troubles with latest version, please take a look at https://github.com/nlpub/pymystem3/issues/28)\n",
        "!wget http://download.cdn.yandex.net/mystem/mystem-3.0-linux3.1-64bit.tar.gz\n",
        "!tar -xvf mystem-3.0-linux3.1-64bit.tar.gz\n",
        "!cp mystem /bin"
      ],
      "execution_count": 67,
      "outputs": [
        {
          "output_type": "stream",
          "text": [
            "--2021-08-02 18:02:18--  http://download.cdn.yandex.net/mystem/mystem-3.0-linux3.1-64bit.tar.gz\n",
            "Resolving download.cdn.yandex.net (download.cdn.yandex.net)... 5.45.205.241, 5.45.205.242, 5.45.205.244, ...\n",
            "Connecting to download.cdn.yandex.net (download.cdn.yandex.net)|5.45.205.241|:80... connected.\n",
            "HTTP request sent, awaiting response... 302 Found\n",
            "Location: http://cache-mskm910.cdn.yandex.net/download.cdn.yandex.net/mystem/mystem-3.0-linux3.1-64bit.tar.gz [following]\n",
            "--2021-08-02 18:02:19--  http://cache-mskm910.cdn.yandex.net/download.cdn.yandex.net/mystem/mystem-3.0-linux3.1-64bit.tar.gz\n",
            "Resolving cache-mskm910.cdn.yandex.net (cache-mskm910.cdn.yandex.net)... 5.45.220.20, 2a02:6b8:0:2002::1b\n",
            "Connecting to cache-mskm910.cdn.yandex.net (cache-mskm910.cdn.yandex.net)|5.45.220.20|:80... connected.\n",
            "HTTP request sent, awaiting response... 200 OK\n",
            "Length: 16457938 (16M) [application/octet-stream]\n",
            "Saving to: ‘mystem-3.0-linux3.1-64bit.tar.gz.1’\n",
            "\n",
            "mystem-3.0-linux3.1 100%[===================>]  15.70M  7.11MB/s    in 2.2s    \n",
            "\n",
            "2021-08-02 18:02:22 (7.11 MB/s) - ‘mystem-3.0-linux3.1-64bit.tar.gz.1’ saved [16457938/16457938]\n",
            "\n",
            "mystem\n"
          ],
          "name": "stdout"
        }
      ]
    },
    {
      "cell_type": "code",
      "metadata": {
        "id": "WCpU2objzJNu",
        "colab": {
          "base_uri": "https://localhost:8080/"
        },
        "outputId": "f025d51f-1dfa-457d-a504-a2936c08ce46"
      },
      "source": [
        "import nltk\n",
        "from pymystem3 import Mystem\n",
        "from nltk.corpus import stopwords \n",
        "nltk.download('stopwords')\n",
        "\n",
        "\n",
        "mystem = Mystem() \n",
        "russian_stopwords = stopwords.words(\"russian\")\n",
        "from string import punctuation\n",
        "\n",
        "#Preprocess function\n",
        "def my_tokenizer(text):\n",
        "    tokens = mystem.lemmatize(text.lower())\n",
        "    tokens = [token for token in tokens if token not in russian_stopwords\\\n",
        "              and token != \" \" \\\n",
        "              and token.strip() not in punctuation]\n",
        "    \n",
        "    return tokens"
      ],
      "execution_count": 68,
      "outputs": [
        {
          "output_type": "stream",
          "text": [
            "[nltk_data] Downloading package stopwords to /root/nltk_data...\n",
            "[nltk_data]   Package stopwords is already up-to-date!\n"
          ],
          "name": "stdout"
        }
      ]
    },
    {
      "cell_type": "code",
      "metadata": {
        "collapsed": true,
        "id": "U8Hb8BbkUJYD"
      },
      "source": [
        "vectorizer = TfidfVectorizer(max_features = 10 , tokenizer=my_tokenizer)"
      ],
      "execution_count": 69,
      "outputs": []
    },
    {
      "cell_type": "code",
      "metadata": {
        "collapsed": true,
        "id": "z_ma4dZnUJYD"
      },
      "source": [
        "#####tokenizing item_name#####\n",
        "X = vectorizer.fit_transform(items['item_name'])\n",
        "# transforming X to a DataFrame\n",
        "X_df = pd.DataFrame(X.toarray())\n",
        "X_df['item_id']=items['item_id']\n",
        "# now we can merge X_df and all_data on item_id\n",
        "all_data = pd.merge(all_data,X_df,on='item_id',how='left')\n",
        "all_data = downcast_dtypes(all_data)\n",
        "\n",
        "del X,X_df\n",
        "gc.collect();"
      ],
      "execution_count": 70,
      "outputs": []
    },
    {
      "cell_type": "code",
      "metadata": {
        "collapsed": true,
        "id": "nH0V7DLwUJYE",
        "colab": {
          "base_uri": "https://localhost:8080/",
          "height": 287
        },
        "outputId": "629f3d74-525b-45dc-d9df-d5379a51cee7"
      },
      "source": [
        "all_data = downcast_dtypes(all_data)\n",
        "print('data shape: ',all_data.shape)\n",
        "all_data.head()"
      ],
      "execution_count": 71,
      "outputs": [
        {
          "output_type": "stream",
          "text": [
            "data shape:  (6623998, 63)\n"
          ],
          "name": "stdout"
        },
        {
          "output_type": "execute_result",
          "data": {
            "text/html": [
              "<div>\n",
              "<style scoped>\n",
              "    .dataframe tbody tr th:only-of-type {\n",
              "        vertical-align: middle;\n",
              "    }\n",
              "\n",
              "    .dataframe tbody tr th {\n",
              "        vertical-align: top;\n",
              "    }\n",
              "\n",
              "    .dataframe thead th {\n",
              "        text-align: right;\n",
              "    }\n",
              "</style>\n",
              "<table border=\"1\" class=\"dataframe\">\n",
              "  <thead>\n",
              "    <tr style=\"text-align: right;\">\n",
              "      <th></th>\n",
              "      <th>shop_id</th>\n",
              "      <th>item_id</th>\n",
              "      <th>date_block_num</th>\n",
              "      <th>target</th>\n",
              "      <th>target_shop</th>\n",
              "      <th>target_item</th>\n",
              "      <th>item_category_id</th>\n",
              "      <th>shop_id-item_id</th>\n",
              "      <th>shop_id_target_enc</th>\n",
              "      <th>item_id_target_enc</th>\n",
              "      <th>item_category_id_target_enc</th>\n",
              "      <th>shop_id-item_id_target_enc</th>\n",
              "      <th>shop_id_target_exp_mean_enc</th>\n",
              "      <th>item_id_target_exp_mean_enc</th>\n",
              "      <th>item_category_id_target_exp_mean_enc</th>\n",
              "      <th>shop_id-item_id_target_exp_mean_enc</th>\n",
              "      <th>target_lag_1</th>\n",
              "      <th>target_lag_2</th>\n",
              "      <th>target_lag_3</th>\n",
              "      <th>target_lag_4</th>\n",
              "      <th>target_lag_5</th>\n",
              "      <th>target_lag_12</th>\n",
              "      <th>shop_city_адыгея</th>\n",
              "      <th>shop_city_балашиха</th>\n",
              "      <th>shop_city_волжский</th>\n",
              "      <th>...</th>\n",
              "      <th>shop_city_ростовнадону</th>\n",
              "      <th>shop_city_самара</th>\n",
              "      <th>shop_city_сергиев</th>\n",
              "      <th>shop_city_спб</th>\n",
              "      <th>shop_city_сургут</th>\n",
              "      <th>shop_city_томск</th>\n",
              "      <th>shop_city_тюмень</th>\n",
              "      <th>shop_city_уфа</th>\n",
              "      <th>shop_city_химки</th>\n",
              "      <th>shop_city_чехов</th>\n",
              "      <th>shop_city_якутск</th>\n",
              "      <th>shop_city_ярославль</th>\n",
              "      <th>shop_category_интернет-магазин</th>\n",
              "      <th>shop_category_тц</th>\n",
              "      <th>shop_category_цифровой</th>\n",
              "      <th>0</th>\n",
              "      <th>1</th>\n",
              "      <th>2</th>\n",
              "      <th>3</th>\n",
              "      <th>4</th>\n",
              "      <th>5</th>\n",
              "      <th>6</th>\n",
              "      <th>7</th>\n",
              "      <th>8</th>\n",
              "      <th>9</th>\n",
              "    </tr>\n",
              "  </thead>\n",
              "  <tbody>\n",
              "    <tr>\n",
              "      <th>0</th>\n",
              "      <td>54</td>\n",
              "      <td>10297</td>\n",
              "      <td>12</td>\n",
              "      <td>4.0</td>\n",
              "      <td>8198.0</td>\n",
              "      <td>23.0</td>\n",
              "      <td>37</td>\n",
              "      <td>54-10297</td>\n",
              "      <td>0.923818</td>\n",
              "      <td>0.101485</td>\n",
              "      <td>0.179418</td>\n",
              "      <td>0.363636</td>\n",
              "      <td>0.978964</td>\n",
              "      <td>0.483516</td>\n",
              "      <td>0.198286</td>\n",
              "      <td>1.500000</td>\n",
              "      <td>3.0</td>\n",
              "      <td>0.0</td>\n",
              "      <td>0.0</td>\n",
              "      <td>0.0</td>\n",
              "      <td>0.0</td>\n",
              "      <td>0.0</td>\n",
              "      <td>0</td>\n",
              "      <td>0</td>\n",
              "      <td>0</td>\n",
              "      <td>...</td>\n",
              "      <td>0</td>\n",
              "      <td>0</td>\n",
              "      <td>0</td>\n",
              "      <td>0</td>\n",
              "      <td>0</td>\n",
              "      <td>0</td>\n",
              "      <td>0</td>\n",
              "      <td>0</td>\n",
              "      <td>1</td>\n",
              "      <td>0</td>\n",
              "      <td>0</td>\n",
              "      <td>0</td>\n",
              "      <td>0</td>\n",
              "      <td>1</td>\n",
              "      <td>0</td>\n",
              "      <td>0.000000</td>\n",
              "      <td>0.00000</td>\n",
              "      <td>0.000000</td>\n",
              "      <td>0.0</td>\n",
              "      <td>0.0</td>\n",
              "      <td>0.0</td>\n",
              "      <td>0.0</td>\n",
              "      <td>1.000000</td>\n",
              "      <td>0.0</td>\n",
              "      <td>0.0</td>\n",
              "    </tr>\n",
              "    <tr>\n",
              "      <th>1</th>\n",
              "      <td>54</td>\n",
              "      <td>10296</td>\n",
              "      <td>12</td>\n",
              "      <td>3.0</td>\n",
              "      <td>8198.0</td>\n",
              "      <td>17.0</td>\n",
              "      <td>38</td>\n",
              "      <td>54-10296</td>\n",
              "      <td>0.923818</td>\n",
              "      <td>0.121069</td>\n",
              "      <td>0.185102</td>\n",
              "      <td>0.400000</td>\n",
              "      <td>0.978995</td>\n",
              "      <td>0.521739</td>\n",
              "      <td>0.210049</td>\n",
              "      <td>0.000000</td>\n",
              "      <td>0.0</td>\n",
              "      <td>0.0</td>\n",
              "      <td>0.0</td>\n",
              "      <td>0.0</td>\n",
              "      <td>0.0</td>\n",
              "      <td>0.0</td>\n",
              "      <td>0</td>\n",
              "      <td>0</td>\n",
              "      <td>0</td>\n",
              "      <td>...</td>\n",
              "      <td>0</td>\n",
              "      <td>0</td>\n",
              "      <td>0</td>\n",
              "      <td>0</td>\n",
              "      <td>0</td>\n",
              "      <td>0</td>\n",
              "      <td>0</td>\n",
              "      <td>0</td>\n",
              "      <td>1</td>\n",
              "      <td>0</td>\n",
              "      <td>0</td>\n",
              "      <td>0</td>\n",
              "      <td>0</td>\n",
              "      <td>1</td>\n",
              "      <td>0</td>\n",
              "      <td>0.000000</td>\n",
              "      <td>0.62163</td>\n",
              "      <td>0.558631</td>\n",
              "      <td>0.0</td>\n",
              "      <td>0.0</td>\n",
              "      <td>0.0</td>\n",
              "      <td>0.0</td>\n",
              "      <td>0.549096</td>\n",
              "      <td>0.0</td>\n",
              "      <td>0.0</td>\n",
              "    </tr>\n",
              "    <tr>\n",
              "      <th>2</th>\n",
              "      <td>54</td>\n",
              "      <td>10298</td>\n",
              "      <td>12</td>\n",
              "      <td>14.0</td>\n",
              "      <td>8198.0</td>\n",
              "      <td>182.0</td>\n",
              "      <td>40</td>\n",
              "      <td>54-10298</td>\n",
              "      <td>0.923818</td>\n",
              "      <td>3.074610</td>\n",
              "      <td>0.255681</td>\n",
              "      <td>14.416667</td>\n",
              "      <td>0.979016</td>\n",
              "      <td>13.299270</td>\n",
              "      <td>0.264266</td>\n",
              "      <td>49.000000</td>\n",
              "      <td>21.0</td>\n",
              "      <td>119.0</td>\n",
              "      <td>7.0</td>\n",
              "      <td>0.0</td>\n",
              "      <td>0.0</td>\n",
              "      <td>0.0</td>\n",
              "      <td>0</td>\n",
              "      <td>0</td>\n",
              "      <td>0</td>\n",
              "      <td>...</td>\n",
              "      <td>0</td>\n",
              "      <td>0</td>\n",
              "      <td>0</td>\n",
              "      <td>0</td>\n",
              "      <td>0</td>\n",
              "      <td>0</td>\n",
              "      <td>0</td>\n",
              "      <td>0</td>\n",
              "      <td>1</td>\n",
              "      <td>0</td>\n",
              "      <td>0</td>\n",
              "      <td>0</td>\n",
              "      <td>0</td>\n",
              "      <td>1</td>\n",
              "      <td>0</td>\n",
              "      <td>0.582887</td>\n",
              "      <td>0.60437</td>\n",
              "      <td>0.543120</td>\n",
              "      <td>0.0</td>\n",
              "      <td>0.0</td>\n",
              "      <td>0.0</td>\n",
              "      <td>0.0</td>\n",
              "      <td>0.000000</td>\n",
              "      <td>0.0</td>\n",
              "      <td>0.0</td>\n",
              "    </tr>\n",
              "    <tr>\n",
              "      <th>3</th>\n",
              "      <td>54</td>\n",
              "      <td>10300</td>\n",
              "      <td>12</td>\n",
              "      <td>3.0</td>\n",
              "      <td>8198.0</td>\n",
              "      <td>26.0</td>\n",
              "      <td>37</td>\n",
              "      <td>54-10300</td>\n",
              "      <td>0.923818</td>\n",
              "      <td>0.675947</td>\n",
              "      <td>0.179418</td>\n",
              "      <td>3.333333</td>\n",
              "      <td>0.979148</td>\n",
              "      <td>3.416058</td>\n",
              "      <td>0.198295</td>\n",
              "      <td>10.666667</td>\n",
              "      <td>1.0</td>\n",
              "      <td>31.0</td>\n",
              "      <td>0.0</td>\n",
              "      <td>0.0</td>\n",
              "      <td>0.0</td>\n",
              "      <td>0.0</td>\n",
              "      <td>0</td>\n",
              "      <td>0</td>\n",
              "      <td>0</td>\n",
              "      <td>...</td>\n",
              "      <td>0</td>\n",
              "      <td>0</td>\n",
              "      <td>0</td>\n",
              "      <td>0</td>\n",
              "      <td>0</td>\n",
              "      <td>0</td>\n",
              "      <td>0</td>\n",
              "      <td>0</td>\n",
              "      <td>1</td>\n",
              "      <td>0</td>\n",
              "      <td>0</td>\n",
              "      <td>0</td>\n",
              "      <td>0</td>\n",
              "      <td>1</td>\n",
              "      <td>0</td>\n",
              "      <td>0.000000</td>\n",
              "      <td>0.00000</td>\n",
              "      <td>0.000000</td>\n",
              "      <td>0.0</td>\n",
              "      <td>0.0</td>\n",
              "      <td>0.0</td>\n",
              "      <td>0.0</td>\n",
              "      <td>1.000000</td>\n",
              "      <td>0.0</td>\n",
              "      <td>0.0</td>\n",
              "    </tr>\n",
              "    <tr>\n",
              "      <th>4</th>\n",
              "      <td>54</td>\n",
              "      <td>10284</td>\n",
              "      <td>12</td>\n",
              "      <td>1.0</td>\n",
              "      <td>8198.0</td>\n",
              "      <td>3.0</td>\n",
              "      <td>57</td>\n",
              "      <td>54-10284</td>\n",
              "      <td>0.923818</td>\n",
              "      <td>0.092166</td>\n",
              "      <td>0.103896</td>\n",
              "      <td>0.333333</td>\n",
              "      <td>0.979168</td>\n",
              "      <td>0.133772</td>\n",
              "      <td>0.121053</td>\n",
              "      <td>0.300000</td>\n",
              "      <td>0.0</td>\n",
              "      <td>0.0</td>\n",
              "      <td>0.0</td>\n",
              "      <td>0.0</td>\n",
              "      <td>0.0</td>\n",
              "      <td>0.0</td>\n",
              "      <td>0</td>\n",
              "      <td>0</td>\n",
              "      <td>0</td>\n",
              "      <td>...</td>\n",
              "      <td>0</td>\n",
              "      <td>0</td>\n",
              "      <td>0</td>\n",
              "      <td>0</td>\n",
              "      <td>0</td>\n",
              "      <td>0</td>\n",
              "      <td>0</td>\n",
              "      <td>0</td>\n",
              "      <td>1</td>\n",
              "      <td>0</td>\n",
              "      <td>0</td>\n",
              "      <td>0</td>\n",
              "      <td>0</td>\n",
              "      <td>1</td>\n",
              "      <td>0</td>\n",
              "      <td>0.000000</td>\n",
              "      <td>0.00000</td>\n",
              "      <td>0.000000</td>\n",
              "      <td>0.0</td>\n",
              "      <td>0.0</td>\n",
              "      <td>0.0</td>\n",
              "      <td>0.0</td>\n",
              "      <td>1.000000</td>\n",
              "      <td>0.0</td>\n",
              "      <td>0.0</td>\n",
              "    </tr>\n",
              "  </tbody>\n",
              "</table>\n",
              "<p>5 rows × 63 columns</p>\n",
              "</div>"
            ],
            "text/plain": [
              "   shop_id  item_id  date_block_num  target  target_shop  target_item  \\\n",
              "0       54    10297              12     4.0       8198.0         23.0   \n",
              "1       54    10296              12     3.0       8198.0         17.0   \n",
              "2       54    10298              12    14.0       8198.0        182.0   \n",
              "3       54    10300              12     3.0       8198.0         26.0   \n",
              "4       54    10284              12     1.0       8198.0          3.0   \n",
              "\n",
              "   item_category_id shop_id-item_id  shop_id_target_enc  item_id_target_enc  \\\n",
              "0                37        54-10297            0.923818            0.101485   \n",
              "1                38        54-10296            0.923818            0.121069   \n",
              "2                40        54-10298            0.923818            3.074610   \n",
              "3                37        54-10300            0.923818            0.675947   \n",
              "4                57        54-10284            0.923818            0.092166   \n",
              "\n",
              "   item_category_id_target_enc  shop_id-item_id_target_enc  \\\n",
              "0                     0.179418                    0.363636   \n",
              "1                     0.185102                    0.400000   \n",
              "2                     0.255681                   14.416667   \n",
              "3                     0.179418                    3.333333   \n",
              "4                     0.103896                    0.333333   \n",
              "\n",
              "   shop_id_target_exp_mean_enc  item_id_target_exp_mean_enc  \\\n",
              "0                     0.978964                     0.483516   \n",
              "1                     0.978995                     0.521739   \n",
              "2                     0.979016                    13.299270   \n",
              "3                     0.979148                     3.416058   \n",
              "4                     0.979168                     0.133772   \n",
              "\n",
              "   item_category_id_target_exp_mean_enc  shop_id-item_id_target_exp_mean_enc  \\\n",
              "0                              0.198286                             1.500000   \n",
              "1                              0.210049                             0.000000   \n",
              "2                              0.264266                            49.000000   \n",
              "3                              0.198295                            10.666667   \n",
              "4                              0.121053                             0.300000   \n",
              "\n",
              "   target_lag_1  target_lag_2  target_lag_3  target_lag_4  target_lag_5  \\\n",
              "0           3.0           0.0           0.0           0.0           0.0   \n",
              "1           0.0           0.0           0.0           0.0           0.0   \n",
              "2          21.0         119.0           7.0           0.0           0.0   \n",
              "3           1.0          31.0           0.0           0.0           0.0   \n",
              "4           0.0           0.0           0.0           0.0           0.0   \n",
              "\n",
              "   target_lag_12  shop_city_адыгея  shop_city_балашиха  shop_city_волжский  \\\n",
              "0            0.0                 0                   0                   0   \n",
              "1            0.0                 0                   0                   0   \n",
              "2            0.0                 0                   0                   0   \n",
              "3            0.0                 0                   0                   0   \n",
              "4            0.0                 0                   0                   0   \n",
              "\n",
              "   ...  shop_city_ростовнадону  shop_city_самара  shop_city_сергиев  \\\n",
              "0  ...                       0                 0                  0   \n",
              "1  ...                       0                 0                  0   \n",
              "2  ...                       0                 0                  0   \n",
              "3  ...                       0                 0                  0   \n",
              "4  ...                       0                 0                  0   \n",
              "\n",
              "   shop_city_спб  shop_city_сургут  shop_city_томск  shop_city_тюмень  \\\n",
              "0              0                 0                0                 0   \n",
              "1              0                 0                0                 0   \n",
              "2              0                 0                0                 0   \n",
              "3              0                 0                0                 0   \n",
              "4              0                 0                0                 0   \n",
              "\n",
              "   shop_city_уфа  shop_city_химки  shop_city_чехов  shop_city_якутск  \\\n",
              "0              0                1                0                 0   \n",
              "1              0                1                0                 0   \n",
              "2              0                1                0                 0   \n",
              "3              0                1                0                 0   \n",
              "4              0                1                0                 0   \n",
              "\n",
              "   shop_city_ярославль  shop_category_интернет-магазин  shop_category_тц  \\\n",
              "0                    0                               0                 1   \n",
              "1                    0                               0                 1   \n",
              "2                    0                               0                 1   \n",
              "3                    0                               0                 1   \n",
              "4                    0                               0                 1   \n",
              "\n",
              "   shop_category_цифровой         0        1         2    3    4    5    6  \\\n",
              "0                       0  0.000000  0.00000  0.000000  0.0  0.0  0.0  0.0   \n",
              "1                       0  0.000000  0.62163  0.558631  0.0  0.0  0.0  0.0   \n",
              "2                       0  0.582887  0.60437  0.543120  0.0  0.0  0.0  0.0   \n",
              "3                       0  0.000000  0.00000  0.000000  0.0  0.0  0.0  0.0   \n",
              "4                       0  0.000000  0.00000  0.000000  0.0  0.0  0.0  0.0   \n",
              "\n",
              "          7    8    9  \n",
              "0  1.000000  0.0  0.0  \n",
              "1  0.549096  0.0  0.0  \n",
              "2  0.000000  0.0  0.0  \n",
              "3  1.000000  0.0  0.0  \n",
              "4  1.000000  0.0  0.0  \n",
              "\n",
              "[5 rows x 63 columns]"
            ]
          },
          "metadata": {
            "tags": []
          },
          "execution_count": 71
        }
      ]
    },
    {
      "cell_type": "markdown",
      "metadata": {
        "id": "pkB8BJTchkch"
      },
      "source": [
        "first we need  to set our train, validation and test sets\n",
        "for train set we take all the recordings corresponding to months 0 to 32\n",
        "for validation set we take all the recordings from month 33\n",
        "and for test set we take all the recordings from month 34"
      ]
    },
    {
      "cell_type": "code",
      "metadata": {
        "colab": {
          "base_uri": "https://localhost:8080/"
        },
        "id": "164qxV_dhtG5",
        "outputId": "a0f48432-c2f2-4aec-fa10-3042d9c33918"
      },
      "source": [
        "# train set\n",
        "X_train = all_data[all_data['date_block_num']<33].drop(['target','target_shop','target_item','shop_id-item_id'],axis=1)\n",
        "y_train = all_data[all_data['date_block_num']<33]['target']\n",
        "print('X_train shape: ',X_train.shape)\n",
        "print('y_train shape: ',y_train.shape)"
      ],
      "execution_count": 73,
      "outputs": [
        {
          "output_type": "stream",
          "text": [
            "X_train shape:  (6171626, 59)\n",
            "y_train shape:  (6171626,)\n"
          ],
          "name": "stdout"
        }
      ]
    },
    {
      "cell_type": "code",
      "metadata": {
        "colab": {
          "base_uri": "https://localhost:8080/"
        },
        "id": "aUBRXC7WwYXN",
        "outputId": "c834e177-c01e-48b3-e5a6-2e3291e53bad"
      },
      "source": [
        "# validation set\n",
        "X_val = all_data[all_data['date_block_num']==33].drop(['target','target_shop','target_item','shop_id-item_id'],axis=1)\n",
        "y_val = all_data[all_data['date_block_num']==33]['target']\n",
        "print('X_val shape: ',X_val.shape)\n",
        "print('y_val shape: ',y_val.shape)"
      ],
      "execution_count": 74,
      "outputs": [
        {
          "output_type": "stream",
          "text": [
            "X_val shape:  (238172, 59)\n",
            "y_val shape:  (238172,)\n"
          ],
          "name": "stdout"
        }
      ]
    },
    {
      "cell_type": "code",
      "metadata": {
        "colab": {
          "base_uri": "https://localhost:8080/"
        },
        "id": "Ulcu75c2Ql2g",
        "outputId": "cbecaa89-f2d5-488b-e094-054d433bbf4d"
      },
      "source": [
        "# test set\n",
        "X_test = all_data[all_data['date_block_num']==34].drop(['target','target_shop','target_item','shop_id-item_id'],axis=1)\n",
        "print('X_test shape: ',X_test.shape)"
      ],
      "execution_count": 75,
      "outputs": [
        {
          "output_type": "stream",
          "text": [
            "X_test shape:  (214200, 59)\n"
          ],
          "name": "stdout"
        }
      ]
    },
    {
      "cell_type": "code",
      "metadata": {
        "colab": {
          "base_uri": "https://localhost:8080/"
        },
        "id": "wNTT73RXCkyJ",
        "outputId": "27475f77-3238-4668-89c8-b95c680b107b"
      },
      "source": [
        "del all_data\n",
        "gc.collect()"
      ],
      "execution_count": 76,
      "outputs": [
        {
          "output_type": "execute_result",
          "data": {
            "text/plain": [
              "648"
            ]
          },
          "metadata": {
            "tags": []
          },
          "execution_count": 76
        }
      ]
    },
    {
      "cell_type": "markdown",
      "metadata": {
        "id": "5M7QwIMYUJYH"
      },
      "source": [
        "# Ensembling"
      ]
    },
    {
      "cell_type": "code",
      "metadata": {
        "id": "q5osTLnK8TGy"
      },
      "source": [
        "from xgboost import XGBRegressor\n",
        "from xgboost import plot_importance\n",
        "\n",
        "def plot_features(booster , features):\n",
        "    fig , ax = plt.subplots(1,1,figsize = (12,8))\n",
        "    return plot_importance(booster = booster , ax = ax)\n",
        "\n",
        "import time"
      ],
      "execution_count": 84,
      "outputs": []
    },
    {
      "cell_type": "code",
      "metadata": {
        "colab": {
          "base_uri": "https://localhost:8080/"
        },
        "id": "pAUO3kzU776l",
        "outputId": "9a4b5719-9487-4ee7-a459-ce6ddf43532a"
      },
      "source": [
        "#implementing xgboost ~\n",
        "\n",
        "ts = time.time()\n",
        "\n",
        "model = XGBRegressor(\n",
        "    max_depth=9,\n",
        "    n_estimators=500,\n",
        "    min_child_weight=300, \n",
        "    colsample_bytree=0.8, \n",
        "    subsample=0.8, \n",
        "    eta=0.3,    \n",
        "    random_state=42,\n",
        "    n_jobs=-1)\n",
        "\n",
        "model.fit(\n",
        "    X_train.values, \n",
        "    y_train.values, \n",
        "    eval_metric=\"rmse\", \n",
        "    eval_set=[(X_train.values, y_train.values), (X_val.values, y_val.values)], \n",
        "    verbose=True, \n",
        "    early_stopping_rounds = 10)\n",
        "\n",
        "time.time() - ts"
      ],
      "execution_count": 79,
      "outputs": [
        {
          "output_type": "stream",
          "text": [
            "[18:05:48] WARNING: /workspace/src/objective/regression_obj.cu:152: reg:linear is now deprecated in favor of reg:squarederror.\n",
            "[18:05:48] WARNING: /workspace/src/learner.cc:686: Tree method is automatically selected to be 'approx' for faster speed. To use old behavior (exact greedy algorithm on single machine), set tree_method to 'exact'.\n",
            "[0]\tvalidation_0-rmse:3.43438\tvalidation_1-rmse:2.60006\n",
            "Multiple eval metrics have been passed: 'validation_1-rmse' will be used for early stopping.\n",
            "\n",
            "Will train until validation_1-rmse hasn't improved in 10 rounds.\n",
            "[1]\tvalidation_0-rmse:3.34601\tvalidation_1-rmse:2.522\n",
            "[2]\tvalidation_0-rmse:3.26516\tvalidation_1-rmse:2.43861\n",
            "[3]\tvalidation_0-rmse:3.19472\tvalidation_1-rmse:2.37218\n",
            "[4]\tvalidation_0-rmse:3.13051\tvalidation_1-rmse:2.31108\n",
            "[5]\tvalidation_0-rmse:3.08332\tvalidation_1-rmse:2.26557\n",
            "[6]\tvalidation_0-rmse:3.03633\tvalidation_1-rmse:2.22181\n",
            "[7]\tvalidation_0-rmse:3.00027\tvalidation_1-rmse:2.20062\n",
            "[8]\tvalidation_0-rmse:2.96914\tvalidation_1-rmse:2.18425\n",
            "[9]\tvalidation_0-rmse:2.93899\tvalidation_1-rmse:2.158\n",
            "[10]\tvalidation_0-rmse:2.91867\tvalidation_1-rmse:2.14015\n",
            "[11]\tvalidation_0-rmse:2.8974\tvalidation_1-rmse:2.12417\n",
            "[12]\tvalidation_0-rmse:2.87278\tvalidation_1-rmse:2.10683\n",
            "[13]\tvalidation_0-rmse:2.85614\tvalidation_1-rmse:2.09346\n",
            "[14]\tvalidation_0-rmse:2.84043\tvalidation_1-rmse:2.08863\n",
            "[15]\tvalidation_0-rmse:2.82755\tvalidation_1-rmse:2.0824\n",
            "[16]\tvalidation_0-rmse:2.81385\tvalidation_1-rmse:2.07165\n",
            "[17]\tvalidation_0-rmse:2.79979\tvalidation_1-rmse:2.0626\n",
            "[18]\tvalidation_0-rmse:2.7847\tvalidation_1-rmse:2.05513\n",
            "[19]\tvalidation_0-rmse:2.77272\tvalidation_1-rmse:2.04608\n",
            "[20]\tvalidation_0-rmse:2.76193\tvalidation_1-rmse:2.03996\n",
            "[21]\tvalidation_0-rmse:2.75235\tvalidation_1-rmse:2.03455\n",
            "[22]\tvalidation_0-rmse:2.74209\tvalidation_1-rmse:2.02512\n",
            "[23]\tvalidation_0-rmse:2.73174\tvalidation_1-rmse:2.01953\n",
            "[24]\tvalidation_0-rmse:2.72529\tvalidation_1-rmse:2.01843\n",
            "[25]\tvalidation_0-rmse:2.71538\tvalidation_1-rmse:2.01422\n",
            "[26]\tvalidation_0-rmse:2.70815\tvalidation_1-rmse:2.01247\n",
            "[27]\tvalidation_0-rmse:2.70073\tvalidation_1-rmse:2.01225\n",
            "[28]\tvalidation_0-rmse:2.69406\tvalidation_1-rmse:2.00536\n",
            "[29]\tvalidation_0-rmse:2.68707\tvalidation_1-rmse:2.00223\n",
            "[30]\tvalidation_0-rmse:2.68087\tvalidation_1-rmse:2.00216\n",
            "[31]\tvalidation_0-rmse:2.672\tvalidation_1-rmse:1.99625\n",
            "[32]\tvalidation_0-rmse:2.66672\tvalidation_1-rmse:1.99726\n",
            "[33]\tvalidation_0-rmse:2.66149\tvalidation_1-rmse:1.99549\n",
            "[34]\tvalidation_0-rmse:2.65676\tvalidation_1-rmse:1.99738\n",
            "[35]\tvalidation_0-rmse:2.64983\tvalidation_1-rmse:1.99611\n",
            "[36]\tvalidation_0-rmse:2.64765\tvalidation_1-rmse:1.9982\n",
            "[37]\tvalidation_0-rmse:2.64483\tvalidation_1-rmse:1.99875\n",
            "[38]\tvalidation_0-rmse:2.63989\tvalidation_1-rmse:1.99915\n",
            "[39]\tvalidation_0-rmse:2.63316\tvalidation_1-rmse:1.99443\n",
            "[40]\tvalidation_0-rmse:2.6289\tvalidation_1-rmse:2.00188\n",
            "[41]\tvalidation_0-rmse:2.6256\tvalidation_1-rmse:2.0003\n",
            "[42]\tvalidation_0-rmse:2.62295\tvalidation_1-rmse:2.00084\n",
            "[43]\tvalidation_0-rmse:2.6203\tvalidation_1-rmse:2.00189\n",
            "[44]\tvalidation_0-rmse:2.61454\tvalidation_1-rmse:2.00412\n",
            "[45]\tvalidation_0-rmse:2.60852\tvalidation_1-rmse:1.99961\n",
            "[46]\tvalidation_0-rmse:2.60495\tvalidation_1-rmse:1.99863\n",
            "[47]\tvalidation_0-rmse:2.59977\tvalidation_1-rmse:1.99506\n",
            "[48]\tvalidation_0-rmse:2.59752\tvalidation_1-rmse:1.99456\n",
            "[49]\tvalidation_0-rmse:2.59399\tvalidation_1-rmse:1.99282\n",
            "[50]\tvalidation_0-rmse:2.59204\tvalidation_1-rmse:1.99093\n",
            "[51]\tvalidation_0-rmse:2.58846\tvalidation_1-rmse:1.99209\n",
            "[52]\tvalidation_0-rmse:2.58629\tvalidation_1-rmse:1.99293\n",
            "[53]\tvalidation_0-rmse:2.58229\tvalidation_1-rmse:1.99212\n",
            "[54]\tvalidation_0-rmse:2.57845\tvalidation_1-rmse:1.9889\n",
            "[55]\tvalidation_0-rmse:2.57632\tvalidation_1-rmse:1.98967\n",
            "[56]\tvalidation_0-rmse:2.57209\tvalidation_1-rmse:1.98633\n",
            "[57]\tvalidation_0-rmse:2.56851\tvalidation_1-rmse:1.98357\n",
            "[58]\tvalidation_0-rmse:2.56434\tvalidation_1-rmse:1.9813\n",
            "[59]\tvalidation_0-rmse:2.5579\tvalidation_1-rmse:1.97704\n",
            "[60]\tvalidation_0-rmse:2.55583\tvalidation_1-rmse:1.97756\n",
            "[61]\tvalidation_0-rmse:2.55288\tvalidation_1-rmse:1.97688\n",
            "[62]\tvalidation_0-rmse:2.5487\tvalidation_1-rmse:1.97291\n",
            "[63]\tvalidation_0-rmse:2.54585\tvalidation_1-rmse:1.97161\n",
            "[64]\tvalidation_0-rmse:2.54184\tvalidation_1-rmse:1.97427\n",
            "[65]\tvalidation_0-rmse:2.5399\tvalidation_1-rmse:1.97148\n",
            "[66]\tvalidation_0-rmse:2.53812\tvalidation_1-rmse:1.97012\n",
            "[67]\tvalidation_0-rmse:2.53508\tvalidation_1-rmse:1.96959\n",
            "[68]\tvalidation_0-rmse:2.53151\tvalidation_1-rmse:1.97074\n",
            "[69]\tvalidation_0-rmse:2.5287\tvalidation_1-rmse:1.96861\n",
            "[70]\tvalidation_0-rmse:2.52545\tvalidation_1-rmse:1.96596\n",
            "[71]\tvalidation_0-rmse:2.52286\tvalidation_1-rmse:1.96467\n",
            "[72]\tvalidation_0-rmse:2.52169\tvalidation_1-rmse:1.96577\n",
            "[73]\tvalidation_0-rmse:2.51948\tvalidation_1-rmse:1.96605\n",
            "[74]\tvalidation_0-rmse:2.51453\tvalidation_1-rmse:1.96964\n",
            "[75]\tvalidation_0-rmse:2.51092\tvalidation_1-rmse:1.9672\n",
            "[76]\tvalidation_0-rmse:2.50964\tvalidation_1-rmse:1.96888\n",
            "[77]\tvalidation_0-rmse:2.5063\tvalidation_1-rmse:1.9687\n",
            "[78]\tvalidation_0-rmse:2.50281\tvalidation_1-rmse:1.96684\n",
            "[79]\tvalidation_0-rmse:2.50068\tvalidation_1-rmse:1.96922\n",
            "[80]\tvalidation_0-rmse:2.49751\tvalidation_1-rmse:1.96981\n",
            "[81]\tvalidation_0-rmse:2.49437\tvalidation_1-rmse:1.96766\n",
            "Stopping. Best iteration:\n",
            "[71]\tvalidation_0-rmse:2.52286\tvalidation_1-rmse:1.96467\n",
            "\n"
          ],
          "name": "stdout"
        },
        {
          "output_type": "execute_result",
          "data": {
            "text/plain": [
              "2210.1449072360992"
            ]
          },
          "metadata": {
            "tags": []
          },
          "execution_count": 79
        }
      ]
    },
    {
      "cell_type": "code",
      "metadata": {
        "id": "lvZqyAdLm7nJ"
      },
      "source": [
        "# submission file~\n",
        "\n",
        "XGB_pred = model.predict(X_test.values).clip(0, 20)\n",
        "\n",
        "submission = pd.DataFrame({\n",
        "    \"ID\": test_ID, \n",
        "    \"item_cnt_month\": XGB_pred\n",
        "})\n",
        "submission.to_csv('submission_v1.3', index=False)"
      ],
      "execution_count": 80,
      "outputs": []
    }
  ]
}